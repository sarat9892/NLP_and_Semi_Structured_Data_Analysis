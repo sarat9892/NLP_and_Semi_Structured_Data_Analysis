{
 "cells": [
  {
   "cell_type": "markdown",
   "metadata": {},
   "source": [
    "# Assignment 1 for FIT5212, Semester 1, 2020\n",
    "\n",
    "**Student Name:**  Sarat Chandra Karasala\n",
    "\n",
    "**Student ID:**    30098831"
   ]
  },
  {
   "cell_type": "markdown",
   "metadata": {},
   "source": [
    "## Part 1:  Text Classification\n",
    "\n",
    "Pre Processing"
   ]
  },
  {
   "cell_type": "code",
   "execution_count": 2,
   "metadata": {},
   "outputs": [],
   "source": [
    "import pandas as pd\n",
    "import numpy as np\n",
    "import nltk\n",
    "from nltk.corpus import stopwords\n",
    "from collections import Counter\n",
    "import re\n",
    "\n",
    "from nltk.tokenize import RegexpTokenizer\n",
    "from gensim.models import LdaModel\n",
    "\n",
    "import torch.optim as optim\n",
    "import torch.nn as nn\n",
    "\n",
    "import torch\n",
    "from torchtext import data\n",
    "from torchtext.data import TabularDataset\n",
    "\n",
    "from sklearn.metrics import precision_score, recall_score, f1_score, accuracy_score, confusion_matrix, matthews_corrcoef\n",
    "import numpy as np\n",
    "\n",
    "\n",
    "from gensim.models import Phrases\n",
    "from gensim.corpora import Dictionary\n",
    "\n",
    "from sklearn.model_selection import cross_val_score\n",
    "import seaborn as sns\n",
    "import matplotlib.pyplot as plt\n",
    "\n",
    "\n",
    "from pprint import pprint\n",
    "import time\n",
    "\n",
    "import pickle\n",
    "\n",
    "from gensim.models import LdaModel\n",
    "import pyLDAvis.gensim\n",
    "\n",
    "import spacy\n",
    "from nltk.stem import WordNetLemmatizer\n",
    "from nltk import word_tokenize\n",
    "\n",
    "from sklearn.feature_extraction.text import TfidfVectorizer, CountVectorizer\n",
    "\n",
    "from sklearn.linear_model import LogisticRegression\n",
    "from sklearn.metrics import precision_score, recall_score, f1_score, accuracy_score, confusion_matrix, matthews_corrcoef, plot_confusion_matrix\n",
    "from sklearn.naive_bayes import MultinomialNB, GaussianNB,BernoulliNB\n",
    "from sklearn.svm import LinearSVC, SVC\n",
    "from sklearn.ensemble import RandomForestClassifier"
   ]
  },
  {
   "cell_type": "code",
   "execution_count": 3,
   "metadata": {},
   "outputs": [],
   "source": [
    "training_DS = pd.read_csv('axcs_train.csv', usecols = ['InfoTheory', 'CompVis', 'Math', 'Abstract'])\n",
    "testing_DS = pd.read_csv('axcs_test.csv', usecols = ['InfoTheory', 'CompVis', 'Math', 'Abstract'])"
   ]
  },
  {
   "cell_type": "markdown",
   "metadata": {},
   "source": [
    "### Checking for NULLS"
   ]
  },
  {
   "cell_type": "code",
   "execution_count": 4,
   "metadata": {},
   "outputs": [
    {
     "name": "stdout",
     "output_type": "stream",
     "text": [
      "(54731, 4)\n"
     ]
    },
    {
     "data": {
      "text/plain": [
       "InfoTheory    0\n",
       "CompVis       0\n",
       "Math          0\n",
       "Abstract      0\n",
       "dtype: int64"
      ]
     },
     "execution_count": 4,
     "metadata": {},
     "output_type": "execute_result"
    }
   ],
   "source": [
    "# training_DS.describe()\n",
    "print(training_DS.shape)\n",
    "training_DS.isnull().sum(axis = 0)"
   ]
  },
  {
   "cell_type": "code",
   "execution_count": 5,
   "metadata": {},
   "outputs": [
    {
     "name": "stdout",
     "output_type": "stream",
     "text": [
      "(19679, 4)\n"
     ]
    },
    {
     "data": {
      "text/plain": [
       "InfoTheory    1\n",
       "CompVis       1\n",
       "Math          1\n",
       "Abstract      1\n",
       "dtype: int64"
      ]
     },
     "execution_count": 5,
     "metadata": {},
     "output_type": "execute_result"
    }
   ],
   "source": [
    "# teseting_DS.describe()\n",
    "print(testing_DS.shape)\n",
    "testing_DS.isnull().sum(axis = 0)"
   ]
  },
  {
   "cell_type": "code",
   "execution_count": 6,
   "metadata": {},
   "outputs": [],
   "source": [
    "temp_display = testing_DS[testing_DS.isna().any(axis=1)]"
   ]
  },
  {
   "cell_type": "markdown",
   "metadata": {},
   "source": [
    "### Removing NULLs"
   ]
  },
  {
   "cell_type": "code",
   "execution_count": 7,
   "metadata": {},
   "outputs": [
    {
     "data": {
      "text/html": [
       "<div>\n",
       "<style scoped>\n",
       "    .dataframe tbody tr th:only-of-type {\n",
       "        vertical-align: middle;\n",
       "    }\n",
       "\n",
       "    .dataframe tbody tr th {\n",
       "        vertical-align: top;\n",
       "    }\n",
       "\n",
       "    .dataframe thead th {\n",
       "        text-align: right;\n",
       "    }\n",
       "</style>\n",
       "<table border=\"1\" class=\"dataframe\">\n",
       "  <thead>\n",
       "    <tr style=\"text-align: right;\">\n",
       "      <th></th>\n",
       "      <th>InfoTheory</th>\n",
       "      <th>CompVis</th>\n",
       "      <th>Math</th>\n",
       "      <th>Abstract</th>\n",
       "    </tr>\n",
       "  </thead>\n",
       "  <tbody>\n",
       "    <tr>\n",
       "      <th>19619</th>\n",
       "      <td>NaN</td>\n",
       "      <td>NaN</td>\n",
       "      <td>NaN</td>\n",
       "      <td>NaN</td>\n",
       "    </tr>\n",
       "  </tbody>\n",
       "</table>\n",
       "</div>"
      ],
      "text/plain": [
       "       InfoTheory  CompVis  Math Abstract\n",
       "19619         NaN      NaN   NaN      NaN"
      ]
     },
     "execution_count": 7,
     "metadata": {},
     "output_type": "execute_result"
    }
   ],
   "source": [
    "temp_display.head()"
   ]
  },
  {
   "cell_type": "code",
   "execution_count": 8,
   "metadata": {},
   "outputs": [],
   "source": [
    "testing_DS = testing_DS.dropna(how = 'any')"
   ]
  },
  {
   "cell_type": "code",
   "execution_count": 9,
   "metadata": {},
   "outputs": [
    {
     "name": "stdout",
     "output_type": "stream",
     "text": [
      "(19678, 4)\n"
     ]
    },
    {
     "data": {
      "text/plain": [
       "InfoTheory    0\n",
       "CompVis       0\n",
       "Math          0\n",
       "Abstract      0\n",
       "dtype: int64"
      ]
     },
     "execution_count": 9,
     "metadata": {},
     "output_type": "execute_result"
    }
   ],
   "source": [
    "# teseting_DS.describe()\n",
    "print(testing_DS.shape)\n",
    "testing_DS.isnull().sum(axis = 0)"
   ]
  },
  {
   "cell_type": "markdown",
   "metadata": {},
   "source": [
    "### Step 1"
   ]
  },
  {
   "cell_type": "markdown",
   "metadata": {},
   "source": [
    "#### Creating the Lemmatizer classes for later use"
   ]
  },
  {
   "cell_type": "code",
   "execution_count": 10,
   "metadata": {},
   "outputs": [],
   "source": [
    "nlp = spacy.load('en_core_web_sm', disable=['parser', 'ner'])\n",
    "\n",
    "class LemmaTokenizerSpacy(object):        \n",
    "    def __call__(self,doc):\n",
    "        trydoc = nlp(doc)\n",
    "        return [token.lemma_ for token in trydoc]\n",
    "    \n",
    "    \n",
    "class LemmaTokenizer(object):\n",
    "    def __init__(self):\n",
    "        self.wnl=WordNetLemmatizer()\n",
    "    def __call__(self,doc):\n",
    "        return [self.wnl.lemmatize(t) for t in word_tokenize(doc)]"
   ]
  },
  {
   "cell_type": "markdown",
   "metadata": {},
   "source": [
    "##### Creating the training lists"
   ]
  },
  {
   "cell_type": "code",
   "execution_count": 11,
   "metadata": {},
   "outputs": [],
   "source": [
    "training_abstract_list = training_DS['Abstract'].tolist()\n",
    "\n",
    "training_infotheory_list = training_DS['InfoTheory'].tolist()\n",
    "training_compvis_list = training_DS['CompVis'].tolist()\n",
    "training_math_list = training_DS['Math'].tolist()"
   ]
  },
  {
   "cell_type": "markdown",
   "metadata": {},
   "source": [
    "#### Testing lists"
   ]
  },
  {
   "cell_type": "code",
   "execution_count": 12,
   "metadata": {},
   "outputs": [],
   "source": [
    "testing_abstract_list = testing_DS['Abstract'].tolist()\n",
    "\n",
    "testing_infotheory_list = testing_DS['InfoTheory'].tolist()\n",
    "testing_compvis_list = testing_DS['CompVis'].tolist()\n",
    "testing_math_list = testing_DS['Math'].tolist()"
   ]
  },
  {
   "cell_type": "markdown",
   "metadata": {},
   "source": [
    "#### Remove Stop words"
   ]
  },
  {
   "cell_type": "code",
   "execution_count": 13,
   "metadata": {},
   "outputs": [],
   "source": [
    "# len(training_abstract_list)\n",
    "\n",
    "training_abstract_array = np.asarray(training_abstract_list)\n",
    "testing_abstract_array = np.asarray(testing_abstract_list)"
   ]
  },
  {
   "cell_type": "markdown",
   "metadata": {},
   "source": [
    "#### Loading the stop words from NLTK"
   ]
  },
  {
   "cell_type": "code",
   "execution_count": 14,
   "metadata": {},
   "outputs": [],
   "source": [
    "stop_words_en = set(stopwords.words('english'))\n",
    "stop_words_en = Counter(stop_words_en)"
   ]
  },
  {
   "cell_type": "markdown",
   "metadata": {},
   "source": [
    "#### Removing stop words and any characters other than alphabets and spaces"
   ]
  },
  {
   "cell_type": "code",
   "execution_count": 15,
   "metadata": {},
   "outputs": [],
   "source": [
    "for i, txt in enumerate(training_abstract_array):\n",
    "    \n",
    "    temp = re.sub(r'[^a-zA-Z ]', '', str(txt))\n",
    "    \n",
    "    training_abstract_array[i] = ' '.join([word for word in temp.lower().split() if word not in stop_words_en])\n",
    "    "
   ]
  },
  {
   "cell_type": "code",
   "execution_count": 16,
   "metadata": {},
   "outputs": [],
   "source": [
    "for i, txt in enumerate(testing_abstract_array):\n",
    "    \n",
    "    temp = re.sub(r'[^a-zA-Z ]', '', str(txt))\n",
    "    \n",
    "    testing_abstract_array[i] = ' '.join([word for word in temp.lower().split() if word not in stop_words_en])\n",
    "    "
   ]
  },
  {
   "cell_type": "code",
   "execution_count": 17,
   "metadata": {},
   "outputs": [],
   "source": [
    "training_abstract_list = training_abstract_array.tolist()\n",
    "testing_abstract_list = testing_abstract_array.tolist()"
   ]
  },
  {
   "cell_type": "markdown",
   "metadata": {},
   "source": [
    "#### Updating the datasets"
   ]
  },
  {
   "cell_type": "code",
   "execution_count": 18,
   "metadata": {},
   "outputs": [],
   "source": [
    "testing_DS['Abstract'] = testing_abstract_list\n",
    "training_DS['Abstract'] = training_abstract_list"
   ]
  },
  {
   "cell_type": "markdown",
   "metadata": {},
   "source": [
    "#### Writing the clean files for RNN"
   ]
  },
  {
   "cell_type": "code",
   "execution_count": 19,
   "metadata": {},
   "outputs": [],
   "source": [
    "training_DS.to_csv('axcs_train_clean.csv', index = False)\n",
    "testing_DS.to_csv('axcs_test_clean.csv', index = False)"
   ]
  },
  {
   "cell_type": "markdown",
   "metadata": {},
   "source": [
    "### Part 1: Neural Network Method\n",
    "\n",
    "Details of method"
   ]
  },
  {
   "cell_type": "code",
   "execution_count": 21,
   "metadata": {},
   "outputs": [],
   "source": [
    "# It is better to start with a constant seed of random number generation so that experimenting with the code is easier\n",
    "SEED = 1234\n",
    "torch.manual_seed(SEED)\n",
    "torch.backends.cudnn.deterministic = True\n",
    "\n",
    "# Defining the Field objects that hold the text and label data\n",
    "TEXT = data.Field(sequential=True, tokenize = LemmaTokenizerSpacy(), lower=True)\n",
    "LABEL = data.LabelField(dtype = torch.float, use_vocab = False)"
   ]
  },
  {
   "cell_type": "code",
   "execution_count": 22,
   "metadata": {},
   "outputs": [],
   "source": [
    "# Assigning the Data Fields to the columns we have in our corpus\n",
    "datafields = [('InfoTheory', LABEL), ('CompVis', LABEL), ('Math', LABEL), ('Abstract', TEXT)]"
   ]
  },
  {
   "cell_type": "code",
   "execution_count": 23,
   "metadata": {},
   "outputs": [],
   "source": [
    "# Splitting the entire corpus into Training and Testing samples\n",
    "# We are using the cleaned up csv files created above\n",
    "train_data, test_data = TabularDataset.splits(path = '', train = 'axcs_train_clean.csv', test = 'axcs_test_clean.csv', format='csv',\n",
    "    skip_header = True, fields = datafields)"
   ]
  },
  {
   "cell_type": "code",
   "execution_count": 24,
   "metadata": {},
   "outputs": [
    {
     "name": "stdout",
     "output_type": "stream",
     "text": [
      "Number of training examples: 54731\n",
      "Number of testing examples: 19678\n"
     ]
    }
   ],
   "source": [
    "print(f'Number of training examples: {len(train_data)}')\n",
    "print(f'Number of testing examples: {len(test_data)}')"
   ]
  },
  {
   "cell_type": "code",
   "execution_count": null,
   "metadata": {},
   "outputs": [],
   "source": [
    "# print(vars(train_data.examples[11]))"
   ]
  },
  {
   "cell_type": "code",
   "execution_count": 25,
   "metadata": {},
   "outputs": [],
   "source": [
    "# Specifying the maximum vocab size to keep the number of computations reasonalby short\n",
    "MAX_VOCAB_SIZE = 7500\n",
    "\n",
    "TEXT.build_vocab(train_data, max_size = MAX_VOCAB_SIZE)\n",
    "#LABEL.build_vocab(train_data)"
   ]
  },
  {
   "cell_type": "code",
   "execution_count": 26,
   "metadata": {},
   "outputs": [
    {
     "name": "stdout",
     "output_type": "stream",
     "text": [
      "Unique tokens in TEXT vocabulary: 7502\n"
     ]
    }
   ],
   "source": [
    "print(f\"Unique tokens in TEXT vocabulary: {len(TEXT.vocab)}\")"
   ]
  },
  {
   "cell_type": "code",
   "execution_count": 27,
   "metadata": {},
   "outputs": [
    {
     "name": "stdout",
     "output_type": "stream",
     "text": [
      "[('use', 48308), ('network', 37704), ('problem', 34171), ('algorithm', 34062), ('model', 33678), ('system', 33366), ('paper', 30396), ('show', 29747), ('result', 27118), ('propose', 25549), ('base', 22949), ('method', 22828), ('code', 20422), ('datum', 19917), ('approach', 18599), ('set', 18590), ('present', 18522), ('information', 18279), ('channel', 18204), ('time', 17971)]\n"
     ]
    }
   ],
   "source": [
    "print(TEXT.vocab.freqs.most_common(20))"
   ]
  },
  {
   "cell_type": "code",
   "execution_count": 28,
   "metadata": {},
   "outputs": [],
   "source": [
    "BATCH_SIZE = 8\n",
    "\n",
    "# CUDA is a parallel computing platform by Nvidia that we can use to significantly speed up the process\n",
    "device = torch.device('cuda' if torch.cuda.is_available() else 'cpu')\n",
    "\n",
    "# Creating the Iterator objects\n",
    "# This is where the word tensors are created\n",
    "train_iterator, test_iterator = data.BucketIterator.splits(\n",
    "    \n",
    "    (train_data, test_data), \n",
    "    batch_size = BATCH_SIZE,\n",
    "    device = device,\n",
    "    sort_key = lambda x: len(x.Abstract),\n",
    "    sort_within_batch = False)"
   ]
  },
  {
   "cell_type": "code",
   "execution_count": 29,
   "metadata": {},
   "outputs": [],
   "source": [
    "# Creating a batch object that iterates over the iterator objects created above\n",
    "batch = next(train_iterator.__iter__())"
   ]
  },
  {
   "cell_type": "markdown",
   "metadata": {},
   "source": [
    "### Building the RNN"
   ]
  },
  {
   "cell_type": "code",
   "execution_count": 30,
   "metadata": {},
   "outputs": [],
   "source": [
    "# This is where the one hot vectors of words are transformed into much smaller dense vectors where each value is a real number\n",
    "\n",
    "class RNN(nn.Module):\n",
    "    def __init__(self, input_dim, embedding_dim, hidden_dim, output_dim):\n",
    "        \n",
    "        super().__init__()\n",
    "        \n",
    "        self.embedding = nn.Embedding(input_dim, embedding_dim)\n",
    "        \n",
    "        self.rnn = nn.RNN(embedding_dim, hidden_dim)\n",
    "        \n",
    "        self.fc = nn.Linear(hidden_dim, output_dim)\n",
    "        \n",
    "    def forward(self, text):\n",
    "\n",
    "        #text = [sent len, batch size]\n",
    "        \n",
    "        embedded = self.embedding(text)\n",
    "        \n",
    "        #embedded = [sent len, batch size, emb dim]\n",
    "        \n",
    "        output, hidden = self.rnn(embedded)\n",
    "        \n",
    "        #output = [sent len, batch size, hid dim]\n",
    "        #hidden = [1, batch size, hid dim]\n",
    "        \n",
    "        assert torch.equal(output[-1,:,:], hidden.squeeze(0))\n",
    "        \n",
    "        return self.fc(hidden.squeeze(0))"
   ]
  },
  {
   "cell_type": "markdown",
   "metadata": {},
   "source": [
    "#### Initializing our RNN Model with the given parameters"
   ]
  },
  {
   "cell_type": "code",
   "execution_count": 31,
   "metadata": {},
   "outputs": [],
   "source": [
    "INPUT_DIM = len(TEXT.vocab)\n",
    "EMBEDDING_DIM = 100\n",
    "HIDDEN_DIM = 300\n",
    "OUTPUT_DIM = 1\n",
    "\n",
    "model = RNN(INPUT_DIM, EMBEDDING_DIM, HIDDEN_DIM, OUTPUT_DIM)"
   ]
  },
  {
   "cell_type": "code",
   "execution_count": 31,
   "metadata": {},
   "outputs": [
    {
     "name": "stdout",
     "output_type": "stream",
     "text": [
      "The model has 871,101 trainable parameters\n"
     ]
    }
   ],
   "source": [
    "# def count_parameters(model):\n",
    "#     return sum(p.numel() for p in model.parameters() if p.requires_grad)\n",
    "\n",
    "# print(f'The model has {count_parameters(model):,} trainable parameters')"
   ]
  },
  {
   "cell_type": "code",
   "execution_count": 32,
   "metadata": {},
   "outputs": [],
   "source": [
    "# Initializing an Optimizer Object for the Gradient Descent process\n",
    "# We're using ADAM. An improvement of the SGD algorithm\n",
    "import torch.optim as optim\n",
    "optimizer = optim.Adam(model.parameters(), lr=1e-3)\n",
    "\n",
    "# Initializing the Loss Function\n",
    "criterion = nn.BCEWithLogitsLoss()"
   ]
  },
  {
   "cell_type": "markdown",
   "metadata": {},
   "source": [
    "#### Assigning the model to the CUDA device"
   ]
  },
  {
   "cell_type": "code",
   "execution_count": 33,
   "metadata": {},
   "outputs": [],
   "source": [
    "model = model.to(device)\n",
    "criterion = criterion.to(device)"
   ]
  },
  {
   "cell_type": "code",
   "execution_count": 34,
   "metadata": {},
   "outputs": [],
   "source": [
    "# A simple accuracy calculator\n",
    "\n",
    "def binary_accuracy(preds, y):\n",
    "    \n",
    "    #round predictions to the closest integer\n",
    "    rounded_preds = torch.round(torch.sigmoid(preds))\n",
    "    correct = (rounded_preds == y).float() #convert into float for division \n",
    "    acc = correct.sum() / len(correct)\n",
    "    return acc"
   ]
  },
  {
   "cell_type": "code",
   "execution_count": 35,
   "metadata": {},
   "outputs": [],
   "source": [
    "# Just a counter that returns the runtime in minutes and seconds\n",
    "\n",
    "def epoch_time(start_time, end_time):\n",
    "    elapsed_time = end_time - start_time\n",
    "    elapsed_mins = int(elapsed_time / 60)\n",
    "    elapsed_secs = int(elapsed_time - (elapsed_mins * 60))\n",
    "    return elapsed_mins, elapsed_secs"
   ]
  },
  {
   "cell_type": "code",
   "execution_count": 36,
   "metadata": {},
   "outputs": [],
   "source": [
    "# This function uses the model, iterator, optimizer and the loss function objects we created above\n",
    "# The one hot encoded vectors are transformed into dense word embeddings by the RNN\n",
    "\n",
    "def train(model, iterator, optimizer, criterion, category):\n",
    "    \n",
    "    epoch_loss = 0\n",
    "    epoch_acc = 0\n",
    "    \n",
    "    model.train()\n",
    "    \n",
    "    for batch in iterator:\n",
    "        \n",
    "        optimizer.zero_grad()\n",
    "                \n",
    "        predictions = model(batch.Abstract).squeeze(1)\n",
    "        \n",
    "        if category == 'InfoTheory':\n",
    "            \n",
    "            loss = criterion(predictions, batch.InfoTheory)\n",
    "            acc = binary_accuracy(predictions, batch.InfoTheory)\n",
    "            \n",
    "        if category == 'CompVis':\n",
    "            \n",
    "            loss = criterion(predictions, batch.CompVis)\n",
    "            acc = binary_accuracy(predictions, batch.CompVis)\n",
    "\n",
    "        if category == 'Math':\n",
    "            \n",
    "            loss = criterion(predictions, batch.Math)\n",
    "            acc = binary_accuracy(predictions, batch.Math)\n",
    "\n",
    "        \n",
    "        loss.backward()\n",
    "        \n",
    "        optimizer.step()\n",
    "        \n",
    "        epoch_loss += loss.item()\n",
    "        epoch_acc += acc.item()\n",
    "        \n",
    "    return epoch_loss / len(iterator), epoch_acc / len(iterator)\n"
   ]
  },
  {
   "cell_type": "code",
   "execution_count": 37,
   "metadata": {},
   "outputs": [],
   "source": [
    "# Function for evaluating the Testing Accuracy\n",
    "\n",
    "def evaluate(model, iterator, criterion, category):\n",
    "    \n",
    "    epoch_loss = 0\n",
    "    epoch_acc = 0\n",
    "    \n",
    "    model.eval()\n",
    "    \n",
    "    with torch.no_grad():\n",
    "    \n",
    "        for batch in iterator:\n",
    "\n",
    "            predictions = model(batch.Abstract).squeeze(1)\n",
    "            \n",
    "            if category == 'InfoTheory':\n",
    "                \n",
    "                loss = criterion(predictions, batch.InfoTheory)\n",
    "                acc = binary_accuracy(predictions, batch.InfoTheory)\n",
    "                \n",
    "            if category == 'CompVis':\n",
    "                \n",
    "                loss = criterion(predictions, batch.CompVis)\n",
    "                acc = binary_accuracy(predictions, batch.CompVis)\n",
    "                \n",
    "            if category == 'Math':\n",
    "                \n",
    "                loss = criterion(predictions, batch.Math)\n",
    "                acc = binary_accuracy(predictions, batch.Math)\n",
    "\n",
    "            epoch_loss += loss.item()\n",
    "            epoch_acc += acc.item()\n",
    "        \n",
    "    return epoch_loss / len(iterator), epoch_acc / len(iterator)\n"
   ]
  },
  {
   "cell_type": "code",
   "execution_count": 39,
   "metadata": {},
   "outputs": [
    {
     "name": "stdout",
     "output_type": "stream",
     "text": [
      "LABEL: InfoTheory\n",
      "Epoch: 01 | Epoch Time: 2m 34s\n",
      "\tTrain Loss: 0.498 | Train Acc: 80.46%\n",
      "LABEL: CompVis\n",
      "Epoch: 01 | Epoch Time: 3m 7s\n",
      "\tTrain Loss: 0.176 | Train Acc: 95.85%\n",
      "LABEL: Math\n",
      "Epoch: 01 | Epoch Time: 3m 37s\n",
      "\tTrain Loss: 0.623 | Train Acc: 69.24%\n",
      "LABEL: InfoTheory\n",
      "Epoch: 02 | Epoch Time: 4m 16s\n",
      "\tTrain Loss: 0.477 | Train Acc: 81.34%\n",
      "LABEL: CompVis\n",
      "Epoch: 02 | Epoch Time: 3m 31s\n",
      "\tTrain Loss: 0.178 | Train Acc: 95.73%\n",
      "LABEL: Math\n",
      "Epoch: 02 | Epoch Time: 3m 29s\n",
      "\tTrain Loss: 0.619 | Train Acc: 69.67%\n",
      "LABEL: InfoTheory\n",
      "Epoch: 03 | Epoch Time: 3m 33s\n",
      "\tTrain Loss: 0.468 | Train Acc: 82.27%\n",
      "LABEL: CompVis\n",
      "Epoch: 03 | Epoch Time: 3m 13s\n",
      "\tTrain Loss: 0.181 | Train Acc: 95.62%\n",
      "LABEL: Math\n",
      "Epoch: 03 | Epoch Time: 2m 41s\n",
      "\tTrain Loss: 0.565 | Train Acc: 74.43%\n",
      "LABEL: InfoTheory\n",
      "Epoch: 04 | Epoch Time: 2m 18s\n",
      "\tTrain Loss: 0.322 | Train Acc: 88.38%\n",
      "LABEL: CompVis\n",
      "Epoch: 04 | Epoch Time: 2m 55s\n",
      "\tTrain Loss: 0.179 | Train Acc: 95.72%\n",
      "LABEL: Math\n",
      "Epoch: 04 | Epoch Time: 2m 44s\n",
      "\tTrain Loss: 0.567 | Train Acc: 73.53%\n"
     ]
    }
   ],
   "source": [
    "# Specifies the total number of times the RNN wil work through the entire corpus\n",
    "N_EPOCHS = 4\n",
    "\n",
    "categories = ['InfoTheory', 'CompVis', 'Math']\n",
    "\n",
    "for epoch in range(N_EPOCHS):\n",
    "    \n",
    "    for category in categories:\n",
    "        \n",
    "        start_time = time.time()\n",
    "\n",
    "        train_loss, train_acc = train(model, train_iterator, optimizer, criterion, category)\n",
    "\n",
    "        end_time = time.time()\n",
    "\n",
    "        epoch_mins, epoch_secs = epoch_time(start_time, end_time)\n",
    "\n",
    "# Saving 3 different models for the 3 categories\n",
    "        if category == 'InfoTheory':\n",
    "            \n",
    "            torch.save(model.state_dict(), 'RNN_InfoTheory_model.pt')\n",
    "            \n",
    "        if category == 'CompVis':\n",
    "            \n",
    "            torch.save(model.state_dict(), 'RNN_CompVis_model.pt')\n",
    "\n",
    "        if category == 'Math':\n",
    "            \n",
    "            torch.save(model.state_dict(), 'RNN_Math_model.pt')\n",
    "\n",
    "# Printing the Loss and Accuracy for each epoch        \n",
    "        print(f'LABEL: {category}')\n",
    "        print(f'Epoch: {epoch+1:02} | Epoch Time: {epoch_mins}m {epoch_secs}s')\n",
    "        print(f'\\tTrain Loss: {train_loss:.3f} | Train Acc: {train_acc*100:.2f}%')"
   ]
  },
  {
   "cell_type": "code",
   "execution_count": 50,
   "metadata": {},
   "outputs": [
    {
     "name": "stdout",
     "output_type": "stream",
     "text": [
      "\n",
      "InfoTheory\n",
      "[[15509   553]\n",
      " [ 1187  2429]]\n",
      "Accuracy: 0.9115763797133855\n",
      "Macro Precision: 0.871729558793425\n",
      "Macro Recall: 0.8186538191884765\n",
      "Macro F1 score:0.8415834632214587\n",
      "MCC:0.6883401589759883\n",
      "\n",
      "CompVis\n",
      "[[17509    17]\n",
      " [ 2079    73]]\n",
      "Accuracy: 0.8934851102754345\n",
      "Macro Precision: 0.8524873505320718\n",
      "Macro Recall: 0.5164759728191403\n",
      "Macro F1 score:0.5043228912514265\n",
      "MCC:0.15241485500379798\n",
      "\n",
      "Math\n",
      "[[12507  1241]\n",
      " [ 2865  3065]]\n",
      "Accuracy: 0.7913405833926213\n",
      "Macro Precision: 0.762709831025677\n",
      "Macro Recall: 0.7132978655549347\n",
      "Macro F1 score:0.7289319987847245\n",
      "MCC:0.4734361465628684\n"
     ]
    }
   ],
   "source": [
    "categories = ['InfoTheory', 'CompVis', 'Math']\n",
    "\n",
    "model.eval()\n",
    "\n",
    "with torch.no_grad():\n",
    "    \n",
    "    for category in categories:\n",
    "        \n",
    "        print('\\n' + category)\n",
    "        y_predict = []\n",
    "        y_test = []\n",
    "        \n",
    "        if category == 'InfoTheory':\n",
    "            model.load_state_dict(torch.load('RNN_InfoTheory_model.pt'))\n",
    "        elif category == 'CompVis':\n",
    "            model.load_state_dict(torch.load('RNN_CompVis_model.pt'))\n",
    "        else:\n",
    "            model.load_state_dict(torch.load('RNN_Math_model.pt'))\n",
    "    \n",
    "        for batch in test_iterator:\n",
    "            predictions = model(batch.Abstract).squeeze(1)\n",
    "            rounded_preds = torch.round(torch.sigmoid(predictions))\n",
    "            y_predict += rounded_preds.tolist()\n",
    "            \n",
    "            if category == 'InfoTheory':\n",
    "                y_test += batch.InfoTheory.tolist()\n",
    "            elif category == 'CompVis':\n",
    "                y_test += batch.CompVis.tolist()\n",
    "            else:\n",
    "                y_test += batch.Math.tolist()\n",
    "\n",
    "        y_predict = np.asarray(y_predict)\n",
    "        y_test = np.asarray(y_test)\n",
    "\n",
    "        print(confusion_matrix(y_test,y_predict))\n",
    "\n",
    "        recall=recall_score(y_test,y_predict,average='macro')\n",
    "        precision=precision_score(y_test,y_predict,average='macro')\n",
    "        f1score=f1_score(y_test,y_predict,average='macro')\n",
    "        accuracy=accuracy_score(y_test,y_predict)\n",
    "        matthews = matthews_corrcoef(y_test,y_predict) \n",
    "\n",
    "        print('Accuracy: '+ str(accuracy))\n",
    "        print('Macro Precision: '+ str(precision))\n",
    "        print('Macro Recall: '+ str(recall))\n",
    "        print('Macro F1 score:'+ str(f1score))\n",
    "        print('MCC:'+ str(matthews))\n",
    "        \n",
    "        \n",
    "       \n",
    "        "
   ]
  },
  {
   "cell_type": "code",
   "execution_count": null,
   "metadata": {},
   "outputs": [],
   "source": []
  },
  {
   "cell_type": "code",
   "execution_count": null,
   "metadata": {},
   "outputs": [],
   "source": []
  },
  {
   "cell_type": "code",
   "execution_count": null,
   "metadata": {},
   "outputs": [],
   "source": []
  },
  {
   "cell_type": "code",
   "execution_count": null,
   "metadata": {},
   "outputs": [],
   "source": []
  },
  {
   "cell_type": "markdown",
   "metadata": {},
   "source": [
    "#### Results for Method - Neural Network\n",
    "\n",
    "Full confusion matrix for method on `InfoTheory`:\n",
    "\n",
    "|                 |   Pred = 0  |   Pred = 1  |\n",
    "| --------------  | ----------- | ----------- |\n",
    "| **Actual = 0**  |   15509     |     553     |\n",
    "| **Actual = 1**  |   1187      |     2429    |\n",
    "\n",
    "Full confusion matrix for method on `CompVis`:\n",
    "\n",
    "|                 |   Pred = 0  |   Pred = 1  |\n",
    "| --------------  | ----------- | ----------- |\n",
    "| **Actual = 0**  |   17509     |      17     |\n",
    "| **Actual = 1**  |   2079      |      73     |\n",
    "\n",
    "Full confusion matrix for method on `Math`:\n",
    "\n",
    "|                 |   Pred = 0  |   Pred = 1  |\n",
    "| --------------  | ----------- | ----------- |\n",
    "| **Actual = 0**  |   12507     |     1241    |\n",
    "| **Actual = 1**  |   2865      |     3065    |\n"
   ]
  },
  {
   "cell_type": "code",
   "execution_count": null,
   "metadata": {},
   "outputs": [],
   "source": []
  },
  {
   "cell_type": "markdown",
   "metadata": {},
   "source": [
    "### Part 1: Machine Learning Method\n",
    "\n",
    "*  We are using the TF IDF Word Representations for the words\n",
    "*  The models used will be Logistic Regression and Linear Support Vector Classifier"
   ]
  },
  {
   "cell_type": "markdown",
   "metadata": {},
   "source": [
    "### Logistic Regression"
   ]
  },
  {
   "cell_type": "markdown",
   "metadata": {},
   "source": [
    "### Generating text features using the TF IDF Vectorizer\n",
    "\n"
   ]
  },
  {
   "cell_type": "code",
   "execution_count": 51,
   "metadata": {},
   "outputs": [],
   "source": [
    "TFIDF_vec = TfidfVectorizer(analyzer = 'word',\n",
    "                            input = 'content',\n",
    "                            \n",
    "                            min_df = 2,\n",
    "                            ngram_range = (1,2),\n",
    "                            max_features = 10000,\n",
    "                            tokenizer = LemmaTokenizerSpacy())"
   ]
  },
  {
   "cell_type": "code",
   "execution_count": 52,
   "metadata": {},
   "outputs": [],
   "source": [
    "#X Training\n",
    "TFIDF_feat_matrix = TFIDF_vec.fit_transform(training_abstract_list)\n",
    "\n",
    "#Y Training\n",
    "train_labels_infotheory = np.asarray(training_infotheory_list)\n",
    "train_labels_compvis = np.asarray(training_compvis_list)\n",
    "train_labels_math = np.asarray(training_math_list)\n",
    "\n",
    "#X Testing\n",
    "testing_abstract_TFIDF = TFIDF_vec.transform(testing_abstract_list)\n",
    "\n",
    "#Y Testing\n",
    "testing_labels_infotheory = np.asarray(testing_infotheory_list)\n",
    "testing_labels_compvis = np.asarray(testing_compvis_list)\n",
    "testing_labels_math = np.asarray(testing_math_list)"
   ]
  },
  {
   "cell_type": "markdown",
   "metadata": {},
   "source": [
    "### Cross Validation"
   ]
  },
  {
   "cell_type": "code",
   "execution_count": 54,
   "metadata": {},
   "outputs": [
    {
     "data": {
      "image/png": "[encoded data removed]",
      "text/plain": [
       "<Figure size 432x288 with 1 Axes>"
      ]
     },
     "metadata": {
      "needs_background": "light"
     },
     "output_type": "display_data"
    }
   ],
   "source": [
    "# Training: We use 3 different models and 5 fold cross validation to see which one is better\n",
    "\n",
    "cv_df = pd.DataFrame(index = range(10))\n",
    "entries = []\n",
    "\n",
    "\n",
    "accuracies = cross_val_score(LogisticRegression(max_iter = 5000), TFIDF_feat_matrix, train_labels_infotheory, scoring='accuracy', cv = 10)\n",
    "\n",
    "for fold_idx, accuracy in enumerate(accuracies):\n",
    "    entries.append(('Info Theory', fold_idx, accuracy))\n",
    "    \n",
    "accuracies = cross_val_score(LogisticRegression(max_iter = 5000), TFIDF_feat_matrix, train_labels_compvis, scoring='accuracy', cv = 10)\n",
    "\n",
    "for fold_idx, accuracy in enumerate(accuracies):\n",
    "    entries.append(('Comp Vis', fold_idx, accuracy))\n",
    "\n",
    "accuracies = cross_val_score(LogisticRegression(max_iter = 5000), TFIDF_feat_matrix, train_labels_math, scoring='accuracy', cv = 10)\n",
    "\n",
    "for fold_idx, accuracy in enumerate(accuracies):\n",
    "    entries.append(('Math', fold_idx, accuracy))\n",
    "\n",
    "\n",
    "cv_df = pd.DataFrame(entries, columns=['Category', 'fold_idx', 'accuracy'])\n",
    "#cv_df\n",
    "\n",
    "\n",
    "sns.boxplot(x='Category', y='accuracy', data=cv_df)\n",
    "sns.stripplot(x='Category', y='accuracy', data=cv_df, \n",
    "              size=12, jitter=True, edgecolor=\"gray\", linewidth=2)\n",
    "plt.show()\n"
   ]
  },
  {
   "cell_type": "code",
   "execution_count": 55,
   "metadata": {},
   "outputs": [
    {
     "name": "stdout",
     "output_type": "stream",
     "text": [
      "Info Theory\n",
      "[[15855   207]\n",
      " [  787  2829]]\n",
      "Accuracy: 0.949486736456957\n",
      "Macro F1 score:0.9100887105742221\n",
      "MCC:0.8249949697483571\n",
      "\n",
      "\n",
      "Comp Vis\n",
      "[[17453    73]\n",
      " [  701  1451]]\n",
      "Accuracy: 0.9606667344242301\n",
      "Macro F1 score:0.8838761119270802\n",
      "MCC:0.7823801892002379\n",
      "\n",
      "\n",
      "Math\n",
      "[[12920   828]\n",
      " [ 1605  4325]]\n",
      "Accuracy: 0.8763593861164752\n",
      "Macro F1 score:0.8472103842308634\n",
      "MCC:0.6983288468634726\n",
      "\n",
      "\n"
     ]
    }
   ],
   "source": [
    "train_label_classes = [train_labels_infotheory, train_labels_compvis, train_labels_math]\n",
    "test_label_classes = [testing_labels_infotheory, testing_labels_compvis, testing_labels_math]\n",
    "class_name = ['Info Theory', 'Comp Vis', 'Math']\n",
    "\n",
    "for i in range(3):\n",
    "    \n",
    "    model = LogisticRegression(max_iter = 5000).fit(TFIDF_feat_matrix, train_label_classes[i])\n",
    "\n",
    "    print(class_name[i])\n",
    "\n",
    "    # prediction\n",
    "    class_prediction = model.predict(testing_abstract_TFIDF)\n",
    "\n",
    "    print(confusion_matrix(test_label_classes[i], class_prediction))\n",
    "    \n",
    "    \n",
    "\n",
    "    f1score = f1_score(test_label_classes[i], class_prediction, average='macro')\n",
    "    accuracy = accuracy_score(test_label_classes[i], class_prediction)\n",
    "    matthews = matthews_corrcoef(test_label_classes[i], class_prediction)\n",
    "\n",
    "    print('Accuracy: '+ str(accuracy))\n",
    "    print('Macro F1 score:'+ str(f1score))\n",
    "    print('MCC:'+ str(matthews))\n",
    "    print('\\n')\n"
   ]
  },
  {
   "cell_type": "code",
   "execution_count": null,
   "metadata": {},
   "outputs": [],
   "source": []
  },
  {
   "cell_type": "code",
   "execution_count": 56,
   "metadata": {},
   "outputs": [],
   "source": [
    "TFIDF_vec = TfidfVectorizer(analyzer = 'word',\n",
    "                            input = 'content',\n",
    "                            \n",
    "                            #\n",
    "                            #token_pattern = r'[a-zA-Z]{1,}',\n",
    "                            min_df = 2,\n",
    "                            max_df = 0.5,\n",
    "                            ngram_range = (1,2),\n",
    "                            tokenizer = LemmaTokenizerSpacy())"
   ]
  },
  {
   "cell_type": "code",
   "execution_count": 57,
   "metadata": {},
   "outputs": [],
   "source": [
    "#X Training\n",
    "TFIDF_feat_matrix = TFIDF_vec.fit_transform(training_abstract_list)\n",
    "\n",
    "#Y Training\n",
    "train_labels_infotheory = np.asarray(training_infotheory_list)\n",
    "train_labels_compvis = np.asarray(training_compvis_list)\n",
    "train_labels_math = np.asarray(training_math_list)\n",
    "\n",
    "#X Testing\n",
    "testing_abstract_TFIDF = TFIDF_vec.transform(testing_abstract_list)\n",
    "\n",
    "#Y Testing\n",
    "testing_labels_infotheory = np.asarray(testing_infotheory_list)\n",
    "testing_labels_compvis = np.asarray(testing_compvis_list)\n",
    "testing_labels_math = np.asarray(testing_math_list)"
   ]
  },
  {
   "cell_type": "code",
   "execution_count": null,
   "metadata": {},
   "outputs": [],
   "source": []
  },
  {
   "cell_type": "markdown",
   "metadata": {},
   "source": [
    "### Cross Validation"
   ]
  },
  {
   "cell_type": "code",
   "execution_count": 58,
   "metadata": {},
   "outputs": [
    {
     "data": {
      "image/png": "[encoded data removed]",
      "text/plain": [
       "<Figure size 432x288 with 1 Axes>"
      ]
     },
     "metadata": {
      "needs_background": "light"
     },
     "output_type": "display_data"
    }
   ],
   "source": [
    "# Training: We use 3 different models and 5 fold cross validation to see which one is better\n",
    "\n",
    "cv_df = pd.DataFrame(index=range(10))\n",
    "entries = []\n",
    "\n",
    "accuracies = cross_val_score(LinearSVC(max_iter = 5000), TFIDF_feat_matrix, train_labels_infotheory, scoring='accuracy', cv= 10)\n",
    "\n",
    "for fold_idx, accuracy in enumerate(accuracies):\n",
    "    entries.append(('Info Theory', fold_idx, accuracy))\n",
    "\n",
    "accuracies = cross_val_score(LinearSVC(max_iter = 5000), TFIDF_feat_matrix, train_labels_compvis, scoring='accuracy', cv=10)\n",
    "\n",
    "for fold_idx, accuracy in enumerate(accuracies):\n",
    "    entries.append(('Comp Vis', fold_idx, accuracy))\n",
    "\n",
    "    \n",
    "accuracies = cross_val_score(LinearSVC(max_iter = 5000), TFIDF_feat_matrix, train_labels_math, scoring='accuracy', cv=10)\n",
    "\n",
    "for fold_idx, accuracy in enumerate(accuracies):\n",
    "    entries.append(('Math', fold_idx, accuracy))\n",
    "\n",
    "\n",
    "    \n",
    "cv_df = pd.DataFrame(entries, columns=['Category', 'fold_idx', 'accuracy'])\n",
    "#cv_df\n",
    "\n",
    "\n",
    "sns.boxplot(x='Category', y='accuracy', data=cv_df)\n",
    "sns.stripplot(x='Category', y='accuracy', data=cv_df, \n",
    "              size=12, jitter=True, edgecolor=\"gray\", linewidth=2)\n",
    "plt.show()\n"
   ]
  },
  {
   "cell_type": "code",
   "execution_count": null,
   "metadata": {},
   "outputs": [],
   "source": []
  },
  {
   "cell_type": "code",
   "execution_count": null,
   "metadata": {},
   "outputs": [],
   "source": []
  },
  {
   "cell_type": "markdown",
   "metadata": {},
   "source": [
    "### ML Models"
   ]
  },
  {
   "cell_type": "code",
   "execution_count": 59,
   "metadata": {},
   "outputs": [
    {
     "name": "stdout",
     "output_type": "stream",
     "text": [
      "Info Theory\n",
      "[[15828   234]\n",
      " [  640  2976]]\n",
      "Accuracy: 0.9555849171663787\n",
      "Macro F1 score:0.9225463227209683\n",
      "MCC:0.8474011173716384\n",
      "\n",
      "\n",
      "Comp Vis\n",
      "[[17440    86]\n",
      " [  490  1662]]\n",
      "Accuracy: 0.9707287325947759\n",
      "Macro F1 score:0.9180311024715357\n",
      "MCC:0.8418258339058456\n",
      "\n",
      "\n",
      "Math\n",
      "[[12862   886]\n",
      " [ 1412  4518]]\n",
      "Accuracy: 0.8832198394145746\n",
      "Macro F1 score:0.8576201131237012\n",
      "MCC:0.717010126492889\n",
      "\n",
      "\n"
     ]
    }
   ],
   "source": [
    "train_label_classes = [train_labels_infotheory, train_labels_compvis, train_labels_math]\n",
    "test_label_classes = [testing_labels_infotheory, testing_labels_compvis, testing_labels_math]\n",
    "class_name = ['Info Theory', 'Comp Vis', 'Math']\n",
    "\n",
    "# models = [LogisticRegression(max_iter = 5000)]\n",
    "# models = [BernoulliNB()]\n",
    "# models = [LinearSVC(max_iter = 5000)]\n",
    "\n",
    "\n",
    "for i in range(3):\n",
    "\n",
    "    model = LinearSVC(max_iter = 5000, C = 0.5).fit(TFIDF_feat_matrix, train_label_classes[i])\n",
    "    print(class_name[i])\n",
    "\n",
    "    # prediction\n",
    "    class_prediction = model.predict(testing_abstract_TFIDF)\n",
    "\n",
    "    print(confusion_matrix(test_label_classes[i], class_prediction))\n",
    "\n",
    "    f1score = f1_score(test_label_classes[i], class_prediction, average='macro')\n",
    "    accuracy = accuracy_score(test_label_classes[i], class_prediction)\n",
    "    matthews = matthews_corrcoef(test_label_classes[i], class_prediction)\n",
    "\n",
    "    print('Accuracy: '+ str(accuracy))\n",
    "    print('Macro F1 score:'+ str(f1score))\n",
    "    print('MCC:'+ str(matthews))\n",
    "    print('\\n')"
   ]
  },
  {
   "cell_type": "markdown",
   "metadata": {},
   "source": [
    "#### Results for Method - Logistic Regression\n",
    "\n",
    "Full confusion matrix for method on InfoTheory:\n",
    "\n",
    "|                 |   Pred = 0  |   Pred = 1  |\n",
    "| --------------  | ----------- | ----------- |\n",
    "| **Actual = 0**  |   15855     |     207     |\n",
    "| **Actual = 1**  |   787       |     2829    |\n",
    "\n",
    "Full confusion matrix for method on CompVis:\n",
    "\n",
    "|                 |   Pred = 0  |   Pred = 1  |\n",
    "| --------------  | ----------- | ----------- |\n",
    "| **Actual = 0**  |   17453     |      73     |\n",
    "| **Actual = 1**  |   701       |      1451   |\n",
    "\n",
    "Full confusion matrix for method on Math:\n",
    "\n",
    "|                 |   Pred = 0  |   Pred = 1  |\n",
    "| --------------  | ----------- | ----------- |\n",
    "| **Actual = 0**  |   12920     |     828     |\n",
    "| **Actual = 1**  |   1605      |     4325    |\n"
   ]
  },
  {
   "cell_type": "markdown",
   "metadata": {},
   "source": [
    "#### Results for Method - Linear SVC\n",
    "\n",
    "Full confusion matrix for method on InfoTheory:\n",
    "\n",
    "|                 |   Pred = 0  |   Pred = 1  |\n",
    "| --------------  | ----------- | ----------- |\n",
    "| **Actual = 0**  |   15828     |     234     |\n",
    "| **Actual = 1**  |   640       |     2976    |\n",
    "\n",
    "Full confusion matrix for method on CompVis:\n",
    "\n",
    "|                 |   Pred = 0  |   Pred = 1  |\n",
    "| --------------  | ----------- | ----------- |\n",
    "| **Actual = 0**  |   17440     |      86     |\n",
    "| **Actual = 1**  |   490       |      1662   |\n",
    "\n",
    "Full confusion matrix for method on Math:\n",
    "\n",
    "|                 |   Pred = 0  |   Pred = 1  |\n",
    "| --------------  | ----------- | ----------- |\n",
    "| **Actual = 0**  |   12862     |     886     |\n",
    "| **Actual = 1**  |   1412      |     4518    |\n"
   ]
  },
  {
   "cell_type": "markdown",
   "metadata": {},
   "source": [
    "## Part 2: Topic Modelling\n",
    "\n",
    "General comments and any shared processing here.\n"
   ]
  },
  {
   "cell_type": "code",
   "execution_count": 368,
   "metadata": {},
   "outputs": [
    {
     "name": "stdout",
     "output_type": "stream",
     "text": [
      "Total Number of Documents: 366\n"
     ]
    }
   ],
   "source": [
    "# Reading the CSV file and copying the body content of all the news articles into a list\n",
    "# monash_text is the data frame containing the entire csv file\n",
    "# docs contains the article bodies as a list\n",
    "\n",
    "monash_text = pd.read_csv('Monash_crawled.csv')\n",
    "\n",
    "docs = monash_text['body'].tolist()\n",
    "\n",
    "print('Total Number of Documents: %d' % len(docs))"
   ]
  },
  {
   "cell_type": "markdown",
   "metadata": {},
   "source": [
    "### LDA 1st Run"
   ]
  },
  {
   "cell_type": "markdown",
   "metadata": {},
   "source": [
    "#### Text Pre Processing\n",
    "\n",
    "#### RegEx Tokenizer and WordNet Lemmatizer (NLTK)"
   ]
  },
  {
   "cell_type": "code",
   "execution_count": 369,
   "metadata": {},
   "outputs": [],
   "source": [
    "# Tokenize the documents\n",
    "# Split the documents into tokens using the RegEx pattern '\\w+'\n",
    "# Initialize a tokenizer object\n",
    "# Use a for loop to iterate over the docs list and convert all the strings to lower case and then apply the tokenizer object we defined\n",
    "\n",
    "tokenizer = RegexpTokenizer(r'\\w+')\n",
    "for idx in range(len(docs)):\n",
    "    docs[idx] = docs[idx].lower()  # Convert to lowercase.\n",
    "    docs[idx] = tokenizer.tokenize(docs[idx])  # Split into words.\n",
    "\n",
    "# Removing numbers that are by themselves. That is numbers with other characters included in them are ignored\n",
    "docs = [[token for token in doc if not token.isnumeric()] for doc in docs]\n",
    "\n",
    "# Remove words that are only one character.\n",
    "# This operation will pick out characters like 'a' which occurs a lot in the english language and also some stray characters that provide no value\n",
    "docs = [[token for token in doc if len(token) > 1] for doc in docs]\n",
    "\n",
    "# Finally, Lemmatize the documents using the WordNet lemmatizer object.\n",
    "lemmatizer = WordNetLemmatizer()\n",
    "docs = [[lemmatizer.lemmatize(token) for token in doc] for doc in docs]"
   ]
  },
  {
   "cell_type": "markdown",
   "metadata": {},
   "source": [
    "#### Bigrams"
   ]
  },
  {
   "cell_type": "code",
   "execution_count": 370,
   "metadata": {},
   "outputs": [],
   "source": [
    "# We can generate bigrams using the Phrases method\n",
    "bigram = Phrases(docs, min_count = 10)\n",
    "\n",
    "# The phrases method returns all the bigrams founds in each document along with all the tokens\n",
    "# Since we're only interested in the bigrams we look for an '_' in each word and append those elements into our existing list of tokens\n",
    "for i in range(len(docs)):\n",
    "    for token in bigram[docs[i]]:\n",
    "        if '_' in token:\n",
    "            # Token is a bigram, add to document.\n",
    "            docs[i].append(token)"
   ]
  },
  {
   "cell_type": "code",
   "execution_count": 371,
   "metadata": {},
   "outputs": [],
   "source": [
    "# long_string = ''\n",
    "\n",
    "# for doc in docs:\n",
    "    \n",
    "#     for item in doc:\n",
    "        \n",
    "#         long_string = long_string + ',' + item\n",
    "    "
   ]
  },
  {
   "cell_type": "code",
   "execution_count": 372,
   "metadata": {},
   "outputs": [],
   "source": [
    "# # Import the wordcloud library\n",
    "# from wordcloud import WordCloud, STOPWORDS\n",
    "# # Join the different processed titles together.\n",
    "# stopwords = set(STOPWORDS)\n",
    "# # Create a WordCloud object\n",
    "# wordcloud = WordCloud(background_color=\"white\", stopwords=stopwords, max_font_size=60, max_words=50, contour_width=3)\n",
    "# # Generate a word cloud\n",
    "# wordcloud.generate(long_string)\n",
    "# # Visualize the word cloud\n",
    "# wordcloud.to_image()"
   ]
  },
  {
   "cell_type": "markdown",
   "metadata": {},
   "source": [
    "#### Removing Rare Tokens"
   ]
  },
  {
   "cell_type": "code",
   "execution_count": 373,
   "metadata": {},
   "outputs": [],
   "source": [
    "# Remove rare and common tokens\n",
    "# Create a dictionary representation of the documents.\n",
    "dictionary = Dictionary(docs)\n",
    "\n",
    "# Filter out words that occur in less than 50 documents, or in more than 50% of the documents.\n",
    "dictionary.filter_extremes(no_below = 20, no_above = 0.6)"
   ]
  },
  {
   "cell_type": "markdown",
   "metadata": {},
   "source": [
    "#### Map of all words to a unique ID"
   ]
  },
  {
   "cell_type": "code",
   "execution_count": 374,
   "metadata": {},
   "outputs": [],
   "source": [
    "# Bag-of-words representation of the documents\n",
    "# The method doc2bow assigns a unique ID (natural numbers starting from 0)\n",
    "# The corpus is a 2D list. Each element in the list is a list of tuples of the form (toked id, token frequency)\n",
    "\n",
    "corpus = [dictionary.doc2bow(doc) for doc in docs]"
   ]
  },
  {
   "cell_type": "code",
   "execution_count": 375,
   "metadata": {},
   "outputs": [
    {
     "name": "stdout",
     "output_type": "stream",
     "text": [
      "Number of unique tokens: 1480\n",
      "Number of documents: 366\n"
     ]
    }
   ],
   "source": [
    "print('Number of unique tokens: %d' % len(dictionary))\n",
    "print('Number of documents: %d' % len(corpus))"
   ]
  },
  {
   "cell_type": "markdown",
   "metadata": {},
   "source": [
    "#### Saving the models"
   ]
  },
  {
   "cell_type": "code",
   "execution_count": 376,
   "metadata": {},
   "outputs": [],
   "source": [
    "pickle.dump(corpus, open('corpus.pkl', 'wb'))\n",
    "dictionary.save('dictionary_1.gensim')"
   ]
  },
  {
   "cell_type": "markdown",
   "metadata": {},
   "source": [
    "### Trainining the first model\n",
    "\n",
    "#### Adjusting the parameters"
   ]
  },
  {
   "cell_type": "code",
   "execution_count": 377,
   "metadata": {},
   "outputs": [],
   "source": [
    "# We have 366 articles. 10 Topics would be suitable\n",
    "# Chunksize size is the number of documents that will be processed at once\n",
    "\n",
    "# passes are the number of times we train the model on the entire corpus and\n",
    "# iterations are how often we repeat a particular loop over each document\n",
    "\n",
    "NUM_TOPICS = 10\n",
    "chunksize = 2000\n",
    "passes = 30\n",
    "iterations = 500\n",
    "eval_every = None\n"
   ]
  },
  {
   "cell_type": "markdown",
   "metadata": {},
   "source": [
    "#### Making a word index"
   ]
  },
  {
   "cell_type": "code",
   "execution_count": 378,
   "metadata": {},
   "outputs": [],
   "source": [
    "# This code makes an index to word dictionary\n",
    "# The key is the unique ID generated above using doc2bow\n",
    "# The value is the corresponding word or token\n",
    "\n",
    "temp = dictionary[0]  # This is only to \"load\" the dictionary.\n",
    "id2word = dictionary.id2token"
   ]
  },
  {
   "cell_type": "markdown",
   "metadata": {},
   "source": [
    "#### Model Training"
   ]
  },
  {
   "cell_type": "code",
   "execution_count": 379,
   "metadata": {},
   "outputs": [],
   "source": [
    "model = LdaModel(\n",
    "    corpus = corpus,\n",
    "    id2word = id2word,\n",
    "    chunksize = chunksize,\n",
    "    alpha = 'auto',\n",
    "    eta = 'auto',\n",
    "    iterations = iterations,\n",
    "    num_topics = NUM_TOPICS,\n",
    "    passes = passes,\n",
    "    eval_every = eval_every\n",
    ")"
   ]
  },
  {
   "cell_type": "markdown",
   "metadata": {},
   "source": [
    "#### Saving the model"
   ]
  },
  {
   "cell_type": "code",
   "execution_count": 380,
   "metadata": {},
   "outputs": [
    {
     "name": "stdout",
     "output_type": "stream",
     "text": [
      "Saving model in Assg_topics_10.gensim\n",
      "\n"
     ]
    }
   ],
   "source": [
    "outputfile = f'Assg_topics_{NUM_TOPICS}.gensim'\n",
    "print(\"Saving model in \" + outputfile)\n",
    "print(\"\")\n",
    "model.save(outputfile)"
   ]
  },
  {
   "cell_type": "code",
   "execution_count": 381,
   "metadata": {},
   "outputs": [
    {
     "name": "stdout",
     "output_type": "stream",
     "text": [
      "Average topic coherence: -0.8448.\n"
     ]
    }
   ],
   "source": [
    "top_topics = model.top_topics(corpus) #, num_words=20)\n",
    "\n",
    "# Average topic coherence is the sum of topic coherences of all topics, divided by the number of topics.\n",
    "avg_topic_coherence = sum([t[1] for t in top_topics]) / NUM_TOPICS\n",
    "print('Average topic coherence: %.4f.' % avg_topic_coherence)\n"
   ]
  },
  {
   "cell_type": "code",
   "execution_count": 382,
   "metadata": {},
   "outputs": [
    {
     "name": "stdout",
     "output_type": "stream",
     "text": [
      "[(0,\n",
      "  '0.031*\"february\" + 0.023*\"ship\" + 0.019*\"cruise\" + 0.014*\"case\" + '\n",
      "  '0.013*\"princess\" + 0.013*\"cruise_ship\" + 0.012*\"japan\" + 0.012*\"passenger\" '\n",
      "  '+ 0.011*\"diamond_princess\" + 0.011*\"diamond\"'),\n",
      " (1,\n",
      "  '0.032*\"february\" + 0.023*\"flight\" + 0.016*\"wuhan\" + 0.015*\"island\" + '\n",
      "  '0.012*\"christmas\" + 0.011*\"passenger\" + 0.009*\"qantas\" + 0.009*\"pictured\" + '\n",
      "  '0.008*\"quarantine\" + 0.007*\"evacuee\"'),\n",
      " (2,\n",
      "  '0.010*\"area\" + 0.009*\"fire\" + 0.007*\"study\" + 0.007*\"say\" + 0.006*\"you\" + '\n",
      "  '0.006*\"could\" + 0.006*\"climate\" + 0.006*\"research\" + 0.005*\"smoke\" + '\n",
      "  '0.005*\"time\"'),\n",
      " (3,\n",
      "  '0.014*\"minister\" + 0.013*\"thursday\" + 0.012*\"ship\" + 0.011*\"virus\" + '\n",
      "  '0.011*\"morrison\" + 0.011*\"on_thursday\" + 0.009*\"mr\" + 0.009*\"pandemic\" + '\n",
      "  '0.009*\"february\" + 0.008*\"government\"'),\n",
      " (4,\n",
      "  '0.046*\"student\" + 0.020*\"ban\" + 0.020*\"february\" + 0.019*\"travel\" + '\n",
      "  '0.019*\"china\" + 0.016*\"chinese\" + 0.012*\"travel_ban\" + 0.011*\"country\" + '\n",
      "  '0.009*\"chinese_student\" + 0.009*\"week\"'),\n",
      " (5,\n",
      "  '0.036*\"she\" + 0.031*\"her\" + 0.020*\"woman\" + 0.012*\"first\" + 0.011*\"you\" + '\n",
      "  '0.011*\"child\" + 0.010*\"when\" + 0.009*\"if\" + 0.009*\"my\" + 0.008*\"family\"'),\n",
      " (6,\n",
      "  '0.018*\"school\" + 0.012*\"you\" + 0.012*\"should\" + 0.011*\"if\" + 0.010*\"home\" + '\n",
      "  '0.009*\"social\" + 0.009*\"food\" + 0.008*\"your\" + 0.008*\"covid\" + '\n",
      "  '0.008*\"could\"'),\n",
      " (7,\n",
      "  '0.026*\"february\" + 0.019*\"cent\" + 0.019*\"per_cent\" + 0.019*\"per\" + '\n",
      "  '0.015*\"would\" + 0.013*\"china\" + 0.009*\"case\" + 0.007*\"would_be\" + '\n",
      "  '0.007*\"pandemic\" + 0.007*\"indonesia\"'),\n",
      " (8,\n",
      "  '0.021*\"virus\" + 0.018*\"china\" + 0.013*\"case\" + 0.013*\"wuhan\" + '\n",
      "  '0.009*\"symptom\" + 0.008*\"chinese\" + 0.008*\"confirmed\" + 0.007*\"patient\" + '\n",
      "  '0.007*\"outbreak\" + 0.007*\"two\"'),\n",
      " (9,\n",
      "  '0.020*\"february\" + 0.018*\"mask\" + 0.012*\"face\" + 0.011*\"out\" + '\n",
      "  '0.009*\"face_mask\" + 0.008*\"his\" + 0.008*\"you\" + 0.007*\"told\" + '\n",
      "  '0.007*\"chinese\" + 0.007*\"store\"')]\n"
     ]
    }
   ],
   "source": [
    "\n",
    "# Print the Keyword in the 10 topics\n",
    "\n",
    "pprint(model.print_topics())"
   ]
  },
  {
   "cell_type": "code",
   "execution_count": 383,
   "metadata": {},
   "outputs": [
    {
     "data": {
      "text/html": [
       "\n",
       "<link rel=\"stylesheet\" type=\"text/css\" href=\"https://cdn.rawgit.com/bmabey/pyLDAvis/files/ldavis.v1.0.0.css\">\n",
       "\n",
       "\n",
       "<div id=\"ldavis_el91961928782023752209740580\"></div>\n",
       "<script type=\"text/javascript\">\n",
       "\n",
       "var ldavis_el91961928782023752209740580_data = {\"mdsDat\": {\"x\": [0.1865272661364952, -0.01633462237354785, 0.008869654577280723, -0.13682908103821675, -0.14809618145041217, 0.1332802544811769, -0.04529441665625491, 0.12991184945675724, -0.07786609827000866, -0.03416862486327007], \"y\": [0.024955119127615583, 0.05123869949020274, 0.04614456748181574, 0.09556520168845292, 0.03145808902938589, 0.14219770016218297, -0.06445570016955661, -0.14161729573074036, -0.08458409176774656, -0.10090228931161252], \"topics\": [1, 2, 3, 4, 5, 6, 7, 8, 9, 10], \"cluster\": [1, 1, 1, 1, 1, 1, 1, 1, 1, 1], \"Freq\": [21.371450424194336, 21.12541961669922, 9.48123550415039, 8.926982879638672, 8.75139331817627, 7.539790153503418, 6.3207268714904785, 5.769618511199951, 5.616362571716309, 5.097025394439697]}, \"tinfo\": {\"Term\": [\"february\", \"student\", \"she\", \"her\", \"ship\", \"china\", \"flight\", \"wuhan\", \"cruise\", \"woman\", \"virus\", \"travel\", \"ban\", \"chinese\", \"per\", \"cent\", \"per_cent\", \"you\", \"island\", \"school\", \"passenger\", \"mask\", \"cruise_ship\", \"princess\", \"christmas\", \"would\", \"minister\", \"fire\", \"diamond\", \"diamond_princess\", \"climate\", \"climate_change\", \"analysis\", \"smoke\", \"cell\", \"add\", \"fire\", \"material\", \"project\", \"air_quality\", \"quality\", \"science\", \"researcher\", \"example\", \"created\", \"research\", \"link\", \"disaster\", \"season\", \"average\", \"weather\", \"blaze\", \"technology\", \"model\", \"heat\", \"australiaas\", \"monash_university\", \"environment\", \"author\", \"play\", \"data\", \"used\", \"using\", \"area\", \"change\", \"study\", \"specie\", \"bushfires\", \"amp\", \"mass\", \"monash\", \"level\", \"between\", \"scientist\", \"air\", \"found\", \"say\", \"these\", \"way\", \"based\", \"could\", \"time\", \"you\", \"such\", \"over\", \"most\", \"when\", \"through\", \"patient\", \"some\", \"into\", \"other\", \"those\", \"common_cold\", \"travel_alert\", \"current_concern\", \"entire_hubei\", \"severe_acute\", \"respiratory_syndrome\", \"pneumonia\", \"untreated\", \"being_treated\", \"syndrome\", \"sars\", \"including_three\", \"unwell\", \"typical\", \"contagious\", \"symptom\", \"sore\", \"gp\", \"mild\", \"taiwan\", \"novel_coronavirus\", \"throat\", \"someone_who\", \"acute\", \"cough\", \"royal_melbourne\", \"beijing\", \"brendan_murphy\", \"chinese_authority\", \"no_need\", \"hubei\", \"fever\", \"virus\", \"wuhan\", \"china\", \"province\", \"from_wuhan\", \"patient\", \"case\", \"confirmed\", \"infection\", \"outbreak\", \"illness\", \"infected\", \"spread\", \"chinese\", \"authority\", \"treated\", \"man\", \"hospital\", \"city\", \"nsw\", \"melbourne\", \"contact\", \"animal\", \"market\", \"two\", \"disease\", \"death\", \"medical\", \"may\", \"sydney\", \"world\", \"first\", \"week\", \"flight\", \"out\", \"store\", \"posted\", \"customer\", \"normally\", \"face_mask\", \"facebook\", \"buy\", \"street\", \"bad\", \"sold\", \"doesn\", \"busy\", \"restaurant\", \"completely\", \"social_medium\", \"town\", \"hand\", \"shared\", \"mask\", \"post\", \"lot_of\", \"told_daily\", \"mail_australia\", \"daily_mail\", \"selling\", \"claim\", \"door\", \"face\", \"metre\", \"wrote\", \"mail\", \"stock\", \"business\", \"daily\", \"out\", \"want\", \"get\", \"february\", \"mr\", \"his\", \"wearing\", \"local\", \"told\", \"just\", \"you\", \"your\", \"chinese\", \"around\", \"she\", \"when\", \"last\", \"week\", \"no\", \"my\", \"january_january\", \"february_february\", \"time\", \"virus\", \"her\", \"on_christmas\", \"qantas_flight\", \"christmas\", \"christmas_island\", \"qantas\", \"detention\", \"landed\", \"evacuee\", \"base\", \"island\", \"australian_citizen\", \"airline\", \"bus\", \"facility\", \"flight\", \"landing\", \"evacuated_from\", \"charter\", \"zealand\", \"cabin\", \"darwin\", \"evacuated\", \"evacuation\", \"spring\", \"crew\", \"hotel\", \"new_zealand\", \"carrying\", \"plane\", \"understood\", \"citizen\", \"quarantine\", \"taken\", \"february\", \"wuhan\", \"board\", \"passenger\", \"epicentre\", \"kong\", \"hong\", \"hong_kong\", \"pictured\", \"on_board\", \"february_february\", \"january_january\", \"two\", \"western\", \"airport\", \"china\", \"aedt\", \"virus\", \"japan\", \"confirmed\", \"docked\", \"aboard\", \"japanese\", \"cruise\", \"vessel\", \"guest\", \"princess\", \"ship\", \"cruise_ship\", \"yokohama\", \"diamond_princess\", \"diamond\", \"tested_positive\", \"after_being\", \"port\", \"party\", \"contracted\", \"recovered\", \"cleared\", \"tokyo\", \"quarantined\", \"sent\", \"positive\", \"basis\", \"stable_condition\", \"on_board\", \"japan\", \"tested\", \"confined\", \"office\", \"two_week\", \"passenger\", \"board\", \"friday\", \"on_friday\", \"february\", \"case\", \"queensland\", \"aedt\", \"confirmed\", \"february_february\", \"virus\", \"january_january\", \"week\", \"infected\", \"two\", \"pictured\", \"sydney\", \"daughter\", \"london\", \"donat\", \"her\", \"feel\", \"respond\", \"college\", \"ai\", \"testing_positive\", \"mother\", \"wife\", \"she\", \"she_wa\", \"am\", \"me\", \"became\", \"child\", \"history\", \"female\", \"letter\", \"men\", \"woman\", \"york\", \"my\", \"fellow\", \"law\", \"getting\", \"possibility\", \"felt\", \"baby\", \"m\", \"space\", \"right\", \"asia\", \"family\", \"first\", \"you\", \"when\", \"american\", \"if\", \"your\", \"his\", \"hospital\", \"should\", \"say\", \"get\", \"back\", \"some\", \"professor\", \"so\", \"now\", \"make\", \"world\", \"them\", \"out\", \"chinese_student\", \"semester\", \"travel_ban\", \"student\", \"ban\", \"accommodation\", \"extended\", \"education\", \"home_affair\", \"foreign_traveller\", \"entering\", \"travel\", \"permanent\", \"course\", \"class\", \"coming_from\", \"delay\", \"offering\", \"sector\", \"campus\", \"unable\", \"unable_to\", \"return\", \"arrival\", \"mainland_china\", \"traveller\", \"third\", \"medical_advice\", \"isolate\", \"affair\", \"foreign\", \"international\", \"online\", \"mainland\", \"chinese\", \"start\", \"country\", \"advice\", \"china\", \"february\", \"through\", \"government\", \"week\", \"would\", \"those\", \"told\", \"sydney\", \"study\", \"could\", \"if\", \"minister\", \"school\", \"distancing\", \"essential\", \"aedt_march\", \"peak\", \"shut\", \"toilet\", \"survival\", \"paper\", \"school\", \"supermarket\", \"rule\", \"italy\", \"car\", \"panic\", \"weekend\", \"slow\", \"learning\", \"food\", \"game\", \"closing\", \"limit\", \"social\", \"supply\", \"worker\", \"item\", \"extra\", \"gathering\", \"restriction\", \"should\", \"close\", \"covid\", \"forced\", \"continue\", \"online\", \"leave\", \"your\", \"home\", \"you\", \"service\", \"if\", \"work\", \"state\", \"measure\", \"could\", \"spread\", \"will_be\", \"need\", \"would\", \"some\", \"go\", \"professor\", \"told\", \"other\", \"risk\", \"greg\", \"greg_hunt\", \"upon\", \"prepare_for\", \"organ\", \"heading\", \"hunt\", \"scott_morrison\", \"wild\", \"mr_morrison\", \"prime_minister\", \"morrison\", \"prepare\", \"scott\", \"we_need\", \"prime\", \"continuing\", \"thursday\", \"failure\", \"minister\", \"necessary\", \"on_thursday\", \"health_minister\", \"declared\", \"pandemic\", \"can_cause\", \"whom\", \"officially\", \"plan\", \"coast\", \"friday\", \"have_died\", \"ship\", \"mr\", \"u\", \"cruise\", \"diamond\", \"he_said\", \"cruise_ship\", \"diamond_princess\", \"princess\", \"government\", \"medical\", \"virus\", \"on_friday\", \"emergency\", \"february\", \"need\", \"number\", \"sydney\", \"world\", \"indonesia\", \"economic\", \"growth\", \"trade\", \"economy\", \"per_cent\", \"cent\", \"scenario\", \"per\", \"price\", \"share\", \"tourism\", \"organ\", \"financial\", \"worth\", \"gathering\", \"failure\", \"massive\", \"bed\", \"scroll_down\", \"scroll\", \"originated\", \"security\", \"disease_control\", \"lung\", \"december\", \"would_be\", \"worse\", \"at_yokohama\", \"he_told\", \"nation\", \"biggest\", \"pandemic\", \"market\", \"would\", \"flu\", \"february\", \"likely\", \"global\", \"event\", \"aedt\", \"china\", \"disease\", \"country\", \"case\", \"professor\", \"told\", \"like\", \"government\", \"first\", \"minister\", \"federal\", \"february_february\", \"outbreak\", \"last\", \"virus\", \"january_january\", \"if\"], \"Freq\": [1606.0, 516.0, 719.0, 512.0, 418.0, 1055.0, 486.0, 681.0, 329.0, 489.0, 1132.0, 365.0, 239.0, 588.0, 293.0, 256.0, 252.0, 612.0, 237.0, 288.0, 423.0, 451.0, 231.0, 232.0, 164.0, 561.0, 299.0, 295.0, 215.0, 214.0, 182.76593017578125, 107.16799926757812, 119.16376495361328, 170.79782104492188, 155.82254028320312, 25.58639144897461, 284.35003662109375, 80.28633117675781, 32.34471893310547, 58.106971740722656, 86.01172637939453, 61.31953048706055, 134.9510498046875, 33.452823638916016, 30.215574264526367, 178.1353759765625, 29.799158096313477, 30.521827697753906, 71.87255859375, 56.888492584228516, 72.57925415039062, 32.60049057006836, 84.66461181640625, 43.48595428466797, 42.12892532348633, 48.44025421142578, 84.03349304199219, 32.4295654296875, 61.965904235839844, 62.088619232177734, 138.48756408691406, 126.68199920654297, 113.46266174316406, 319.8631286621094, 164.32308959960938, 225.39273071289062, 89.34580993652344, 100.95649719238281, 84.37261199951172, 82.79049682617188, 158.86544799804688, 123.37313079833984, 167.6122589111328, 104.50907135009766, 148.19741821289062, 108.90719604492188, 214.63174438476562, 149.5462646484375, 124.15513610839844, 115.6393051147461, 182.9736785888672, 169.4377899169922, 188.5861358642578, 132.64431762695312, 134.0764617919922, 126.45753479003906, 151.6937255859375, 127.4437484741211, 140.74758911132812, 142.82176208496094, 136.27110290527344, 129.27822875976562, 126.1860580444336, 35.16425323486328, 21.13637924194336, 20.13454246520996, 20.1345157623291, 36.778751373291016, 41.63185119628906, 75.30093383789062, 19.06593132019043, 37.13299560546875, 41.62144470214844, 134.89956665039062, 26.62657356262207, 51.64783477783203, 19.811697006225586, 27.333900451660156, 267.162353515625, 28.534833908081055, 30.199296951293945, 35.579917907714844, 26.492755889892578, 38.726200103759766, 33.65825653076172, 21.42865753173828, 37.23019027709961, 53.072078704833984, 20.695833206176758, 59.51461410522461, 22.041767120361328, 29.717485427856445, 29.143329620361328, 124.1954116821289, 58.2130241394043, 674.68408203125, 409.7785949707031, 560.6913452148438, 100.34822845458984, 92.21282958984375, 233.8367462158203, 421.7994689941406, 239.4124755859375, 134.75949096679688, 228.44052124023438, 86.88401794433594, 192.93572998046875, 192.902099609375, 259.176025390625, 122.34599304199219, 59.205142974853516, 131.90975952148438, 183.51344299316406, 163.82717895507812, 118.99703979492188, 183.40354919433594, 103.30165100097656, 103.3630599975586, 95.27241516113281, 204.1331024169922, 150.55941772460938, 113.97455596923828, 133.2358856201172, 128.79014587402344, 146.33343505859375, 131.83175659179688, 131.12039184570312, 134.8679656982422, 125.98265838623047, 125.00382995605469, 96.44994354248047, 27.80031967163086, 69.11529541015625, 22.990144729614258, 122.84343719482422, 34.63640213012695, 24.91750717163086, 49.27802658081055, 33.36094665527344, 38.13495635986328, 14.644798278808594, 20.848472595214844, 60.99903106689453, 21.980396270751953, 45.74482345581055, 31.224306106567383, 81.20128631591797, 46.16707992553711, 251.4744873046875, 28.77349090576172, 28.996837615966797, 33.14791488647461, 33.116844177246094, 34.11554718017578, 20.277328491210938, 29.48207664489746, 20.19072914123535, 169.2147674560547, 22.448135375976562, 47.18483352661133, 66.84342193603516, 44.76279830932617, 89.4739990234375, 73.89295196533203, 157.22149658203125, 51.26054382324219, 94.38218688964844, 279.9320983886719, 92.42948150634766, 114.24971008300781, 60.52039337158203, 46.41708755493164, 100.65181732177734, 84.93620300292969, 113.8268814086914, 73.30253601074219, 98.48294830322266, 73.20453643798828, 95.37257385253906, 83.38419342041016, 70.75639343261719, 84.4316177368164, 72.50093078613281, 57.83648681640625, 63.5362548828125, 60.162017822265625, 62.61692428588867, 66.19827270507812, 60.7589225769043, 60.40774154663086, 29.01988983154297, 157.6553955078125, 95.70452117919922, 116.35842895507812, 33.142723083496094, 33.51738739013672, 97.9384536743164, 25.57008934020996, 202.68626403808594, 28.267642974853516, 71.66412353515625, 19.875883102416992, 64.97313690185547, 310.4991455078125, 24.00189781188965, 28.976823806762695, 18.154743194580078, 68.89535522460938, 31.2382869720459, 48.38826370239258, 51.770938873291016, 30.191387176513672, 20.914384841918945, 46.779598236083984, 32.35127258300781, 43.69359588623047, 24.75642204284668, 69.07372283935547, 12.483229637145996, 55.95696258544922, 107.30132293701172, 67.3625717163086, 422.6429138183594, 211.63612365722656, 78.19308471679688, 142.3877410888672, 59.237022399902344, 65.77400207519531, 65.7457504272461, 65.04826354980469, 113.16194152832031, 64.0638656616211, 87.33374786376953, 91.98873901367188, 96.96549987792969, 66.21342468261719, 60.01727294921875, 91.48628234863281, 65.56373596191406, 79.97763061523438, 65.05611419677734, 64.17530059814453, 33.31124496459961, 44.16150665283203, 52.83498764038086, 245.39244079589844, 35.76145935058594, 32.640052795410156, 164.2488555908203, 295.90625, 163.7344970703125, 63.81234359741211, 149.3726806640625, 148.87486267089844, 83.67431640625, 27.98568344116211, 37.63492965698242, 27.24565887451172, 28.906673431396484, 21.24243927001953, 19.940460205078125, 26.043500900268555, 60.837684631347656, 26.310226440429688, 95.43487548828125, 12.496212005615234, 9.457246780395508, 72.62004852294922, 161.02239990234375, 124.91255950927734, 12.015336036682129, 25.285621643066406, 47.31188201904297, 152.647705078125, 71.77729034423828, 76.54761505126953, 62.89826202392578, 404.87811279296875, 176.68026733398438, 95.68428802490234, 80.3523941040039, 98.7910385131836, 75.75141143798828, 144.19650268554688, 75.45356750488281, 81.2383041381836, 68.65406799316406, 74.2618408203125, 64.26570892333984, 65.0764389038086, 49.534305572509766, 35.886695861816406, 42.69265365600586, 347.21697998046875, 48.48199462890625, 16.436979293823242, 28.100648880004883, 40.645225524902344, 13.753459930419922, 38.45095443725586, 30.985551834106445, 408.493896484375, 67.85276794433594, 27.92502784729004, 56.94088363647461, 50.95172119140625, 126.42364501953125, 28.81214141845703, 24.94931411743164, 21.036155700683594, 56.165733337402344, 228.11529541015625, 14.400031089782715, 98.34182739257812, 18.51338005065918, 24.2929630279541, 29.748197555541992, 9.656084060668945, 19.833059310913086, 20.21179962158203, 37.338748931884766, 28.981992721557617, 56.79094314575195, 24.1268310546875, 91.36573028564453, 129.35617065429688, 127.4340591430664, 110.70161437988281, 35.07389831542969, 102.31897735595703, 66.75426483154297, 84.21810150146484, 76.97069549560547, 61.992515563964844, 76.18795013427734, 61.717411041259766, 51.704036712646484, 70.09756469726562, 51.04121780395508, 62.82731246948242, 60.30266571044922, 49.6329460144043, 52.99934005737305, 52.71864700317383, 53.00373077392578, 88.15808868408203, 56.661808013916016, 115.961181640625, 435.114990234375, 191.8586883544922, 23.455387115478516, 35.41694259643555, 62.244964599609375, 15.89743709564209, 12.597163200378418, 17.521055221557617, 180.38525390625, 15.398869514465332, 24.559890747070312, 43.88164520263672, 12.283795356750488, 12.412368774414062, 17.09480857849121, 14.23515510559082, 22.582521438598633, 13.75648021697998, 13.755487442016602, 36.10612487792969, 14.080850601196289, 53.99388122558594, 39.94975662231445, 34.0827751159668, 12.719258308410645, 16.705215454101562, 20.499723434448242, 47.163841247558594, 78.33165740966797, 42.9050178527832, 54.00498962402344, 147.7898406982422, 44.72016143798828, 102.55522155761719, 42.2174072265625, 175.1060333251953, 185.32196044921875, 58.50846481323242, 75.6226577758789, 83.08256530761719, 73.47291564941406, 62.201744079589844, 56.0600471496582, 54.85136795043945, 46.37601852416992, 50.79291915893555, 50.06977462768555, 43.62324523925781, 43.220252990722656, 42.895145416259766, 34.304786682128906, 14.673617362976074, 36.30828094482422, 32.392757415771484, 36.33967971801758, 22.297119140625, 39.7262077331543, 151.2892303466797, 28.507938385009766, 27.694013595581055, 36.69120788574219, 49.407814025878906, 20.171913146972656, 18.499643325805664, 22.242902755737305, 14.895480155944824, 72.97490692138672, 24.29596710205078, 14.48619270324707, 15.24367618560791, 76.19514465332031, 45.66727066040039, 53.39767837524414, 10.82794189453125, 11.70654296875, 18.611412048339844, 32.569339752197266, 103.64960479736328, 49.291969299316406, 67.33248901367188, 30.034326553344727, 37.488712310791016, 40.72600173950195, 37.006385803222656, 70.89937591552734, 87.49874114990234, 106.31210327148438, 48.43543243408203, 98.45160675048828, 59.20082473754883, 62.739288330078125, 39.07196807861328, 67.1127700805664, 59.01129913330078, 52.53672409057617, 51.1672477722168, 57.10317611694336, 54.08043670654297, 44.97687911987305, 43.26225662231445, 42.66023254394531, 41.536251068115234, 40.2375373840332, 26.86371421813965, 23.3586483001709, 25.861059188842773, 17.4422550201416, 12.999733924865723, 12.649191856384277, 29.36534309387207, 49.84230041503906, 17.116731643676758, 29.02365493774414, 62.09161376953125, 88.90560913085938, 21.47118377685547, 50.608463287353516, 19.63299560546875, 62.32715606689453, 9.986824989318848, 107.9770736694336, 11.008684158325195, 119.7806167602539, 15.478866577148438, 88.0845718383789, 28.034313201904297, 25.3553409576416, 76.14263916015625, 9.393949508666992, 8.76574993133545, 6.862061500549316, 44.268531799316406, 49.6225471496582, 57.3495979309082, 16.731990814208984, 99.39944458007812, 76.27825164794922, 50.613624572753906, 63.58843994140625, 46.58794403076172, 54.03779220581055, 47.9383659362793, 45.19630432128906, 46.367984771728516, 65.14885711669922, 54.24583053588867, 89.03776550292969, 38.083770751953125, 38.236507415771484, 74.60540008544922, 43.70072555541992, 44.907344818115234, 43.3581657409668, 41.42776107788086, 55.22178649902344, 47.9373664855957, 19.94121742248535, 43.38645935058594, 54.0634651184082, 143.92103576660156, 145.90013122558594, 18.6042537689209, 141.0377655029297, 17.20941162109375, 19.793663024902344, 19.975082397460938, 9.854641914367676, 15.362926483154297, 10.258439064025879, 18.473188400268555, 9.084113121032715, 8.44250202178955, 22.082130432128906, 8.607624053955078, 8.603211402893066, 16.923480987548828, 15.925378799438477, 9.140846252441406, 26.525794982910156, 23.733858108520508, 56.33700942993164, 20.872072219848633, 7.006856918334961, 23.01028823852539, 24.91155433654785, 17.64716911315918, 55.472225189208984, 44.64175796508789, 116.37056732177734, 25.452905654907227, 197.26187133789062, 36.38652420043945, 38.62091827392578, 26.09353256225586, 49.229881286621094, 101.1235580444336, 49.236045837402344, 52.41644287109375, 68.9142837524414, 34.2703857421875, 44.48834228515625, 37.75370407104492, 41.77435302734375, 40.73513412475586, 33.857357025146484, 26.654573440551758, 33.29862976074219, 35.67897033691406, 32.76914596557617, 39.20414733886719, 31.77967643737793, 34.03004455566406], \"Total\": [1606.0, 516.0, 719.0, 512.0, 418.0, 1055.0, 486.0, 681.0, 329.0, 489.0, 1132.0, 365.0, 239.0, 588.0, 293.0, 256.0, 252.0, 612.0, 237.0, 288.0, 423.0, 451.0, 231.0, 232.0, 164.0, 561.0, 299.0, 295.0, 215.0, 214.0, 183.74160766601562, 108.08322143554688, 120.82675170898438, 175.0062713623047, 161.2266387939453, 26.523353576660156, 295.56341552734375, 84.55709838867188, 34.42644500732422, 61.89796447753906, 92.38334655761719, 65.93855285644531, 146.3989715576172, 36.377437591552734, 33.4268798828125, 199.00250244140625, 33.52362823486328, 34.42451095581055, 81.41673278808594, 64.69953155517578, 82.78459930419922, 37.19347381591797, 97.49662780761719, 50.18275833129883, 49.31859588623047, 56.832542419433594, 99.43978118896484, 38.554344177246094, 74.0322494506836, 74.50334930419922, 167.00938415527344, 154.5479736328125, 139.93460083007812, 423.4553527832031, 208.5481414794922, 306.146728515625, 114.447021484375, 133.6365203857422, 109.7794418334961, 107.39598083496094, 237.92161560058594, 175.05563354492188, 262.37286376953125, 148.28607177734375, 240.35440063476562, 157.10699462890625, 461.10198974609375, 264.5918273925781, 212.55197143554688, 190.57298278808594, 522.8851928710938, 473.4862976074219, 612.5497436523438, 289.0960693359375, 301.52642822265625, 267.8866271972656, 505.59466552734375, 298.2640686035156, 452.3086242675781, 487.8229064941406, 433.9468078613281, 439.9753112792969, 406.87652587890625, 36.057373046875, 22.0270938873291, 21.02501678466797, 21.025022506713867, 38.98456954956055, 44.93299102783203, 81.29185485839844, 20.959497451782227, 40.88470458984375, 45.90957260131836, 151.67933654785156, 29.9693603515625, 59.0008659362793, 23.023582458496094, 32.046417236328125, 314.69744873046875, 33.99667739868164, 36.11293029785156, 42.831485748291016, 31.992130279541016, 46.985618591308594, 41.01853942871094, 26.127700805664062, 45.68840789794922, 65.1763916015625, 25.917856216430664, 74.79232025146484, 28.006675720214844, 37.942447662353516, 37.81696701049805, 166.7852020263672, 79.29163360595703, 1132.15234375, 681.22998046875, 1055.2603759765625, 155.55955505371094, 143.23147583007812, 452.3086242675781, 942.1500244140625, 477.0602111816406, 237.05796813964844, 462.94110107421875, 136.20086669921875, 382.4410705566406, 384.1727294921875, 588.5545654296875, 227.70542907714844, 86.00760650634766, 259.2964172363281, 417.5438232421875, 361.2878723144531, 228.0350799560547, 453.4409484863281, 191.2758026123047, 191.8417510986328, 176.14019775390625, 628.3497924804688, 385.1105041503906, 239.86683654785156, 358.4081726074219, 343.89666748046875, 468.82666015625, 375.6768493652344, 473.1124267578125, 581.7365112304688, 486.9359130859375, 567.7496337890625, 116.8858642578125, 35.44050598144531, 89.17208862304688, 30.622072219848633, 170.35389709472656, 48.26496505737305, 35.31524658203125, 72.6843490600586, 50.191497802734375, 58.16646957397461, 23.257535934448242, 33.85039520263672, 100.85738372802734, 36.39762496948242, 75.84180450439453, 52.080230712890625, 135.5303192138672, 77.10932159423828, 451.0328369140625, 52.091793060302734, 53.56294631958008, 61.8043212890625, 61.80682373046875, 63.86979675292969, 38.37480545043945, 56.185646057128906, 38.50178146362305, 324.880615234375, 43.239402770996094, 92.94048309326172, 134.40806579589844, 89.97160339355469, 199.5873260498047, 172.48814392089844, 567.7496337890625, 122.6579360961914, 302.88726806640625, 1606.2703857421875, 316.0757751464844, 461.64849853515625, 176.969482421875, 111.62454223632812, 463.7419128417969, 344.82861328125, 612.5497436523438, 296.93328857421875, 588.5545654296875, 330.3448486328125, 719.1851196289062, 505.59466552734375, 329.2723693847656, 581.7365112304688, 421.3925476074219, 214.33462524414062, 337.229248046875, 304.19384765625, 473.4862976074219, 1132.15234375, 512.3021850585938, 62.07291030883789, 30.038311004638672, 164.16624450683594, 100.08610534667969, 125.79138946533203, 36.98826217651367, 38.00373840332031, 111.63177490234375, 29.83148956298828, 237.40380859375, 38.75210189819336, 105.66493225097656, 30.213903427124023, 100.50328063964844, 486.9359130859375, 39.03022766113281, 47.634525299072266, 30.134170532226562, 116.73097229003906, 53.6909065246582, 85.85468292236328, 95.20056915283203, 57.287513732910156, 39.79295349121094, 89.79934692382812, 62.70545959472656, 86.08685302734375, 50.16327667236328, 141.06993103027344, 26.631559371948242, 121.87629699707031, 244.72801208496094, 154.6028289794922, 1606.2703857421875, 681.22998046875, 191.60028076171875, 423.3123474121094, 138.0759735107422, 160.365234375, 161.33499145507812, 159.3856658935547, 395.45587158203125, 164.59205627441406, 304.19384765625, 337.229248046875, 628.3497924804688, 260.6284484863281, 192.25575256347656, 1055.2603759765625, 306.5716247558594, 1132.15234375, 373.2566833496094, 477.0602111816406, 35.78104019165039, 55.593284606933594, 68.280517578125, 329.858642578125, 48.575008392333984, 44.64163589477539, 232.1868438720703, 418.69207763671875, 231.98350524902344, 90.617919921875, 214.24839782714844, 215.1690216064453, 130.17697143554688, 43.990478515625, 63.807228088378906, 51.62422561645508, 56.56675720214844, 41.90208053588867, 39.86681365966797, 53.08147430419922, 126.85840606689453, 55.57863998413086, 206.13040161132812, 27.436309814453125, 20.869752883911133, 164.59205627441406, 373.2566833496094, 292.91259765625, 28.732345581054688, 64.68602752685547, 121.63328552246094, 423.3123474121094, 191.60028076171875, 210.0459442138672, 169.18692016601562, 1606.2703857421875, 942.1500244140625, 391.5164489746094, 306.5716247558594, 477.0602111816406, 304.19384765625, 1132.15234375, 337.229248046875, 581.7365112304688, 382.4410705566406, 628.3497924804688, 395.45587158203125, 468.82666015625, 50.52520751953125, 51.009727478027344, 60.98875045776367, 512.3021850585938, 74.16751098632812, 27.271114349365234, 46.856414794921875, 67.77970886230469, 23.047975540161133, 65.90828704833984, 53.59523391723633, 719.1851196289062, 122.73516082763672, 51.42652130126953, 105.04243469238281, 97.29450988769531, 245.77584838867188, 56.38957214355469, 49.14314651489258, 41.523128509521484, 116.58504486083984, 489.10943603515625, 31.154752731323242, 214.33462524414062, 40.395999908447266, 53.42679977416992, 66.52730560302734, 21.822795867919922, 45.30324172973633, 46.22288513183594, 87.60747528076172, 70.2433853149414, 160.08824157714844, 57.356388092041016, 294.3910217285156, 473.1124267578125, 612.5497436523438, 505.59466552734375, 95.98130798339844, 615.0238647460938, 296.93328857421875, 461.64849853515625, 417.5438232421875, 280.0372009277344, 461.10198974609375, 302.88726806640625, 211.0536651611328, 487.8229064941406, 217.01101684570312, 469.9071960449219, 417.5851745605469, 241.48377990722656, 375.6768493652344, 387.2159729003906, 567.7496337890625, 92.80966186523438, 60.58818817138672, 130.71554565429688, 516.04443359375, 239.55020141601562, 34.384735107421875, 57.57209396362305, 102.3458480834961, 26.524091720581055, 21.65723991394043, 32.29317092895508, 365.0166015625, 31.42767333984375, 52.12147903442383, 93.92473602294922, 26.690719604492188, 27.423730850219727, 39.2760009765625, 33.0086784362793, 52.47901153564453, 32.4050178527832, 32.40510940551758, 85.6847152709961, 33.59876251220703, 136.62435913085938, 101.10150909423828, 86.956298828125, 33.12803268432617, 43.59639358520508, 53.515541076660156, 128.42977905273438, 246.8595428466797, 126.83147430419922, 167.65521240234375, 588.5545654296875, 150.39596557617188, 466.92181396484375, 143.0994415283203, 1055.2603759765625, 1606.2703857421875, 298.2640686035156, 487.9420471191406, 581.7365112304688, 561.5687255859375, 406.87652587890625, 463.7419128417969, 468.82666015625, 306.146728515625, 522.8851928710938, 615.0238647460938, 299.3500671386719, 288.3101806640625, 52.316646575927734, 42.29756546020508, 21.03679084777832, 54.8406982421875, 53.17954635620117, 60.570926666259766, 40.91269302368164, 73.66148376464844, 288.3101806640625, 54.5707893371582, 53.1876335144043, 72.9281234741211, 99.74090576171875, 41.8726806640625, 38.64272689819336, 46.91507339477539, 32.149383544921875, 162.05458068847656, 54.572242736816406, 33.63200759887695, 35.890995025634766, 180.00457763671875, 108.80132293701172, 130.19850158691406, 26.791006088256836, 29.568008422851562, 48.06058120727539, 87.86858367919922, 280.0372009277344, 134.0057373046875, 190.868408203125, 84.71581268310547, 111.60253143310547, 126.83147430419922, 112.02422332763672, 296.93328857421875, 415.7554016113281, 612.5497436523438, 177.4426727294922, 615.0238647460938, 264.6899108886719, 336.2204895019531, 138.0181121826172, 522.8851928710938, 384.1727294921875, 308.90716552734375, 288.4761047363281, 561.5687255859375, 487.8229064941406, 237.0976104736328, 217.01101684570312, 463.7419128417969, 439.9753112792969, 290.3227844238281, 44.91386795043945, 41.14234924316406, 46.2435302734375, 32.039066314697266, 24.650785446166992, 25.187334060668945, 58.6937141418457, 101.04707336425781, 34.8906364440918, 60.21318054199219, 130.20010375976562, 187.11154174804688, 46.846309661865234, 111.09601593017578, 44.39321517944336, 142.0843505859375, 23.45014190673828, 255.3986053466797, 26.825904846191406, 299.3500671386719, 39.973506927490234, 229.542236328125, 73.7008056640625, 67.74348449707031, 211.88632202148438, 27.08383560180664, 27.310773849487305, 21.497262954711914, 142.1707000732422, 160.9313201904297, 210.0459442138672, 56.10102844238281, 418.69207763671875, 316.0757751464844, 227.4269561767578, 329.858642578125, 215.1690216064453, 272.07421875, 231.98350524902344, 214.24839782714844, 232.1868438720703, 487.9420471191406, 358.4081726074219, 1132.15234375, 169.18692016601562, 173.5644989013672, 1606.2703857421875, 288.4761047363281, 322.0577087402344, 468.82666015625, 375.6768493652344, 66.8879165649414, 58.935611724853516, 30.973451614379883, 73.22917175292969, 92.37594604492188, 252.531005859375, 256.29974365234375, 32.992855072021484, 293.25238037109375, 38.510013580322266, 46.07606887817383, 47.623313903808594, 24.650785446166992, 38.82946014404297, 25.961992263793945, 48.06058120727539, 26.825904846191406, 25.266971588134766, 66.88874816894531, 26.20257568359375, 26.203304290771484, 52.47781753540039, 49.77436828613281, 29.29668426513672, 85.7494125366211, 76.84856414794922, 182.76356506347656, 68.1275634765625, 23.17899513244629, 76.62948608398438, 82.96869659423828, 59.364349365234375, 211.88632202148438, 176.14019775390625, 561.5687255859375, 99.15587615966797, 1606.2703857421875, 163.80377197265625, 191.03567504882812, 108.5657958984375, 306.5716247558594, 1055.2603759765625, 385.1105041503906, 466.92181396484375, 942.1500244140625, 217.01101684570312, 463.7419128417969, 329.5401916503906, 487.9420471191406, 473.1124267578125, 299.3500671386719, 119.64051818847656, 304.19384765625, 462.94110107421875, 329.2723693847656, 1132.15234375, 337.229248046875, 615.0238647460938], \"Category\": [\"Default\", \"Default\", \"Default\", \"Default\", \"Default\", \"Default\", \"Default\", \"Default\", \"Default\", \"Default\", \"Default\", \"Default\", \"Default\", \"Default\", \"Default\", \"Default\", \"Default\", \"Default\", \"Default\", \"Default\", \"Default\", \"Default\", \"Default\", \"Default\", \"Default\", \"Default\", \"Default\", \"Default\", \"Default\", \"Default\", \"Topic1\", \"Topic1\", \"Topic1\", \"Topic1\", \"Topic1\", \"Topic1\", \"Topic1\", \"Topic1\", \"Topic1\", \"Topic1\", \"Topic1\", \"Topic1\", \"Topic1\", \"Topic1\", \"Topic1\", \"Topic1\", \"Topic1\", \"Topic1\", \"Topic1\", \"Topic1\", \"Topic1\", \"Topic1\", \"Topic1\", \"Topic1\", \"Topic1\", \"Topic1\", \"Topic1\", \"Topic1\", \"Topic1\", \"Topic1\", \"Topic1\", \"Topic1\", \"Topic1\", \"Topic1\", \"Topic1\", \"Topic1\", \"Topic1\", \"Topic1\", \"Topic1\", \"Topic1\", \"Topic1\", \"Topic1\", \"Topic1\", \"Topic1\", \"Topic1\", \"Topic1\", \"Topic1\", \"Topic1\", \"Topic1\", \"Topic1\", \"Topic1\", \"Topic1\", \"Topic1\", \"Topic1\", \"Topic1\", \"Topic1\", \"Topic1\", \"Topic1\", \"Topic1\", \"Topic1\", \"Topic1\", \"Topic1\", \"Topic1\", \"Topic2\", \"Topic2\", \"Topic2\", \"Topic2\", \"Topic2\", \"Topic2\", \"Topic2\", \"Topic2\", \"Topic2\", \"Topic2\", \"Topic2\", \"Topic2\", \"Topic2\", \"Topic2\", \"Topic2\", \"Topic2\", \"Topic2\", \"Topic2\", \"Topic2\", \"Topic2\", \"Topic2\", \"Topic2\", \"Topic2\", \"Topic2\", \"Topic2\", \"Topic2\", \"Topic2\", \"Topic2\", \"Topic2\", \"Topic2\", \"Topic2\", \"Topic2\", \"Topic2\", \"Topic2\", \"Topic2\", \"Topic2\", \"Topic2\", \"Topic2\", \"Topic2\", \"Topic2\", \"Topic2\", \"Topic2\", \"Topic2\", \"Topic2\", \"Topic2\", \"Topic2\", \"Topic2\", \"Topic2\", \"Topic2\", \"Topic2\", \"Topic2\", \"Topic2\", \"Topic2\", \"Topic2\", \"Topic2\", \"Topic2\", \"Topic2\", \"Topic2\", \"Topic2\", \"Topic2\", \"Topic2\", \"Topic2\", \"Topic2\", \"Topic2\", \"Topic2\", \"Topic2\", \"Topic2\", \"Topic3\", \"Topic3\", \"Topic3\", \"Topic3\", \"Topic3\", \"Topic3\", \"Topic3\", \"Topic3\", \"Topic3\", \"Topic3\", \"Topic3\", \"Topic3\", \"Topic3\", \"Topic3\", \"Topic3\", \"Topic3\", \"Topic3\", \"Topic3\", \"Topic3\", \"Topic3\", \"Topic3\", \"Topic3\", \"Topic3\", \"Topic3\", \"Topic3\", \"Topic3\", \"Topic3\", \"Topic3\", \"Topic3\", \"Topic3\", \"Topic3\", \"Topic3\", \"Topic3\", \"Topic3\", \"Topic3\", \"Topic3\", \"Topic3\", \"Topic3\", \"Topic3\", \"Topic3\", \"Topic3\", \"Topic3\", \"Topic3\", \"Topic3\", \"Topic3\", \"Topic3\", \"Topic3\", \"Topic3\", \"Topic3\", \"Topic3\", \"Topic3\", \"Topic3\", \"Topic3\", \"Topic3\", \"Topic3\", \"Topic3\", \"Topic3\", \"Topic3\", \"Topic3\", \"Topic4\", \"Topic4\", \"Topic4\", \"Topic4\", \"Topic4\", \"Topic4\", \"Topic4\", \"Topic4\", \"Topic4\", \"Topic4\", \"Topic4\", \"Topic4\", \"Topic4\", \"Topic4\", \"Topic4\", \"Topic4\", \"Topic4\", \"Topic4\", \"Topic4\", \"Topic4\", \"Topic4\", \"Topic4\", \"Topic4\", \"Topic4\", \"Topic4\", \"Topic4\", \"Topic4\", \"Topic4\", \"Topic4\", \"Topic4\", \"Topic4\", \"Topic4\", \"Topic4\", \"Topic4\", \"Topic4\", \"Topic4\", \"Topic4\", \"Topic4\", \"Topic4\", \"Topic4\", \"Topic4\", \"Topic4\", \"Topic4\", \"Topic4\", \"Topic4\", \"Topic4\", \"Topic4\", \"Topic4\", \"Topic4\", \"Topic4\", \"Topic4\", \"Topic4\", \"Topic4\", \"Topic5\", \"Topic5\", \"Topic5\", \"Topic5\", \"Topic5\", \"Topic5\", \"Topic5\", \"Topic5\", \"Topic5\", \"Topic5\", \"Topic5\", \"Topic5\", \"Topic5\", \"Topic5\", \"Topic5\", \"Topic5\", \"Topic5\", \"Topic5\", \"Topic5\", \"Topic5\", \"Topic5\", \"Topic5\", \"Topic5\", \"Topic5\", \"Topic5\", \"Topic5\", \"Topic5\", \"Topic5\", \"Topic5\", \"Topic5\", \"Topic5\", \"Topic5\", \"Topic5\", \"Topic5\", \"Topic5\", \"Topic5\", \"Topic5\", \"Topic5\", \"Topic5\", \"Topic5\", \"Topic5\", \"Topic5\", \"Topic5\", \"Topic5\", \"Topic5\", \"Topic5\", \"Topic5\", \"Topic5\", \"Topic6\", \"Topic6\", \"Topic6\", \"Topic6\", \"Topic6\", \"Topic6\", \"Topic6\", \"Topic6\", \"Topic6\", \"Topic6\", \"Topic6\", \"Topic6\", \"Topic6\", \"Topic6\", \"Topic6\", \"Topic6\", \"Topic6\", \"Topic6\", \"Topic6\", \"Topic6\", \"Topic6\", \"Topic6\", \"Topic6\", \"Topic6\", \"Topic6\", \"Topic6\", \"Topic6\", \"Topic6\", \"Topic6\", \"Topic6\", \"Topic6\", \"Topic6\", \"Topic6\", \"Topic6\", \"Topic6\", \"Topic6\", \"Topic6\", \"Topic6\", \"Topic6\", \"Topic6\", \"Topic6\", \"Topic6\", \"Topic6\", \"Topic6\", \"Topic6\", \"Topic6\", \"Topic6\", \"Topic6\", \"Topic6\", \"Topic6\", \"Topic6\", \"Topic6\", \"Topic6\", \"Topic6\", \"Topic6\", \"Topic7\", \"Topic7\", \"Topic7\", \"Topic7\", \"Topic7\", \"Topic7\", \"Topic7\", \"Topic7\", \"Topic7\", \"Topic7\", \"Topic7\", \"Topic7\", \"Topic7\", \"Topic7\", \"Topic7\", \"Topic7\", \"Topic7\", \"Topic7\", \"Topic7\", \"Topic7\", \"Topic7\", \"Topic7\", \"Topic7\", \"Topic7\", \"Topic7\", \"Topic7\", \"Topic7\", \"Topic7\", \"Topic7\", \"Topic7\", \"Topic7\", \"Topic7\", \"Topic7\", \"Topic7\", \"Topic7\", \"Topic7\", \"Topic7\", \"Topic7\", \"Topic7\", \"Topic7\", \"Topic7\", \"Topic7\", \"Topic7\", \"Topic7\", \"Topic7\", \"Topic7\", \"Topic7\", \"Topic7\", \"Topic7\", \"Topic7\", \"Topic7\", \"Topic7\", \"Topic8\", \"Topic8\", \"Topic8\", \"Topic8\", \"Topic8\", \"Topic8\", \"Topic8\", \"Topic8\", \"Topic8\", \"Topic8\", \"Topic8\", \"Topic8\", \"Topic8\", \"Topic8\", \"Topic8\", \"Topic8\", \"Topic8\", \"Topic8\", \"Topic8\", \"Topic8\", \"Topic8\", \"Topic8\", \"Topic8\", \"Topic8\", \"Topic8\", \"Topic8\", \"Topic8\", \"Topic8\", \"Topic8\", \"Topic8\", \"Topic8\", \"Topic8\", \"Topic8\", \"Topic8\", \"Topic8\", \"Topic8\", \"Topic8\", \"Topic8\", \"Topic8\", \"Topic8\", \"Topic8\", \"Topic8\", \"Topic8\", \"Topic8\", \"Topic8\", \"Topic8\", \"Topic8\", \"Topic8\", \"Topic8\", \"Topic8\", \"Topic8\", \"Topic8\", \"Topic8\", \"Topic8\", \"Topic9\", \"Topic9\", \"Topic9\", \"Topic9\", \"Topic9\", \"Topic9\", \"Topic9\", \"Topic9\", \"Topic9\", \"Topic9\", \"Topic9\", \"Topic9\", \"Topic9\", \"Topic9\", \"Topic9\", \"Topic9\", \"Topic9\", \"Topic9\", \"Topic9\", \"Topic9\", \"Topic9\", \"Topic9\", \"Topic9\", \"Topic9\", \"Topic9\", \"Topic9\", \"Topic9\", \"Topic9\", \"Topic9\", \"Topic9\", \"Topic9\", \"Topic9\", \"Topic9\", \"Topic9\", \"Topic9\", \"Topic9\", \"Topic9\", \"Topic9\", \"Topic9\", \"Topic9\", \"Topic9\", \"Topic9\", \"Topic9\", \"Topic9\", \"Topic9\", \"Topic9\", \"Topic9\", \"Topic9\", \"Topic9\", \"Topic9\", \"Topic9\", \"Topic10\", \"Topic10\", \"Topic10\", \"Topic10\", \"Topic10\", \"Topic10\", \"Topic10\", \"Topic10\", \"Topic10\", \"Topic10\", \"Topic10\", \"Topic10\", \"Topic10\", \"Topic10\", \"Topic10\", \"Topic10\", \"Topic10\", \"Topic10\", \"Topic10\", \"Topic10\", \"Topic10\", \"Topic10\", \"Topic10\", \"Topic10\", \"Topic10\", \"Topic10\", \"Topic10\", \"Topic10\", \"Topic10\", \"Topic10\", \"Topic10\", \"Topic10\", \"Topic10\", \"Topic10\", \"Topic10\", \"Topic10\", \"Topic10\", \"Topic10\", \"Topic10\", \"Topic10\", \"Topic10\", \"Topic10\", \"Topic10\", \"Topic10\", \"Topic10\", \"Topic10\", \"Topic10\", \"Topic10\", \"Topic10\", \"Topic10\", \"Topic10\", \"Topic10\", \"Topic10\", \"Topic10\", \"Topic10\", \"Topic10\", \"Topic10\", \"Topic10\"], \"logprob\": [30.0, 29.0, 28.0, 27.0, 26.0, 25.0, 24.0, 23.0, 22.0, 21.0, 20.0, 19.0, 18.0, 17.0, 16.0, 15.0, 14.0, 13.0, 12.0, 11.0, 10.0, 9.0, 8.0, 7.0, 6.0, 5.0, 4.0, 3.0, 2.0, 1.0, -5.157899856567383, -5.691699981689453, -5.585599899291992, -5.2256999015808105, -5.317399978637695, -7.124100208282471, -4.71589994430542, -5.980500221252441, -6.889699935913086, -6.303899765014648, -5.9116997718811035, -6.25, -5.46120023727417, -6.855999946594238, -6.957799911499023, -5.183599948883057, -6.971700191497803, -6.947700023651123, -6.09119987487793, -6.324999809265137, -6.081500053405762, -6.881800174713135, -5.9274001121521, -6.593699932098389, -6.625400066375732, -6.485799789428711, -5.934899806976318, -6.8871002197265625, -6.23960018157959, -6.237599849700928, -5.435400009155273, -5.524499893188477, -5.634699821472168, -4.598199844360352, -5.2642998695373535, -4.948299884796143, -5.873600006103516, -5.751500129699707, -5.9309000968933105, -5.94980001449585, -5.298099994659424, -5.550899982452393, -5.244500160217285, -5.716899871826172, -5.367599964141846, -5.675600051879883, -4.997200012207031, -5.358500003814697, -5.544600009918213, -5.615699768066406, -5.156799793243408, -5.233699798583984, -5.1265997886657715, -5.478499889373779, -5.467700004577637, -5.526199817657471, -5.344299793243408, -5.518499851226807, -5.4191999435424805, -5.4045000076293945, -5.451499938964844, -5.504199981689453, -5.52839994430542, -6.79449987411499, -7.303599834442139, -7.352099895477295, -7.352099895477295, -6.749599933624268, -6.625699996948242, -6.033100128173828, -7.406700134277344, -6.740099906921387, -6.625899791717529, -5.449999809265137, -7.072700023651123, -6.410099983215332, -7.368299961090088, -7.04640007019043, -4.76669979095459, -7.003399848937988, -6.946700096130371, -6.782800197601318, -7.077700138092041, -6.697999954223633, -6.8383002281188965, -7.28980016708374, -6.737400054931641, -6.382900238037109, -7.3246002197265625, -6.2683000564575195, -7.261600017547607, -6.962800025939941, -6.9822998046875, -5.532700061798096, -6.290500164031982, -3.8403000831604004, -4.338900089263916, -4.025400161743164, -5.7459001541137695, -5.83050012588501, -4.899899959564209, -4.309999942779541, -4.876399993896484, -5.451099872589111, -4.923299789428711, -5.889999866485596, -5.092199802398682, -5.092400074005127, -4.797100067138672, -5.547699928283691, -6.273600101470947, -5.472400188446045, -5.142300128936768, -5.255799770355225, -5.575500011444092, -5.142899990081787, -5.716899871826172, -5.716300010681152, -5.797800064086914, -5.035799980163574, -5.340199947357178, -5.618599891662598, -5.462399959564209, -5.496399879455566, -5.36870002746582, -5.4730000495910645, -5.478400230407715, -5.450300216674805, -5.518400192260742, -5.526199817657471, -4.984399795532227, -6.228400230407715, -5.317599773406982, -6.418300151824951, -4.742499828338623, -6.008500099182129, -6.337800025939941, -5.655900001525879, -6.046000003814697, -5.912300109863281, -6.86929988861084, -6.51609992980957, -5.442500114440918, -6.463200092315674, -5.730299949645996, -6.112199783325195, -5.156499862670898, -5.721099853515625, -4.026100158691406, -6.193900108337402, -6.186200141906738, -6.0524001121521, -6.053400039672852, -6.023600101470947, -6.543900012969971, -6.169600009918213, -6.5482001304626465, -4.4222002029418945, -6.442200183868408, -5.6992998123168945, -5.35099983215332, -5.751999855041504, -5.059500217437744, -5.250800132751465, -4.495699882507324, -5.616499900817871, -5.00600004196167, -3.9189000129699707, -5.0269999504089355, -4.815000057220459, -5.450399875640869, -5.715700149536133, -4.941699981689453, -5.111499786376953, -4.818699836730957, -5.258800029754639, -4.963500022888184, -5.2600998878479, -4.99560022354126, -5.129899978637695, -5.2941999435424805, -5.117499828338623, -5.269800186157227, -5.495800018310547, -5.401800155639648, -5.456399917602539, -5.416399955749512, -5.3607001304626465, -5.446499824523926, -5.392000198364258, -6.125199794769287, -4.432799816131592, -4.9319000244140625, -4.736499786376953, -5.992300033569336, -5.981100082397461, -4.90880012512207, -6.251699924468994, -4.18149995803833, -6.151400089263916, -5.221199989318848, -6.503699779510498, -5.319200038909912, -3.755000114440918, -6.315000057220459, -6.126699924468994, -6.594200134277344, -5.2606000900268555, -6.051499843597412, -5.613900184631348, -5.546299934387207, -6.085599899291992, -6.452700138092041, -5.64769983291626, -6.016499996185303, -5.716000080108643, -6.28410005569458, -5.257999897003174, -6.968800067901611, -5.468599796295166, -4.817500114440918, -5.283100128173828, -3.4465999603271484, -4.138299942016602, -5.133999824523926, -4.534599781036377, -5.411600112915039, -5.3069000244140625, -5.307400226593018, -5.317999839782715, -4.7642998695373535, -5.3333001136779785, -5.023399829864502, -4.971499919891357, -4.918799877166748, -5.300300121307373, -5.398499965667725, -4.9770002365112305, -5.310100078582764, -5.111400127410889, -5.31790018081665, -5.331500053405762, -5.967400074005127, -5.685400009155273, -5.506100177764893, -3.970400094985962, -5.896399974822998, -5.987800121307373, -4.3719000816345215, -3.7832999229431152, -4.375100135803223, -5.317399978637695, -4.466899871826172, -4.470200061798096, -5.04640007019043, -6.141600131988525, -5.845399856567383, -6.168399810791016, -6.1092000007629395, -6.417300224304199, -6.480500221252441, -6.213500022888184, -5.365099906921387, -6.2032999992370605, -4.914899826049805, -6.94789981842041, -7.226500034332275, -5.1880998611450195, -4.3917999267578125, -4.645699977874756, -6.987100124359131, -6.243100166320801, -5.616499900817871, -4.445199966430664, -5.199699878692627, -5.13539981842041, -5.3317999839782715, -3.4697000980377197, -4.298999786376953, -4.912199974060059, -5.086900234222412, -4.880300045013428, -5.1458001136779785, -4.502099990844727, -5.149799823760986, -5.075900077819824, -5.244200229644775, -5.1656999588012695, -5.310299873352051, -5.297699928283691, -5.421599864959717, -5.743899822235107, -5.570300102233887, -3.474299907684326, -5.4430999755859375, -6.524700164794922, -5.988500118255615, -5.6194000244140625, -6.703000068664551, -5.674900054931641, -5.8907999992370605, -3.311800003051758, -5.106900215148926, -5.994800090789795, -5.282299995422363, -5.393400192260742, -4.484600067138672, -5.963500022888184, -6.107399940490723, -6.2779998779296875, -5.296000003814697, -3.894399881362915, -6.6570000648498535, -4.735799789428711, -6.405799865722656, -6.134099960327148, -5.93149995803833, -7.056700229644775, -6.336900234222412, -6.317999839782715, -5.70419979095459, -5.957600116729736, -5.284900188446045, -6.140999794006348, -4.8094000816345215, -4.461699962615967, -4.4766998291015625, -4.617400169372559, -5.7667999267578125, -4.696199893951416, -5.123300075531006, -4.890900135040283, -4.980899810791016, -5.197299957275391, -4.991099834442139, -5.201700210571289, -5.378699779510498, -5.074399948120117, -5.391600131988525, -5.183899879455566, -5.224899768829346, -5.419600009918213, -5.354000091552734, -5.359300136566162, -5.353899955749512, -4.668799877166748, -5.110799789428711, -4.394700050354004, -3.0722999572753906, -3.891200065612793, -5.992800235748291, -5.580699920654297, -5.0167999267578125, -6.381800174713135, -6.6143999099731445, -6.2845001220703125, -3.9528000354766846, -6.413599967956543, -5.946800231933594, -5.366399765014648, -6.639599800109863, -6.629199981689453, -6.309100151062012, -6.492199897766113, -6.030700206756592, -6.526400089263916, -6.526500225067139, -5.561500072479248, -6.5030999183654785, -5.158999919891357, -5.460299968719482, -5.619100093841553, -6.604800224304199, -6.332200050354004, -6.127500057220459, -5.294300079345703, -4.7870001792907715, -5.388899803161621, -5.15880012512207, -4.152100086212158, -5.347499847412109, -4.517499923706055, -5.405099868774414, -3.9825000762939453, -3.925800085067749, -5.078700065612793, -4.822199821472168, -4.728099822998047, -4.85099983215332, -5.017499923706055, -5.121500015258789, -5.1433000564575195, -5.311100006103516, -5.220200061798096, -5.234499931335449, -5.372300148010254, -5.3815999031066895, -5.297900199890137, -5.521399974822998, -6.37060022354126, -5.464600086212158, -5.578800201416016, -5.463799953460693, -5.952199935913086, -5.37470006942749, -4.037499904632568, -5.706500053405762, -5.735499858856201, -5.45419979095459, -5.156599998474121, -6.0524001121521, -6.138899803161621, -5.954699993133545, -6.355599880218506, -4.766600131988525, -5.866399765014648, -6.383500099182129, -6.332499980926514, -4.723400115966797, -5.235300064086914, -5.07889986038208, -6.674600124359131, -6.596499919891357, -6.132900238037109, -5.573299884796143, -4.4156999588012695, -5.158899784088135, -4.8470001220703125, -5.654300212860107, -5.432700157165527, -5.349800109863281, -5.4456000328063965, -4.795400142669678, -4.585100173950195, -4.3902997970581055, -5.176499843597412, -4.467100143432617, -4.975800037384033, -4.917699813842773, -5.391300201416016, -4.850299835205078, -4.979000091552734, -5.095200061798096, -5.121600151062012, -5.0117998123168945, -5.066199779510498, -5.250500202178955, -5.289400100708008, -5.303400039672852, -5.330100059509277, -5.3618998527526855, -5.738999843597412, -5.878799915313721, -5.7769999504089355, -6.170899868011475, -6.464799880981445, -6.492199897766113, -5.650000095367432, -5.1209001541137695, -6.189700126647949, -5.6616997718811035, -4.901199817657471, -4.542200088500977, -5.963099956512451, -5.1057000160217285, -6.052599906921387, -4.89739990234375, -6.728499889373779, -4.347899913787842, -6.631100177764893, -4.244100093841553, -6.290299892425537, -4.551499843597412, -5.696300029754639, -5.796800136566162, -4.697199821472168, -6.789700031280518, -6.85890007019043, -7.103799819946289, -5.239500045776367, -5.12529993057251, -4.980599880218506, -6.212399959564209, -4.430600166320801, -4.695400238037109, -5.105500221252441, -4.877299785614014, -5.188399791717529, -5.04010009765625, -5.159900188446045, -5.218800067901611, -5.19320011138916, -4.853099822998047, -5.036200046539307, -4.5406999588012695, -5.389999866485596, -5.386000156402588, -4.717599868774414, -5.252399921417236, -5.225200176239014, -5.260300159454346, -5.305799961090088, -4.92140007019043, -5.06279993057251, -5.940000057220459, -5.162600040435791, -4.942599773406982, -3.9635000228881836, -3.9498000144958496, -6.009399890899658, -3.9837000370025635, -6.087299823760986, -5.947400093078613, -5.938300132751465, -6.644800186157227, -6.200799942016602, -6.604599952697754, -6.01639986038208, -6.726200103759766, -6.799499988555908, -5.8379998207092285, -6.780099868774414, -6.780600070953369, -6.104000091552734, -6.16480016708374, -6.71999979019165, -5.654600143432617, -5.7657999992370605, -4.901400089263916, -5.8942999839782715, -6.985899925231934, -5.796800136566162, -5.717400074005127, -6.06220006942749, -4.916900157928467, -5.134099960327148, -4.176000118255615, -5.695899963378906, -3.648200035095215, -5.338500022888184, -5.278900146484375, -5.67110013961792, -5.036200046539307, -4.316400051116943, -5.036099910736084, -4.973499774932861, -4.699900150299072, -5.398499965667725, -5.137499809265137, -5.301700115203857, -5.200500011444092, -5.2256999015808105, -5.410600185394287, -5.649799823760986, -5.427199840545654, -5.3582000732421875, -5.443299770355225, -5.263999938964844, -5.473899841308594, -5.4054999351501465], \"loglift\": [30.0, 29.0, 28.0, 27.0, 26.0, 25.0, 24.0, 23.0, 22.0, 21.0, 20.0, 19.0, 18.0, 17.0, 16.0, 15.0, 14.0, 13.0, 12.0, 11.0, 10.0, 9.0, 8.0, 7.0, 6.0, 5.0, 4.0, 3.0, 2.0, 1.0, 1.5377999544143677, 1.534600019454956, 1.5292999744415283, 1.5188000202178955, 1.5089999437332153, 1.507099986076355, 1.5044000148773193, 1.4912999868392944, 1.4807000160217285, 1.4799000024795532, 1.4716999530792236, 1.4704999923706055, 1.4616999626159668, 1.4593000411987305, 1.4421000480651855, 1.4322999715805054, 1.4253000020980835, 1.4227999448776245, 1.4184000492095947, 1.4144999980926514, 1.4115999937057495, 1.4112999439239502, 1.4019999504089355, 1.399899959564209, 1.3854999542236328, 1.3832999467849731, 1.3747999668121338, 1.3701000213623047, 1.3652000427246094, 1.36080002784729, 1.3558000326156616, 1.3443000316619873, 1.333400011062622, 1.2625999450683594, 1.304800033569336, 1.236899971961975, 1.2955000400543213, 1.2626999616622925, 1.2798999547958374, 1.2828999757766724, 1.13919997215271, 1.1931999921798706, 1.0950000286102295, 1.1931999921798706, 1.059499979019165, 1.1766999959945679, 0.7784000039100647, 0.9725000262260437, 1.0054999589920044, 1.0435999631881714, 0.49309998750686646, 0.515500009059906, 0.36500000953674316, 0.7639999985694885, 0.732699990272522, 0.7925000190734863, 0.3391999900341034, 0.692799985408783, 0.3756999969482422, 0.3147999942302704, 0.384799987077713, 0.31839999556541443, 0.3723999857902527, 1.5296000242233276, 1.5133999586105347, 1.5113999843597412, 1.5113999843597412, 1.496399998664856, 1.4783999919891357, 1.4780999422073364, 1.4600000381469727, 1.458400011062622, 1.4565999507904053, 1.4375, 1.436400055885315, 1.4215999841690063, 1.4043999910354614, 1.3955999612808228, 1.3909000158309937, 1.3796000480651855, 1.3759000301361084, 1.3691999912261963, 1.3660999536514282, 1.3614000082015991, 1.3568999767303467, 1.3564000129699707, 1.350000023841858, 1.3492000102996826, 1.329699993133545, 1.326200008392334, 1.3151999711990356, 1.3104000091552734, 1.2941999435424805, 1.2597999572753906, 1.2457000017166138, 1.0370999574661255, 1.0463999509811401, 0.9222999811172485, 1.1162999868392944, 1.114300012588501, 0.8949999809265137, 0.7511000037193298, 0.8651999831199646, 0.9898999929428101, 0.8483999967575073, 1.1051000356674194, 0.8705000281333923, 0.8658000230789185, 0.734499990940094, 0.9334999918937683, 1.1813000440597534, 0.8787999749183655, 0.7325999736785889, 0.7638000249862671, 0.9042999744415283, 0.6495000123977661, 0.9386000037193298, 0.9362999796867371, 0.9401999711990356, 0.430400013923645, 0.6154999732971191, 0.8105999827384949, 0.5651000142097473, 0.5724999904632568, 0.3903000056743622, 0.5074999928474426, 0.27149999141693115, 0.09300000220537186, 0.20270000398159027, 0.0414000004529953, 2.1637001037597656, 2.11299991607666, 2.101099967956543, 2.069200038909912, 2.028899908065796, 2.0241000652313232, 2.0071001052856445, 1.9672000408172607, 1.9473999738693237, 1.9336999654769897, 1.8933000564575195, 1.8711999654769897, 1.8530000448226929, 1.8515000343322754, 1.8502999544143677, 1.8443000316619873, 1.8436000347137451, 1.842900037765503, 1.7717000246047974, 1.7623000144958496, 1.7422000169754028, 1.7329000234603882, 1.7318999767303467, 1.7288000583648682, 1.718000054359436, 1.7109999656677246, 1.7103999853134155, 1.7036000490188599, 1.7002999782562256, 1.6779999732971191, 1.6572999954223633, 1.6576999425888062, 1.5535999536514282, 1.5081000328063965, 1.0717999935150146, 1.4833999872207642, 1.1898000240325928, 0.6086999773979187, 1.1262999773025513, 0.9593999981880188, 1.2828999757766724, 1.4783999919891357, 0.8281999826431274, 0.9546999931335449, 0.6729000210762024, 0.9569000005722046, 0.5680999755859375, 0.8489999771118164, 0.33550000190734863, 0.553600013256073, 0.8181999921798706, 0.42579999566078186, 0.5958999991416931, 1.0458999872207642, 0.6866999864578247, 0.7351999878883362, 0.3328000009059906, -0.48339998722076416, 0.22390000522136688, 2.3889000415802, 2.3815999031066895, 2.3756000995635986, 2.371299982070923, 2.338099956512451, 2.306299924850464, 2.2904999256134033, 2.2852001190185547, 2.26200008392334, 2.257999897003174, 2.100600004196167, 2.0278000831604004, 1.9973000288009644, 1.9799000024795532, 1.9660999774932861, 1.929900050163269, 1.9190000295639038, 1.9093999862670898, 1.888800024986267, 1.874500036239624, 1.8427000045776367, 1.8069000244140625, 1.7755999565124512, 1.7727999687194824, 1.7640000581741333, 1.7542999982833862, 1.7379000186920166, 1.7099000215530396, 1.7020000219345093, 1.658400058746338, 1.6376999616622925, 1.591599941253662, 1.5852999687194824, 1.080899953842163, 1.2470999956130981, 1.5198999643325806, 1.3265000581741333, 1.5698000192642212, 1.524899959564209, 1.518399953842163, 1.5198999643325806, 1.1648999452590942, 1.472499966621399, 1.1682000160217285, 1.1169999837875366, 0.5473999977111816, 1.0458999872207642, 1.2518999576568604, -0.02930000051856041, 0.8737000226974487, -0.23399999737739563, 0.6690999865531921, 0.4101000130176544, 2.3643999099731445, 2.205699920654297, 2.179500102996826, 2.140199899673462, 2.129699945449829, 2.12280011177063, 2.0897998809814453, 2.088900089263916, 2.0875000953674316, 2.0852999687194824, 2.0752999782562256, 2.0676000118255615, 1.99399995803833, 1.9837000370025635, 1.9079999923706055, 1.7969000339508057, 1.7646000385284424, 1.756600022315979, 1.7431999444961548, 1.7238999605178833, 1.7010999917984009, 1.688099980354309, 1.6658999919891357, 1.6495000123977661, 1.6444000005722046, 1.6176999807357788, 1.5951999425888062, 1.5836999416351318, 1.5641000270843506, 1.4966000318527222, 1.4917000532150269, 1.4160000085830688, 1.4541000127792358, 1.4264999628067017, 1.4464999437332153, 1.0578999519348145, 0.7620999813079834, 1.0269999504089355, 1.0968999862670898, 0.861299991607666, 1.045699954032898, 0.37529999017715454, 0.9387000203132629, 0.4672999978065491, 0.718500018119812, 0.3005000054836273, 0.6189000010490417, 0.46129998564720154, 2.565200090408325, 2.233299970626831, 2.228300094604492, 2.196000099182129, 2.1598000526428223, 2.078700065612793, 2.073699951171875, 2.0736000537872314, 2.068700075149536, 2.046099901199341, 2.0369999408721924, 2.0192999839782715, 1.992300033569336, 1.9743000268936157, 1.972599983215332, 1.938099980354309, 1.920199990272522, 1.9134999513626099, 1.907099962234497, 1.9049999713897705, 1.854699969291687, 1.8221999406814575, 1.8131999969482422, 1.805899977684021, 1.8047000169754028, 1.7969000339508057, 1.7800999879837036, 1.7696000337600708, 1.7589000463485718, 1.7577999830245972, 1.732100009918213, 1.6996999979019165, 1.5485999584197998, 1.718999981880188, 1.4148999452590942, 1.2882000207901, 1.0148999691009521, 1.066100001335144, 1.5782999992370605, 0.7914000153541565, 1.0924999713897705, 0.8835999965667725, 0.8939999938011169, 1.0771000385284424, 0.784600019454956, 0.9941999912261963, 1.1784000396728516, 0.6449000239372253, 1.1376999616622925, 0.5727999806404114, 0.6499000191688538, 1.0027999877929688, 0.6265000104904175, 0.5910000205039978, 0.21369999647140503, 2.70989990234375, 2.6942999362945557, 2.6415998935699463, 2.5908000469207764, 2.539299964904785, 2.3787999153137207, 2.2755000591278076, 2.2641000747680664, 2.2493999004364014, 2.2195000648498535, 2.149899959564209, 2.05649995803833, 2.0478999614715576, 2.0088999271392822, 2.0002999305725098, 1.9852999448776245, 1.9686000347137451, 1.9294999837875366, 1.920300006866455, 1.9180999994277954, 1.9045000076293945, 1.9045000076293945, 1.8970999717712402, 1.891700029373169, 1.8329999446868896, 1.832800030708313, 1.8246999979019165, 1.8041000366210938, 1.8020999431610107, 1.801800012588501, 1.759600043296814, 1.6134999990463257, 1.6775000095367432, 1.628499984741211, 1.3795000314712524, 1.5484999418258667, 1.2455999851226807, 1.5405999422073364, 0.9652000069618225, 0.6018000245094299, 1.1325000524520874, 0.8968999981880188, 0.8151999711990356, 0.7275000214576721, 0.8831999897956848, 0.6484000086784363, 0.6157000064849854, 0.8741000294685364, 0.42969998717308044, 0.2531000077724457, 0.8353000283241272, 0.8636000156402588, 2.6540000438690186, 2.6431000232696533, 2.492300033569336, 2.440200090408325, 2.356800079345703, 2.3417000770568848, 2.2455999851226807, 2.235100030899048, 2.20770001411438, 2.203200101852417, 2.200000047683716, 2.165600061416626, 2.150099992752075, 2.1222000122070312, 2.115999937057495, 2.1061999797821045, 2.083199977874756, 2.0546998977661133, 2.043299913406372, 2.0102999210357666, 1.9961999654769897, 1.992900013923645, 1.9844000339508057, 1.961300015449524, 1.9465999603271484, 1.9259999990463257, 1.9039000272750854, 1.8601000308990479, 1.8587000370025635, 1.8523999452590942, 1.8106000423431396, 1.815600037574768, 1.7617000341415405, 1.716599941253662, 1.7448999881744385, 1.420300006866455, 1.294100046157837, 1.1013000011444092, 1.5541000366210938, 1.0204999446868896, 1.3549000024795532, 1.173799991607666, 1.5906000137329102, 0.7996000051498413, 0.979200005531311, 1.0809999704360962, 1.1231000423431396, 0.5666999816894531, 0.6531000137329102, 1.1901999711990356, 1.23989999294281, 0.46650001406669617, 0.49239999055862427, 0.8763999938964844, 2.365499973297119, 2.3134000301361084, 2.29830002784729, 2.271399974822998, 2.2395999431610107, 2.190700054168701, 2.187000036239624, 2.172800064086914, 2.16729998588562, 2.1496999263763428, 2.1389999389648438, 2.1354000568389893, 2.099299907684326, 2.0931999683380127, 2.0636000633239746, 2.055500030517578, 2.025899887084961, 2.0185999870300293, 1.988800048828125, 1.9635000228881836, 1.9306999444961548, 1.9217000007629395, 1.9128999710083008, 1.8967000246047974, 1.8559999465942383, 1.8206000328063965, 1.7431000471115112, 1.7375999689102173, 1.7127000093460083, 1.7029999494552612, 1.5813000202178955, 1.669700026512146, 1.441499948501587, 1.457900047302246, 1.3768999576568604, 1.233299970626831, 1.3494000434875488, 1.263100028038025, 1.3027000427246094, 1.3234000205993652, 1.2685999870300293, 0.8659999966621399, 0.9912999868392944, 0.3366999924182892, 1.3882999420166016, 1.3667000532150269, -0.1899999976158142, 0.9922000169754028, 0.9093999862670898, 0.49869999289512634, 0.6747000217437744, 2.784899950027466, 2.7699999809265137, 2.5362000465393066, 2.4530999660491943, 2.4407999515533447, 2.4142000675201416, 2.413100004196167, 2.403599977493286, 2.244499921798706, 2.171099901199341, 2.1315999031066895, 2.1077001094818115, 2.0596001148223877, 2.049299955368042, 2.0480000972747803, 2.020400047302246, 1.8937000036239624, 1.8803000450134277, 1.868299961090088, 1.8632999658584595, 1.8628000020980835, 1.8447999954223633, 1.836899995803833, 1.8118000030517578, 1.8032000064849854, 1.8015999794006348, 1.7997000217437744, 1.7934999465942383, 1.7802000045776367, 1.7734999656677246, 1.7733999490737915, 1.7633999586105347, 1.636299967765808, 1.6038999557495117, 1.4026000499725342, 1.6166000366210938, 0.8794000148773193, 1.472000002861023, 1.3777999877929688, 1.5507999658584595, 1.1476000547409058, 0.6312999725341797, 0.9196000099182129, 0.7896000146865845, 0.3612000048160553, 1.1308000087738037, 0.6323999762535095, 0.8098999857902527, 0.5185999870300293, 0.5242999792098999, 0.7971000075340271, 1.475000023841858, 0.7644000053405762, 0.41350001096725464, 0.6690999865531921, -0.38659998774528503, 0.6146000027656555, 0.08209999650716782]}, \"token.table\": {\"Topic\": [4, 5, 9, 2, 3, 4, 5, 7, 2, 6, 10, 1, 1, 2, 3, 4, 5, 7, 8, 9, 10, 1, 3, 4, 5, 7, 8, 9, 10, 5, 8, 10, 2, 4, 5, 6, 7, 5, 6, 10, 1, 6, 1, 2, 3, 4, 6, 9, 1, 3, 2, 3, 4, 7, 9, 10, 2, 3, 4, 5, 6, 7, 9, 10, 1, 3, 4, 6, 7, 1, 2, 4, 5, 6, 9, 10, 1, 3, 5, 10, 1, 10, 1, 2, 3, 4, 5, 9, 10, 1, 2, 3, 4, 5, 6, 7, 9, 1, 2, 3, 4, 5, 6, 7, 8, 9, 10, 1, 4, 5, 7, 2, 4, 5, 6, 10, 4, 5, 9, 10, 1, 7, 10, 4, 7, 9, 1, 8, 1, 2, 3, 4, 5, 6, 7, 8, 9, 10, 1, 2, 10, 1, 2, 3, 6, 9, 1, 2, 3, 4, 5, 6, 7, 9, 10, 1, 2, 3, 6, 10, 2, 3, 5, 7, 8, 9, 10, 4, 9, 1, 2, 3, 6, 7, 8, 9, 10, 1, 5, 7, 9, 10, 1, 2, 3, 5, 6, 10, 3, 8, 9, 10, 2, 4, 5, 6, 7, 10, 2, 9, 1, 2, 4, 6, 7, 9, 10, 1, 2, 5, 7, 8, 9, 10, 1, 9, 10, 1, 2, 4, 5, 6, 8, 9, 2, 5, 2, 3, 4, 6, 1, 2, 7, 9, 10, 1, 2, 3, 5, 7, 8, 9, 10, 3, 6, 8, 1, 3, 8, 10, 4, 5, 9, 2, 6, 7, 10, 2, 6, 9, 10, 1, 3, 8, 2, 3, 4, 6, 1, 2, 3, 4, 5, 6, 7, 8, 9, 10, 1, 2, 2, 3, 7, 8, 9, 10, 1, 2, 4, 5, 7, 8, 9, 10, 2, 4, 6, 7, 1, 2, 3, 4, 5, 6, 7, 8, 10, 2, 3, 4, 5, 6, 7, 8, 9, 10, 2, 3, 4, 5, 6, 7, 9, 10, 2, 4, 10, 2, 7, 2, 3, 4, 7, 9, 2, 4, 9, 2, 3, 4, 6, 7, 9, 1, 2, 3, 4, 5, 6, 7, 9, 10, 1, 3, 4, 5, 8, 10, 1, 2, 3, 5, 6, 7, 8, 9, 2, 4, 5, 10, 1, 1, 1, 2, 3, 4, 5, 6, 7, 8, 9, 10, 2, 3, 5, 7, 8, 9, 1, 2, 4, 5, 7, 9, 1, 2, 5, 6, 8, 2, 5, 7, 2, 1, 2, 3, 4, 5, 7, 9, 2, 3, 4, 5, 9, 1, 2, 3, 4, 5, 7, 9, 10, 1, 2, 3, 4, 5, 6, 7, 8, 2, 4, 1, 2, 3, 4, 5, 6, 7, 8, 9, 10, 4, 7, 8, 9, 2, 4, 5, 9, 10, 2, 3, 4, 6, 1, 2, 3, 4, 5, 6, 7, 8, 9, 10, 1, 2, 3, 4, 5, 6, 7, 8, 9, 10, 1, 2, 5, 6, 7, 10, 2, 5, 7, 8, 9, 10, 1, 2, 2, 3, 4, 5, 9, 4, 5, 9, 10, 4, 5, 9, 10, 2, 3, 8, 9, 2, 3, 4, 5, 6, 7, 8, 9, 10, 3, 4, 5, 7, 10, 2, 4, 5, 9, 10, 1, 2, 5, 6, 7, 10, 6, 1, 2, 3, 4, 5, 6, 7, 8, 9, 10, 1, 2, 3, 9, 10, 2, 3, 4, 6, 8, 9, 1, 2, 3, 4, 7, 8, 9, 2, 3, 4, 9, 4, 5, 9, 10, 4, 5, 9, 10, 1, 5, 1, 2, 3, 4, 5, 6, 7, 8, 9, 10, 2, 6, 7, 9, 10, 5, 8, 9, 5, 9, 3, 9, 10, 1, 3, 6, 7, 1, 3, 4, 8, 1, 7, 9, 10, 1, 2, 3, 7, 9, 10, 2, 5, 6, 7, 8, 10, 1, 2, 3, 4, 5, 6, 7, 8, 9, 3, 4, 6, 7, 9, 10, 2, 1, 6, 2, 3, 4, 5, 7, 1, 3, 8, 2, 4, 5, 9, 10, 4, 5, 9, 2, 4, 5, 9, 4, 5, 9, 1, 2, 3, 5, 8, 10, 1, 4, 1, 5, 7, 9, 10, 1, 2, 8, 9, 10, 1, 2, 3, 4, 5, 6, 7, 8, 9, 10, 2, 3, 4, 7, 9, 1, 3, 4, 5, 1, 2, 4, 5, 8, 9, 10, 1, 6, 9, 10, 1, 2, 3, 4, 5, 6, 7, 8, 9, 10, 1, 2, 3, 4, 5, 6, 7, 8, 9, 10, 3, 4, 5, 7, 9, 10, 1, 2, 3, 4, 5, 6, 7, 8, 9, 10, 1, 3, 5, 6, 7, 8, 9, 1, 2, 4, 5, 6, 10, 1, 2, 3, 4, 6, 1, 6, 9, 2, 3, 5, 6, 8, 1, 2, 3, 7, 8, 10, 1, 3, 9, 10, 1, 2, 3, 4, 5, 6, 7, 8, 9, 10, 2, 3, 4, 5, 6, 7, 9, 10, 2, 3, 5, 6, 9, 10, 3, 4, 5, 8, 9, 1, 2, 3, 4, 5, 8, 9, 2, 4, 5, 6, 7, 10, 4, 5, 7, 1, 2, 3, 4, 5, 6, 7, 8, 10, 1, 2, 3, 4, 5, 6, 7, 8, 9, 2, 4, 5, 7, 2, 3, 6, 7, 8, 10, 2, 5, 8, 9, 10, 1, 2, 3, 4, 5, 6, 7, 8, 9, 10, 1, 2, 3, 6, 7, 10, 1, 2, 3, 4, 5, 6, 7, 8, 9, 10, 1, 2, 3, 4, 5, 6, 7, 8, 9, 10, 1, 2, 3, 4, 5, 6, 7, 8, 9, 10, 2, 5, 6, 4, 5, 7, 9, 10, 2, 4, 5, 7, 9, 10, 1, 2, 6, 10, 1, 4, 5, 9, 1, 3, 5, 6, 8, 9, 10, 2, 3, 6, 8, 9, 10, 1, 2, 3, 4, 6, 7, 8, 9, 10, 2, 3, 4, 5, 8, 9, 10, 1, 2, 3, 4, 9, 2, 4, 5, 7, 9, 10, 1, 8, 1, 2, 3, 4, 5, 6, 9, 1, 2, 3, 4, 5, 6, 7, 8, 9, 10, 1, 6, 1, 2, 3, 4, 5, 6, 7, 8, 9, 10, 4, 7, 9, 1, 2, 3, 4, 5, 6, 7, 10, 2, 3, 4, 5, 6, 7, 10, 1, 2, 3, 4, 5, 6, 7, 8, 9, 10, 2, 3, 4, 5, 7, 10, 2, 4, 5, 7, 2, 3, 4, 5, 6, 7, 8, 9, 10, 1, 2, 3, 4, 5, 6, 7, 8, 9, 10, 1, 2, 4, 5, 6, 8, 9, 10, 2, 5, 9, 2, 6, 10, 2, 3, 4, 5, 6, 7, 8, 9, 10, 2, 3, 4, 5, 6, 7, 8, 9, 10, 1, 2, 3, 4, 5, 6, 7, 9, 10, 1, 2, 3, 4, 5, 6, 7, 8, 9, 10, 2, 3, 4, 5, 6, 9, 10, 2, 5, 6, 7, 8, 9, 1, 2, 4, 5, 6, 8, 9, 10, 1, 3, 4, 8, 9, 2, 3, 4, 5, 7, 9, 10, 2, 3, 4, 5, 6, 7, 9, 10, 2, 4, 5, 6, 9, 1, 2, 3, 4, 5, 6, 7, 8, 9, 10, 2, 3, 4, 5, 6, 7, 10, 3, 4, 5, 2, 4, 1, 2, 3, 4, 5, 6, 7, 8, 9, 10, 1, 3, 6, 7, 8, 1, 2, 6, 7, 8, 1, 2, 4, 5, 6, 7, 8, 9, 10, 1, 5, 6, 8, 1, 2, 3, 5, 7, 9, 10, 1, 2, 3, 4, 5, 6, 7, 8, 9, 10, 1, 2, 4, 5, 6, 7, 8, 9, 10, 1, 3, 4, 8, 1, 6, 1, 2, 3, 4, 5, 6, 8, 9, 1, 2, 5, 6, 1, 3, 4, 5, 6, 7, 10, 1, 2, 6, 9, 10, 2, 3, 4, 5, 6, 7, 9, 10, 3, 4, 5, 7, 8, 9, 10, 3, 4, 5, 7, 8, 9, 10, 2, 4, 5, 7, 9, 2, 4, 5, 7, 9, 1, 2, 3, 4, 5, 6, 7, 8, 9, 10, 2, 3, 4, 5, 6, 9, 1, 2, 3, 4, 5, 7, 8, 9, 10, 1, 2, 3, 4, 5, 6, 7, 9, 10, 1, 8, 9, 10, 1, 3, 8, 10, 1, 3, 6, 7, 1, 2, 3, 4, 5, 6, 7, 8, 9, 10, 1, 3, 4, 6, 7, 1, 2, 3, 4, 5, 7, 8, 9, 10, 1, 2, 4, 5, 6, 7, 8, 9, 10, 5, 7, 9, 1, 2, 3, 4, 5, 6, 7, 8, 9, 10, 1, 2, 3, 4, 6, 1, 3, 5, 7, 2, 3, 5, 10, 1, 2, 3, 4, 5, 6, 7, 8, 9, 10, 1, 3, 8, 1, 2, 5, 6, 7, 8, 10, 1, 7, 8, 1, 2, 3, 4, 7, 8, 9, 10, 1, 2, 3, 4, 5, 6, 7, 8, 9, 10, 1, 3, 4, 5, 6, 1, 2, 3, 4, 5, 6, 7, 8, 9, 10, 2, 3, 4, 7, 8, 9, 10, 1, 2, 3, 4, 5, 6, 7, 10, 1, 2, 3, 6, 7, 8, 9, 10, 1, 2, 3, 4, 6, 8, 9, 1, 2, 3, 5, 6, 7, 8, 9, 10, 1, 4, 5, 9, 10, 1, 2, 3, 4, 5, 6, 7, 8, 9, 10, 2, 5, 6, 9, 3, 5, 6, 7, 8, 2, 3, 5, 7, 1, 2, 3, 4, 5, 6, 7, 8, 9, 10, 1, 2, 3, 5, 7, 8, 9, 1, 2, 3, 4, 5, 6, 7, 8, 9, 10, 1, 3, 5, 7, 8, 9, 1, 3, 5, 9, 10, 1, 2, 9, 10, 2, 4, 5, 9, 4, 2, 3, 4, 5, 6, 7, 8, 9, 2, 3, 4, 5, 7, 9, 10, 1, 3, 4, 7, 8, 3, 9, 10, 2, 3, 4, 5, 9, 10, 1, 2, 3, 4, 5, 6, 7, 8, 9, 10, 1, 2, 3, 4, 5, 6, 7, 8, 9, 10, 2, 3, 4, 5, 6, 7, 8, 9, 10, 1, 2, 3, 4, 5, 7, 8, 9, 10, 2, 3, 8, 9, 10, 2, 3, 8, 9, 10, 1, 2, 3, 8, 9, 1, 2, 3, 5, 6, 2, 4, 5, 6, 8, 9, 1, 2, 3, 4, 5, 6, 8, 10, 2, 3, 6, 8, 9, 10, 1, 2, 3, 7, 8, 9, 10, 2, 3, 7, 8, 9, 10, 3, 4, 7, 2, 3, 4, 5, 6, 7, 8, 9, 10, 1, 2, 3, 4, 6, 7, 8, 9, 10, 1, 2, 4, 6, 9, 1, 2, 9, 10, 2, 6, 1, 4, 5, 9, 1, 2, 4, 5, 6, 7, 8, 9, 10, 1, 6, 7, 10, 1, 3, 5, 3, 4, 8, 10, 3, 5, 7, 8, 9, 10, 3, 5, 8, 9, 1, 2, 3, 4, 7, 9, 10, 1, 2, 3, 4, 6, 7, 8, 9, 10, 1, 2, 3, 6, 7, 8, 9, 10, 4, 5, 6, 9, 10, 1, 2, 4, 5, 6, 7, 8, 9, 10, 1, 8, 2, 3, 4, 5, 6, 7, 2, 4, 7, 9, 10, 4, 1, 3, 8, 2, 3, 4, 5, 6, 7, 9, 10, 2, 4, 5, 6, 7, 9, 1, 2, 3, 4, 5, 6, 7, 8, 9, 10, 1, 2, 4, 5, 6, 7, 8, 10, 1, 2, 6, 7, 8, 10, 1, 6, 10, 2, 10, 1, 6, 7, 2, 3, 5, 2, 5, 7, 8, 2, 3, 5, 6, 7, 1, 2, 3, 4, 5, 6, 7, 8, 9, 10, 1, 2, 3, 4, 5, 6, 7, 8, 9, 10, 2, 7, 1, 5, 6, 7, 8, 10, 2, 3, 4, 7, 10, 1, 2, 3, 4, 5, 6, 7, 8, 10, 1, 3, 4, 6, 8, 10, 1, 2, 3, 4, 5, 6, 7, 8, 10, 1, 2, 6, 1, 2, 6, 1, 2, 3, 6, 7, 8, 9, 10, 1, 2, 3, 7, 8, 9, 10, 2, 4, 5, 8, 9, 10, 2, 4, 5, 8, 9, 10, 1, 3, 9, 1, 7, 10, 4, 5, 6, 7, 9, 10, 2, 3, 7, 2, 7, 1, 2, 4, 5, 7, 8, 9, 1, 2, 3, 4, 5, 6, 7, 8, 9, 10, 2, 10, 1, 3, 4, 6, 10, 1, 2, 3, 4, 6, 9, 1, 2, 3, 4, 5, 6, 7, 9, 10, 1, 2, 3, 4, 5, 6, 4, 5, 9, 10, 1, 2, 3, 5, 6, 7, 8, 9, 10, 1, 2, 3, 5, 8, 1, 2, 8, 10, 1, 3, 6, 1, 2, 3, 4, 5, 6, 7, 8, 9, 10, 1, 2, 3, 5, 6, 8, 9, 1, 2, 3, 5, 2, 3, 4, 5, 9, 1, 2, 3, 4, 5, 6, 7, 8, 9, 10, 2, 6, 1, 2, 4, 5, 1, 2, 3, 4, 6, 7, 9, 1, 2, 2, 3, 4, 5, 6, 7, 8, 9, 10, 1, 4, 5, 10, 2, 4, 5, 9, 1, 2, 3, 4, 6, 7, 8, 9, 10, 1, 2, 4, 5, 6, 7, 8, 9, 10, 2, 3, 4, 5, 8, 9, 10, 1, 2, 3, 8, 9, 1, 2, 3, 6, 7, 9, 10, 2, 3, 5, 6, 7, 8, 10, 1, 2, 6, 7, 10, 1, 2, 3, 4, 5, 6, 7, 8, 9, 10, 3, 8, 9, 2, 3, 4, 5, 6, 8, 9, 10, 1, 8, 10, 1, 2, 3, 4, 5, 6, 7, 8, 9, 10, 1, 2, 4, 5, 6, 7, 9, 1, 2, 10, 2, 3, 4, 5, 1, 2, 3, 4, 5, 6, 7, 8, 9, 10, 1, 2, 6, 7, 8, 1, 2, 4, 5, 6, 7, 8, 9, 10, 4, 5, 6, 7, 8, 9, 10, 5, 6, 9, 10, 1, 2, 3, 4, 5, 6, 7, 8, 9, 10, 1, 2, 3, 4, 5, 6, 7, 8, 9, 10, 1, 2, 3, 4, 5, 6, 7, 8, 10, 1, 2, 3, 4, 5, 6, 7, 8, 9, 10, 1, 2, 5, 6, 1, 2, 3, 4, 5, 6, 7, 8, 9, 10, 2, 3, 4, 5, 7, 8, 9, 10, 1, 2, 3, 4, 5, 6, 7, 8, 9, 10, 2, 3, 8, 9, 5, 6, 8, 9, 1, 2, 3, 4, 5, 6, 7, 8, 9, 10, 3, 4, 5, 7, 8, 9, 10, 1, 2, 5, 7, 10, 1, 3, 5, 6, 8, 9, 10, 2, 3, 4, 5, 7, 10, 1, 2, 3, 4, 5, 6, 7, 8, 9, 10, 2, 2, 5, 7, 9, 10, 2, 3, 4, 5, 7, 8, 9, 10, 2, 4, 5, 6, 8, 9, 1, 2, 3, 4, 5, 6, 7, 8, 9, 10, 2, 3, 4, 5, 6, 7, 9, 2, 4, 1, 2, 3, 4, 5, 6, 7, 8, 9, 10, 3, 4, 5, 7, 8, 10, 3, 4, 5, 7, 8, 10, 2, 4, 5, 9, 2, 10, 2, 4, 5, 9, 1, 3, 5, 8, 9, 10, 1, 3, 4, 5, 7, 1, 2, 3, 4, 5, 4, 5, 6, 9, 2, 3, 4, 5, 6, 7, 8, 9, 10, 1, 2, 3, 4, 6, 7, 8, 9, 10, 1, 3, 4, 5, 6, 9, 10, 1, 3, 7, 9, 2, 3, 4, 5, 6, 7, 9, 10, 1, 8, 9, 1, 2, 3, 4, 5, 6, 7, 8, 9, 10, 1, 3, 4, 5, 7, 8, 9, 10, 1, 2, 3, 4, 5, 6, 7, 8, 9, 10, 1, 2, 3, 4, 5, 6, 7, 8, 9, 10, 2, 4, 7, 9, 10, 3, 4, 5, 6, 9, 10, 2, 3, 4, 5, 9, 1, 2, 3, 4, 5, 6, 7, 8, 9, 10, 1, 2, 3, 4, 5, 6, 9, 10, 1, 2, 3, 5, 6, 7, 8, 9, 10, 2, 3, 4, 5, 6, 7, 8, 9, 10, 1, 2, 3, 4, 5, 6, 7, 8, 9, 10, 1, 2, 3, 4, 6, 8, 9, 10, 1, 5, 7, 9, 10, 1, 2, 3, 4, 5, 6, 7, 8, 9, 10, 1, 2, 3, 4, 5, 6, 7, 8, 9, 10, 1, 2, 3, 4, 5, 6, 7, 8, 2, 3, 4, 5, 7, 9, 10, 4, 5, 9, 10, 1, 2, 6, 1, 2, 3, 4, 5, 6, 7, 8, 9, 10, 1, 2, 3, 5, 6, 7, 8, 9, 10, 1, 4, 5, 9, 10], \"Freq\": [0.10792670398950577, 0.7914624810218811, 0.0899389237165451, 0.08724801987409592, 0.02908267267048359, 0.1454133689403534, 0.02908267267048359, 0.6689015030860901, 0.8098334074020386, 0.021887389943003654, 0.15321172773838043, 0.9802681803703308, 0.006988147273659706, 0.20265628397464752, 0.013976294547319412, 0.013976294547319412, 0.18867997825145721, 0.29350218176841736, 0.14675109088420868, 0.11879850924015045, 0.006988147273659706, 0.029356924816966057, 0.1369989812374115, 0.21528410911560059, 0.2609504461288452, 0.06849949061870575, 0.10438017547130585, 0.026095043867826462, 0.1598321497440338, 0.14260730147361755, 0.7130365371704102, 0.09507153183221817, 0.14948928356170654, 0.26160624623298645, 0.14948928356170654, 0.037372320890426636, 0.37372320890426636, 0.6365013718605042, 0.25005412101745605, 0.09092877060174942, 0.38359561562538147, 0.6049007773399353, 0.615757405757904, 0.041605230420827866, 0.012481569312512875, 0.2537918984889984, 0.04576575383543968, 0.029123660176992416, 0.9370259642601013, 0.04846686124801636, 0.19874143600463867, 0.01892775483429432, 0.6813992261886597, 0.028391633182764053, 0.01892775483429432, 0.04731938987970352, 0.4733278453350067, 0.026007024571299553, 0.31208428740501404, 0.015604214742779732, 0.010402809828519821, 0.13003511726856232, 0.026007024571299553, 0.005201404914259911, 0.05833565816283226, 0.25278785824775696, 0.01944522000849247, 0.5444661378860474, 0.0972260981798172, 0.14586172997951508, 0.2813047766685486, 0.020837390795350075, 0.010418695397675037, 0.3646543323993683, 0.07293086498975754, 0.09376825392246246, 0.7651705741882324, 0.11841925978660583, 0.036436695605516434, 0.07287339121103287, 0.9848812222480774, 0.008276312611997128, 0.30754515528678894, 0.5369008779525757, 0.005212629679590464, 0.015637889504432678, 0.010425259359180927, 0.05733892694115639, 0.05733892694115639, 0.7556877136230469, 0.0377843864262104, 0.10863010585308075, 0.025976764038205147, 0.04723048210144043, 0.014169144444167614, 0.007084572222083807, 0.0047230483032763, 0.16346554458141327, 0.29363253712654114, 0.2209811955690384, 0.05448851361870766, 0.05751565471291542, 0.0423799566924572, 0.060542792081832886, 0.024217117577791214, 0.05751565471291542, 0.02724425680935383, 0.029763000085949898, 0.41668200492858887, 0.11905200034379959, 0.41668200492858887, 0.26152274012565613, 0.1569136530160904, 0.017434850335121155, 0.4184363782405853, 0.12204394489526749, 0.08628501743078232, 0.301997572183609, 0.301997572183609, 0.301997572183609, 0.8445865511894226, 0.07038220763206482, 0.05278665944933891, 0.7225414514541626, 0.20644041895866394, 0.025805052369832993, 0.8374728560447693, 0.14858388900756836, 0.008783278055489063, 0.5357799530029297, 0.004391639027744532, 0.09661605209112167, 0.18444882333278656, 0.03513311222195625, 0.026349833235144615, 0.05269966647028923, 0.026349833235144615, 0.026349833235144615, 0.8809955716133118, 0.03091212548315525, 0.07728031277656555, 0.38941749930381775, 0.10817152261734009, 0.021634304895997047, 0.43268609046936035, 0.021634304895997047, 0.1990015208721161, 0.028428789228200912, 0.18952526152133942, 0.10423889011144638, 0.08528636395931244, 0.24638283252716064, 0.10897701978683472, 0.03316691890358925, 0.00947626307606697, 0.11954215914011002, 0.01992369256913662, 0.657481849193573, 0.09961846470832825, 0.07969477027654648, 0.00834898091852665, 0.012523471377789974, 0.09601327776908875, 0.8015021681785583, 0.0292214322835207, 0.0333959236741066, 0.012523471377789974, 0.8715622425079346, 0.1005648747086525, 0.6086906790733337, 0.17840933799743652, 0.01049466710537672, 0.01049466710537672, 0.03673133626580238, 0.03148400038480759, 0.11544133722782135, 0.00524733355268836, 0.21868830919265747, 0.43737661838531494, 0.07289610058069229, 0.18224024772644043, 0.036448050290346146, 0.10278072208166122, 0.24667373299598694, 0.010278072208166122, 0.0925026535987854, 0.5241816639900208, 0.010278072208166122, 0.4634561240673065, 0.10465138405561447, 0.08970118314027786, 0.3289043605327606, 0.802221417427063, 0.02674071304500103, 0.04011106863617897, 0.013370356522500515, 0.09359249472618103, 0.04011106863617897, 0.9049839377403259, 0.07337707281112671, 0.6403101086616516, 0.2324935495853424, 0.022868217900395393, 0.015245478600263596, 0.053359176963567734, 0.007622739300131798, 0.03049095720052719, 0.18529640138149261, 0.11791589111089706, 0.08422563225030899, 0.11791589111089706, 0.08422563225030899, 0.08422563225030899, 0.3032122850418091, 0.8872524499893188, 0.026886437088251114, 0.08065931499004364, 0.015657596290111542, 0.031315192580223083, 0.4070975184440613, 0.3757823407649994, 0.02609599567949772, 0.015657596290111542, 0.13047997653484344, 0.7855269908905029, 0.17852886021137238, 0.06619469076395035, 0.033097345381975174, 0.6619468927383423, 0.23168142139911652, 0.7557814121246338, 0.029931938275694847, 0.007482984568923712, 0.052380889654159546, 0.14965969324111938, 0.03507236763834953, 0.15031014382839203, 0.44592010974884033, 0.05511372163891792, 0.04008270427584648, 0.18538251519203186, 0.025051690638065338, 0.05511372163891792, 0.6203768253326416, 0.17725051939487457, 0.17725051939487457, 0.056632764637470245, 0.7079095244407654, 0.11326552927494049, 0.11326552927494049, 0.5773789882659912, 0.2980020344257355, 0.09312564134597778, 0.4001599848270416, 0.09527618438005447, 0.4382704496383667, 0.057165712118148804, 0.332301527261734, 0.0369223915040493, 0.332301527261734, 0.2584567368030548, 0.25064942240715027, 0.24062344431877136, 0.49127286672592163, 0.35882824659347534, 0.01993490196764469, 0.49837255477905273, 0.09967450797557831, 0.058377113193273544, 0.44791167974472046, 0.05094730108976364, 0.06049991771578789, 0.1878681629896164, 0.033964864909648895, 0.03502626717090607, 0.016982432454824448, 0.03502626717090607, 0.07323674112558365, 0.9675820469856262, 0.031012244522571564, 0.18728071451187134, 0.04291849955916405, 0.13655886054039001, 0.023410089313983917, 0.035115133970975876, 0.5696455240249634, 0.786389172077179, 0.09590111672878265, 0.004795055836439133, 0.004795055836439133, 0.03356539085507393, 0.028770335018634796, 0.009590111672878265, 0.03356539085507393, 0.1991095095872879, 0.5973285436630249, 0.13273967802524567, 0.03318491950631142, 0.01220624428242445, 0.11392494291067123, 0.07730621099472046, 0.10171870142221451, 0.0244124885648489, 0.5126622319221497, 0.004068748094141483, 0.13426868617534637, 0.020343739539384842, 0.5316223502159119, 0.03411480411887169, 0.08623464405536652, 0.04643403738737106, 0.01137160137295723, 0.16583584249019623, 0.0009476334089413285, 0.026533735916018486, 0.09571097791194916, 0.44006115198135376, 0.16650962829589844, 0.056069567799568176, 0.025486167520284653, 0.008495389483869076, 0.25146350264549255, 0.010194466449320316, 0.039078790694475174, 0.790671169757843, 0.1317785233259201, 0.05271141231060028, 0.04309896007180214, 0.94817715883255, 0.012182772159576416, 0.006091386079788208, 0.9624390006065369, 0.006091386079788208, 0.012182772159576416, 0.019982794299721718, 0.9591740965843201, 0.009991397149860859, 0.3117915391921997, 0.049230244010686874, 0.4594822824001312, 0.06564033031463623, 0.09846048802137375, 0.016410082578659058, 0.14392954111099243, 0.45393165946006775, 0.12732228636741638, 0.12732228636741638, 0.04705389216542244, 0.022143008187413216, 0.002767876023426652, 0.022143008187413216, 0.052589643746614456, 0.19577954709529877, 0.5161460638046265, 0.14238512516021729, 0.01779814064502716, 0.07119256258010864, 0.03559628129005432, 0.11711505055427551, 0.08517458289861679, 0.010646822862327099, 0.08517458289861679, 0.03194046765565872, 0.46846020221710205, 0.19164280593395233, 0.010646822862327099, 0.37625280022621155, 0.07525055855512619, 0.5016704201698303, 0.025083519518375397, 0.9959638714790344, 0.9899778962135315, 0.07462367415428162, 0.20148390531539917, 0.07462367415428162, 0.04477420076727867, 0.059698935598134995, 0.08954840153455734, 0.007462366949766874, 0.3656559884548187, 0.022387100383639336, 0.059698935598134995, 0.17840148508548737, 0.08920074254274368, 0.029733579605817795, 0.029733579605817795, 0.4162701368331909, 0.23786863684654236, 0.06835214048624039, 0.3604021966457367, 0.12427661567926407, 0.10563512146472931, 0.024855323135852814, 0.3106915354728699, 0.042683590203523636, 0.14939256012439728, 0.10670897364616394, 0.5975702404975891, 0.08536718040704727, 0.4121282696723938, 0.07493241131305695, 0.4495944678783417, 0.9706752896308899, 0.10989727824926376, 0.08242295682430267, 0.6044350266456604, 0.05494863912463188, 0.05494863912463188, 0.02747431956231594, 0.02747431956231594, 0.034803979098796844, 0.13921591639518738, 0.3132358193397522, 0.4176477789878845, 0.10441194474697113, 0.0020961714908480644, 0.5009849667549133, 0.06498131901025772, 0.13415497541427612, 0.2075209766626358, 0.050308115780353546, 0.03144257143139839, 0.008384685963392258, 0.0627366304397583, 0.5384894609451294, 0.026140263304114342, 0.08364884555339813, 0.13592937588691711, 0.03659636899828911, 0.005228052847087383, 0.10978911072015762, 0.8425278663635254, 0.12481894344091415, 0.16128666698932648, 0.13440555334091187, 0.044801849871873856, 0.08960369974374771, 0.026881109923124313, 0.044801849871873856, 0.09856407344341278, 0.3315337002277374, 0.035841479897499084, 0.035841479897499084, 0.2132183313369751, 0.08528733253479004, 0.2558619976043701, 0.4264366626739502, 0.3358863294124603, 0.01767822727560997, 0.5126686096191406, 0.07071290910243988, 0.05303468182682991, 0.8131778836250305, 0.03068595752120018, 0.0767148956656456, 0.06137191504240036, 0.3499812185764313, 0.1644720435142517, 0.026774520054459572, 0.038249313831329346, 0.015299725346267223, 0.06311136484146118, 0.09753575176000595, 0.12813520431518555, 0.06311136484146118, 0.053549040108919144, 0.16276815533638, 0.22273536026477814, 0.04283372312784195, 0.03212529420852661, 0.03426697850227356, 0.08138407766819, 0.2205936759710312, 0.036408666521310806, 0.053542155772447586, 0.11136768013238907, 0.24941733479499817, 0.0575578436255455, 0.03837189823389053, 0.115115687251091, 0.4796487092971802, 0.0575578436255455, 0.17289398610591888, 0.13621950149536133, 0.10478423535823822, 0.3510271906852722, 0.09954502433538437, 0.13098029792308807, 0.8974813222885132, 0.05983208864927292, 0.011135938577353954, 0.011135938577353954, 0.5233891010284424, 0.21158282458782196, 0.23385471105575562, 0.024252813309431076, 0.7427424192428589, 0.1940225064754486, 0.036379218101501465, 0.030174558982253075, 0.7069467902183533, 0.20691126585006714, 0.05603846535086632, 0.9512477517127991, 0.7737846970558167, 0.0897141695022583, 0.12335698306560516, 0.04058250039815903, 0.42901498079299927, 0.09275999665260315, 0.0985575020313263, 0.03478499874472618, 0.04058250039815903, 0.11594999581575394, 0.023189999163150787, 0.11594999581575394, 0.5323330163955688, 0.17222538590431213, 0.125254824757576, 0.04697055742144585, 0.10959796607494354, 0.011647588573396206, 0.5590842366218567, 0.17471382021903992, 0.17471382021903992, 0.06988552957773209, 0.826300859451294, 0.08382762223482132, 0.017963062971830368, 0.00598768750205636, 0.00598768750205636, 0.053889188915491104, 0.9896050691604614, 0.037520818412303925, 0.47526368498802185, 0.0833795964717865, 0.0333518385887146, 0.17092816531658173, 0.054196737706661224, 0.04168979823589325, 0.0333518385887146, 0.02501387894153595, 0.04168979823589325, 0.10410083830356598, 0.4033907651901245, 0.013012604787945747, 0.15615126490592957, 0.31230252981185913, 0.26570820808410645, 0.014761567115783691, 0.14761567115783691, 0.029523134231567383, 0.1623772382736206, 0.3690391778945923, 0.21878860890865326, 0.07292953878641129, 0.07292953878641129, 0.03646476939320564, 0.4375772178173065, 0.03646476939320564, 0.07292953878641129, 0.027035603299736977, 0.027035603299736977, 0.8921748995780945, 0.027035603299736977, 0.03253256529569626, 0.6924788951873779, 0.2184329330921173, 0.051122602075338364, 0.03267235681414604, 0.6954544186592102, 0.21003657579421997, 0.051342274993658066, 0.9005211591720581, 0.08714720606803894, 0.10386629402637482, 0.3920952379703522, 0.06491643190383911, 0.05452980473637581, 0.09607631713151932, 0.09867297857999802, 0.018176600337028503, 0.031159887090325356, 0.015579943545162678, 0.12723620235919952, 0.40960267186164856, 0.034133557230234146, 0.10240066796541214, 0.10240066796541214, 0.307202011346817, 0.09557187557220459, 0.8219181299209595, 0.07645750045776367, 0.9222761392593384, 0.055895525962114334, 0.6449522376060486, 0.2579808831214905, 0.08599363267421722, 0.245947003364563, 0.01639646664261818, 0.7050480842590332, 0.03279293328523636, 0.233755424618721, 0.5194565057754517, 0.1038912981748581, 0.1038912981748581, 0.06787067651748657, 0.05090301111340523, 0.05090301111340523, 0.8144481778144836, 0.03247598558664322, 0.1623799353837967, 0.06495197117328644, 0.12990394234657288, 0.021650657057762146, 0.5845677852630615, 0.009770791977643967, 0.009770791977643967, 0.13679109513759613, 0.6057891249656677, 0.1172495037317276, 0.1172495037317276, 0.11523094028234482, 0.270792692899704, 0.09218475222587585, 0.13827712833881378, 0.034569282084703445, 0.028807735070586205, 0.011523094028234482, 0.09218475222587585, 0.21893878281116486, 0.15483149886131287, 0.12386519461870193, 0.030966298654675484, 0.5573933720588684, 0.06193259730935097, 0.06193259730935097, 0.95124751329422, 0.8299972414970398, 0.12968707084655762, 0.47799772024154663, 0.021727168932557106, 0.42730098962783813, 0.04345433786511421, 0.021727168932557106, 0.023642022162675858, 0.14185214042663574, 0.803828775882721, 0.04201655462384224, 0.5462152361869812, 0.25209933519363403, 0.1365538090467453, 0.01050413865596056, 0.6088021397590637, 0.23092494904994965, 0.12595905363559723, 0.1221906766295433, 0.5236743092536926, 0.104734867811203, 0.2269255369901657, 0.8778862357139587, 0.03583209216594696, 0.08062220364809036, 0.5526602268218994, 0.01842200756072998, 0.00921100378036499, 0.05526602640748024, 0.11053205281496048, 0.23948611319065094, 0.9071556925773621, 0.05497913435101509, 0.0694781020283699, 0.17369526624679565, 0.6079334020614624, 0.10421715676784515, 0.03473905101418495, 0.03382033854722977, 0.2029220163822174, 0.4058440327644348, 0.1014610081911087, 0.23674236238002777, 0.04001469910144806, 0.12312214821577072, 0.5201910734176636, 0.11388798803091049, 0.012312214821577072, 0.018468322232365608, 0.10465382784605026, 0.003078053705394268, 0.05232691392302513, 0.012312214821577072, 0.09979225695133209, 0.7220263481140137, 0.10566239058971405, 0.04696106165647507, 0.023480530828237534, 0.08287584781646729, 0.7251636981964111, 0.12431377172470093, 0.04143792390823364, 0.10944916307926178, 0.029849771410226822, 0.6467450857162476, 0.049749620258808136, 0.07959939539432526, 0.07959939539432526, 0.009949924424290657, 0.1491096019744873, 0.07455480098724365, 0.4100514054298401, 0.33549660444259644, 0.01358737051486969, 0.22079478204250336, 0.09850843995809555, 0.15965160727500916, 0.08492106944322586, 0.30911269783973694, 0.05434948205947876, 0.016984213143587112, 0.033968426287174225, 0.0033968426287174225, 0.004980481695383787, 0.01743168570101261, 0.17431685328483582, 0.263342946767807, 0.25213688611984253, 0.0031128008849918842, 0.11517363786697388, 0.0006225602119229734, 0.04669201374053955, 0.12264435738325119, 0.1972426474094391, 0.2860018312931061, 0.24984069168567657, 0.10190869867801666, 0.05588541552424431, 0.1084834560751915, 0.04179186001420021, 0.24239279329776764, 0.025075117126107216, 0.03343348950147629, 0.05015023425221443, 0.016716744750738144, 0.20895931124687195, 0.10865884274244308, 0.058508604764938354, 0.2256760597229004, 0.12134693562984467, 0.02696598507463932, 0.13482992351055145, 0.6471836566925049, 0.02696598507463932, 0.02696598507463932, 0.01348299253731966, 0.12377463281154633, 0.19803941249847412, 0.12377463281154633, 0.024754926562309265, 0.47034358978271484, 0.04950985312461853, 0.22073476016521454, 0.0882939025759697, 0.15451432764530182, 0.0882939025759697, 0.4414695203304291, 0.36627691984176636, 0.508717954158783, 0.10174358636140823, 0.731476902961731, 0.012611671350896358, 0.1135050430893898, 0.08828169852495193, 0.0378350131213665, 0.10301456600427628, 0.07726092636585236, 0.07726092636585236, 0.20602913200855255, 0.10301456600427628, 0.3863046169281006, 0.9608767032623291, 0.016916843131184578, 0.010150105692446232, 0.006766737438738346, 0.15218369662761688, 0.2768898010253906, 0.02747761271893978, 0.05706888809800148, 0.044386912137269974, 0.2726624608039856, 0.04861423745751381, 0.004227324854582548, 0.0295912753790617, 0.08666016161441803, 0.2587609589099884, 0.016429265961050987, 0.636634111404419, 0.0513414591550827, 0.004107316490262747, 0.006160974968224764, 0.01848292537033558, 0.006160974968224764, 0.5445970892906189, 0.040340524166822433, 0.0605107843875885, 0.020170262083411217, 0.08068104833364487, 0.2521282732486725, 0.3270502984523773, 0.03085380233824253, 0.09256140887737274, 0.45046550035476685, 0.09256140887737274, 0.17706257104873657, 0.10623754560947418, 0.20067091286182404, 0.12984588742256165, 0.011804171837866306, 0.35412514209747314, 0.023608343675732613, 0.2725224792957306, 0.07786355912685394, 0.16351348161697388, 0.03893177956342697, 0.3659587502479553, 0.07007720321416855, 0.13852180540561676, 0.2770436108112335, 0.6002611517906189, 0.6937947273254395, 0.17185740172863007, 0.0063650887459516525, 0.03182544559240341, 0.02546035498380661, 0.03182544559240341, 0.019095266237854958, 0.019095266237854958, 0.0063650887459516525, 0.0047608632594347, 0.1809128075838089, 0.0190434530377388, 0.0095217265188694, 0.36658647656440735, 0.0142825897783041, 0.1047389879822731, 0.0285651795566082, 0.27136918902397156, 0.6423169374465942, 0.3211584687232971, 0.020945116877555847, 0.006981705781072378, 0.05497300252318382, 0.018324334174394608, 0.34816235303878784, 0.018324334174394608, 0.4397840201854706, 0.09162166714668274, 0.12484243512153625, 0.041614145040512085, 0.395334392786026, 0.041614145040512085, 0.37452730536460876, 0.10895142704248428, 0.07593584060668945, 0.31034648418426514, 0.03301558271050453, 0.00990467518568039, 0.2046966254711151, 0.0990467518568039, 0.036317143589258194, 0.0990467518568039, 0.02311090938746929, 0.07515710592269897, 0.25553417205810547, 0.1803770661354065, 0.45094266533851624, 0.015031421557068825, 0.015031421557068825, 0.18844647705554962, 0.25126197934150696, 0.06805011630058289, 0.057580869644880295, 0.05234624445438385, 0.026173122227191925, 0.047111619263887405, 0.02093849703669548, 0.08375398814678192, 0.20415034890174866, 0.0801357701420784, 0.09278878569602966, 0.23618964850902557, 0.004217672161757946, 0.03374137729406357, 0.14340084791183472, 0.09700646251440048, 0.18979525566101074, 0.10544180124998093, 0.012653016485273838, 0.10452061146497726, 0.2274860292673111, 0.03688962757587433, 0.03893905133008957, 0.10247118771076202, 0.04098847508430481, 0.15575620532035828, 0.07377925515174866, 0.13321253657341003, 0.0860757976770401, 0.8307273983955383, 0.05538182705640793, 0.0830727368593216, 0.0667945146560669, 0.022264838218688965, 0.15585386753082275, 0.601150631904602, 0.1335890293121338, 0.024305855855345726, 0.07291756570339203, 0.04861171171069145, 0.14583513140678406, 0.5590347051620483, 0.14583513140678406, 0.03228571265935898, 0.19371429085731506, 0.1291428506374359, 0.645714282989502, 0.08960244804620743, 0.11200306564569473, 0.7392202019691467, 0.06720183789730072, 0.08116265386343002, 0.5976522564888, 0.029513690620660782, 0.09591949731111526, 0.13281160593032837, 0.0368921123445034, 0.014756845310330391, 0.33867472410202026, 0.10694991052150726, 0.07129994034767151, 0.1604248732328415, 0.3030247390270233, 0.017824985086917877, 0.12496589869260788, 0.13966777920722961, 0.13599230349063873, 0.0955621600151062, 0.051456548273563385, 0.058807484805583954, 0.12496589869260788, 0.19847525656223297, 0.0735093504190445, 0.013049807399511337, 0.2870957553386688, 0.18269729614257812, 0.026099614799022675, 0.026099614799022675, 0.15659768879413605, 0.30014556646347046, 0.03970249369740486, 0.11910748481750488, 0.11910748481750488, 0.15880997478961945, 0.5161324143409729, 0.14925210177898407, 0.09497860819101334, 0.14925210177898407, 0.0814102366566658, 0.37991443276405334, 0.1221153512597084, 0.8516057729721069, 0.12165796756744385, 0.023423675447702408, 0.023423675447702408, 0.11907035112380981, 0.06246313452720642, 0.0878387838602066, 0.6773346066474915, 0.0039039459079504013, 0.1386336088180542, 0.2122827172279358, 0.24694111943244934, 0.09747675806283951, 0.07581526041030884, 0.18195661902427673, 0.017329201102256775, 0.004332300275564194, 0.019495351240038872, 0.006498450879007578, 0.4610781669616699, 0.5142794847488403, 0.09380515664815903, 0.12747880816459656, 0.07456307113170624, 0.09861567616462708, 0.09621041268110275, 0.1106419786810875, 0.060131508857011795, 0.20925764739513397, 0.06975255161523819, 0.05772624909877777, 0.30161258578300476, 0.6032251715660095, 0.037701573222875595, 0.006198283284902573, 0.3656987249851227, 0.030991416424512863, 0.4090867042541504, 0.04958626627922058, 0.10537081956863403, 0.012396566569805145, 0.02479313313961029, 0.3638972043991089, 0.03137044981122017, 0.4078158438205719, 0.05019272118806839, 0.10665953159332275, 0.012548180297017097, 0.025096360594034195, 0.021554622799158096, 0.4406723082065582, 0.004789916332811117, 0.11735295504331589, 0.12214286625385284, 0.18441177904605865, 0.007184874732047319, 0.01915966533124447, 0.03831933066248894, 0.04550420492887497, 0.15947574377059937, 0.191370889544487, 0.5103223919868469, 0.07973787188529968, 0.03189514949917793, 0.015947574749588966, 0.7434712052345276, 0.1019275113940239, 0.0359744131565094, 0.1079232469201088, 0.05111279711127281, 0.03407520055770874, 0.01703760027885437, 0.08518800139427185, 0.01703760027885437, 0.1703760027885437, 0.01703760027885437, 0.49409037828445435, 0.10222559422254562, 0.18048080801963806, 0.16259531676769257, 0.0975571870803833, 0.03089310973882675, 0.026015250012278557, 0.16584722697734833, 0.08129765838384628, 0.1593434065580368, 0.03902287781238556, 0.05528240650892258, 0.03671048581600189, 0.6387624740600586, 0.03671048581600189, 0.10278935730457306, 0.04405258223414421, 0.007342097349464893, 0.05139467865228653, 0.0807630717754364, 0.9009201526641846, 0.03336741402745247, 0.03336741402745247, 0.14950382709503174, 0.014950383454561234, 0.8222711086273193, 0.5046529173851013, 0.03137738257646561, 0.07059910893440247, 0.1804199516773224, 0.04968085512518883, 0.015688691288232803, 0.010459127835929394, 0.08105824142694473, 0.060139983892440796, 0.5694809556007385, 0.004218377638608217, 0.0421837754547596, 0.13920645415782928, 0.09280430525541306, 0.008436755277216434, 0.07593079656362534, 0.02531026490032673, 0.04640215262770653, 0.15798456966876984, 0.2146969884634018, 0.00405088672414422, 0.05266152322292328, 0.06076329946517944, 0.09722127765417099, 0.3159691393375397, 0.012152659706771374, 0.08101773262023926, 0.3134024739265442, 0.1060037761926651, 0.131352499127388, 0.09448162466287613, 0.055306319147348404, 0.04839302971959114, 0.08987276256084442, 0.055306319147348404, 0.06452403962612152, 0.04378416761755943, 0.04212232306599617, 0.008424464613199234, 0.855083167552948, 0.004212232306599617, 0.012636696919798851, 0.07160794734954834, 0.008424464613199234, 0.2064390927553177, 0.18350142240524292, 0.022937677800655365, 0.3899405002593994, 0.16056373715400696, 0.022937677800655365, 0.04113639518618584, 0.04113639518618584, 0.013712131418287754, 0.08227279037237167, 0.137121319770813, 0.5073488354682922, 0.013712131418287754, 0.17825770378112793, 0.07465191930532455, 0.07465191930532455, 0.26128172874450684, 0.41058555245399475, 0.18662980198860168, 0.07413354516029358, 0.18978187441825867, 0.2728114426136017, 0.22240063548088074, 0.09785628318786621, 0.04744546860456467, 0.09489093720912933, 0.09912749379873276, 0.07501540333032608, 0.17414289712905884, 0.4313385486602783, 0.03750770166516304, 0.0455450639128685, 0.06697803735733032, 0.06965716183185577, 0.014645465649664402, 0.014645465649664402, 0.7762097120285034, 0.04393639788031578, 0.14645466208457947, 0.2435992807149887, 0.052199844270944595, 0.24649927020072937, 0.0811997577548027, 0.026099922135472298, 0.12759962677955627, 0.017399948090314865, 0.03189990669488907, 0.09279972314834595, 0.08699974417686462, 0.3679101765155792, 0.031178828328847885, 0.4115605354309082, 0.04988612234592438, 0.10600801557302475, 0.006235765293240547, 0.02494306117296219, 0.02631320059299469, 0.8946488499641418, 0.07893960177898407, 0.3586963415145874, 0.6149080395698547, 0.2733299434185028, 0.0911099836230278, 0.21562695503234863, 0.07288798689842224, 0.10629498213529587, 0.024295995011925697, 0.05466599017381668, 0.01822199672460556, 0.04251799359917641, 0.10022097826004028, 0.33690956234931946, 0.03743439540266991, 0.4492127597332001, 0.018717197701334953, 0.13102038204669952, 0.09331438690423965, 0.09331438690423965, 0.15552397072315216, 0.1866287738084793, 0.4665719270706177, 0.044633202254772186, 0.05355984345078468, 0.10711968690156937, 0.10711968690156937, 0.16960617899894714, 0.05355984345078468, 0.3302856981754303, 0.11604633182287216, 0.008926641196012497, 0.21674667298793793, 0.09633185714483261, 0.5057422518730164, 0.16858074069023132, 0.702633798122406, 0.15423667430877686, 0.02856234833598137, 0.02856234833598137, 0.022849878296256065, 0.01713740825653076, 0.039987288415431976, 0.35504016280174255, 0.0971049964427948, 0.13655389845371246, 0.042483437806367874, 0.030345311388373375, 0.1426229625940323, 0.01213812455534935, 0.021241718903183937, 0.0485524982213974, 0.11531218886375427, 0.2136702984571457, 0.317452996969223, 0.006104865577071905, 0.01220973115414381, 0.02441946230828762, 0.036629192531108856, 0.0854681208729744, 0.07936324924230576, 0.21977515518665314, 0.2786214053630829, 0.1671728491783142, 0.11144857108592987, 0.4179321229457855, 0.8948912024497986, 0.08948911726474762, 0.22396507859230042, 0.0716688260436058, 0.4120957553386688, 0.0627102255821228, 0.134379044175148, 0.02687581069767475, 0.0358344130218029, 0.02687581069767475, 0.0980205163359642, 0.13722872734069824, 0.05881231278181076, 0.7057477235794067, 0.07467848807573318, 0.5414190888404846, 0.05600886791944504, 0.14935697615146637, 0.1680266112089157, 0.018669622018933296, 0.018669622018933296, 0.209913969039917, 0.3615185022354126, 0.011661887168884277, 0.1049569845199585, 0.3148709535598755, 0.057072754949331284, 0.20546191930770874, 0.011414551176130772, 0.25112012028694153, 0.4223383963108063, 0.022829102352261543, 0.011414551176130772, 0.011414551176130772, 0.49848198890686035, 0.06696026772260666, 0.0967203825712204, 0.12648050487041473, 0.07440029829740524, 0.022320089861750603, 0.10416041314601898, 0.5339215993881226, 0.03235888481140137, 0.04853833094239235, 0.06471776962280273, 0.14561499655246735, 0.06471776962280273, 0.0970766618847847, 0.2982310950756073, 0.19086791574954987, 0.17893867194652557, 0.32208961248397827, 0.005964622367173433, 0.32205092906951904, 0.12442876398563385, 0.1463867872953415, 0.395244300365448, 0.007319339085370302, 0.3354262411594391, 0.12837301194667816, 0.09524448961019516, 0.057974908500909805, 0.028987454250454903, 0.20705324411392212, 0.0331285186111927, 0.09110342711210251, 0.020705323666334152, 0.004141064826399088, 0.5090699195861816, 0.16197678446769714, 0.061705440282821655, 0.2159690409898758, 0.030852720141410828, 0.019282950088381767, 0.05109566077589989, 0.5393431186676025, 0.011354591697454453, 0.022709183394908905, 0.02838647924363613, 0.022709183394908905, 0.039741069078445435, 0.02838647924363613, 0.2554783225059509, 0.004434267058968544, 0.18180494010448456, 0.5565004944801331, 0.08868534117937088, 0.026605602353811264, 0.03990840166807175, 0.042125534266233444, 0.03769126906991005, 0.02217133529484272, 0.7728408575057983, 0.027934005483984947, 0.027934005483984947, 0.16760404407978058, 0.5145056843757629, 0.07915471494197845, 0.07915471494197845, 0.3166188597679138, 0.9461062550544739, 0.011826328001916409, 0.023652656003832817, 0.011826328001916409, 0.3285870850086212, 0.3751126825809479, 0.01453925110399723, 0.02326280251145363, 0.020354950800538063, 0.10177475959062576, 0.0029078503139317036, 0.055249154567718506, 0.005815700627863407, 0.07560410350561142, 0.1332794725894928, 0.21895912289619446, 0.07615969330072403, 0.542637825012207, 0.019039923325181007, 0.05796340852975845, 0.2318536341190338, 0.03622712939977646, 0.1376630961894989, 0.05071797966957092, 0.04347255453467369, 0.28257161378860474, 0.07969968765974045, 0.07245425879955292, 0.08370345085859299, 0.3710852861404419, 0.10044413805007935, 0.13950574398040771, 0.02232091873884201, 0.03627149388194084, 0.07254298776388168, 0.15066620707511902, 0.016740689054131508, 0.3320450782775879, 0.39241689443588257, 0.2716732323169708, 0.233768031001091, 0.4035806655883789, 0.06836612522602081, 0.03087502345442772, 0.11467865854501724, 0.024258946999907494, 0.06836612522602081, 0.017642870545387268, 0.01543751172721386, 0.024258946999907494, 0.10292915254831314, 0.33451974391937256, 0.008577429689466953, 0.06004200503230095, 0.4803360402584076, 0.34690579771995544, 0.5087952017784119, 0.0925082191824913, 0.023127054795622826, 0.8405031561851501, 0.023347310721874237, 0.046694621443748474, 0.09338924288749695, 0.01670285314321518, 0.09687654674053192, 0.026724563911557198, 0.06013026833534241, 0.036746274679899216, 0.0033405704889446497, 0.14698509871959686, 0.10689825564622879, 0.4008684456348419, 0.1135793998837471, 0.8568680286407471, 0.05978148803114891, 0.05978148803114891, 0.6682873368263245, 0.12188888341188431, 0.016812259331345558, 0.06304597109556198, 0.012609194964170456, 0.1134827509522438, 0.0042030648328363895, 0.8447323441505432, 0.06033802404999733, 0.08045069873332977, 0.021377623081207275, 0.09085489809513092, 0.03741084039211273, 0.021377623081207275, 0.10688811540603638, 0.1122325211763382, 0.4756520986557007, 0.12826573848724365, 0.4703482389450073, 0.2725033462047577, 0.022397534921765327, 0.014931689947843552, 0.003732922486960888, 0.09332305938005447, 0.029863379895687103, 0.04852799326181412, 0.003732922486960888, 0.03732922300696373, 0.060690395534038544, 0.16689859330654144, 0.1062081903219223, 0.07586299628019333, 0.5765587687492371, 0.006327596493065357, 0.0696035623550415, 0.2910694479942322, 0.17400890588760376, 0.07593116164207458, 0.009491395205259323, 0.07276736199855804, 0.03480178117752075, 0.24044866859912872, 0.02531038597226143, 0.16607660055160522, 0.033215317875146866, 0.08303830027580261, 0.0996459573507309, 0.11625361442565918, 0.4816221296787262, 0.016607658937573433, 0.08864643424749374, 0.04199041426181793, 0.2706049084663391, 0.06531842797994614, 0.018662406131625175, 0.45722895860671997, 0.04665601626038551, 0.009331203065812588, 0.14463286101818085, 0.03615821525454521, 0.024105476215481758, 0.048210952430963516, 0.048210952430963516, 0.2531075179576874, 0.13258011639118195, 0.3013184666633606, 0.27518224716186523, 0.17511598765850067, 0.02501656860113144, 0.05003313720226288, 0.05003313720226288, 0.05003313720226288, 0.3752485513687134, 0.2357214242219925, 0.15599212050437927, 0.06239685043692589, 0.003466491587460041, 0.10399474948644638, 0.06932983547449112, 0.17679107189178467, 0.1525256335735321, 0.04159789904952049, 0.2787882089614868, 0.5111117362976074, 0.092929407954216, 0.10454557836055756, 0.011616175994277, 0.1922198235988617, 0.25629308819770813, 0.17323514819145203, 0.0830579474568367, 0.056954022496938705, 0.08068486303091049, 0.03796934708952904, 0.07356560975313187, 0.030850093811750412, 0.01661158911883831, 0.766851544380188, 0.026443157345056534, 0.05288631469011307, 0.13221578299999237, 0.7510921955108643, 0.03265618160367012, 0.09796854853630066, 0.03265618160367012, 0.03265618160367012, 0.830041229724884, 0.021283108741044998, 0.10641553997993469, 0.021283108741044998, 0.2418668270111084, 0.1748146414756775, 0.12213077396154404, 0.09818356484174728, 0.057473305612802505, 0.14368325471878052, 0.026341931894421577, 0.026341931894421577, 0.052683863788843155, 0.05507858470082283, 0.0570087730884552, 0.521849513053894, 0.07893522083759308, 0.1140175461769104, 0.013155870139598846, 0.1447145789861679, 0.07016464322805405, 0.1645667850971222, 0.3198184669017792, 0.027945302426815033, 0.046575505286455154, 0.09625604003667831, 0.018630200996994972, 0.06520570814609528, 0.09625604003667831, 0.13972650468349457, 0.02484026923775673, 0.10184336453676224, 0.22914756834506989, 0.02546084113419056, 0.43283429741859436, 0.15276505053043365, 0.05092168226838112, 0.30918577313423157, 0.09275573492050171, 0.38648223876953125, 0.13913360238075256, 0.07729644328355789, 0.13955265283584595, 0.4651755094528198, 0.3256228566169739, 0.04651755094528198, 0.030378136783838272, 0.3888401389122009, 0.44352078437805176, 0.13366380333900452, 0.9666052460670471, 0.22460365295410156, 0.011821244843304157, 0.011821244843304157, 0.3723691999912262, 0.011821244843304157, 0.12412306666374207, 0.011821244843304157, 0.22460365295410156, 0.28752878308296204, 0.04792146384716034, 0.06534744799137115, 0.10891241580247879, 0.021782483905553818, 0.3833717107772827, 0.08712993562221527, 0.15768957138061523, 0.11826717108488083, 0.06307582557201385, 0.3390325605869293, 0.32326361536979675, 0.04056666046380997, 0.527366578578949, 0.4056665897369385, 0.4001690745353699, 0.03811134025454521, 0.019055670127272606, 0.05716701224446297, 0.19055670499801636, 0.32394638657569885, 0.29319825768470764, 0.2500140368938446, 0.06818564236164093, 0.08409562706947327, 0.04318424314260483, 0.08864133805036545, 0.05454851686954498, 0.09545990079641342, 0.015909982845187187, 0.006818564608693123, 0.16380459070205688, 0.22016747295856476, 0.27653035521507263, 0.07749895006418228, 0.04931751266121864, 0.09335100650787354, 0.040510814636945724, 0.03874947503209114, 0.02465875633060932, 0.015852058306336403, 0.49250325560569763, 0.1274460256099701, 0.06696315854787827, 0.1274460256099701, 0.0021601018961519003, 0.06912326067686081, 0.015120713971555233, 0.023761121556162834, 0.07776366919279099, 0.4444054961204529, 0.07627855241298676, 0.13265836238861084, 0.10944314301013947, 0.06964563578367233, 0.02653167024254799, 0.0596962608397007, 0.03979750722646713, 0.043113965541124344, 0.19349998235702515, 0.023597558960318565, 0.15574389696121216, 0.35868290066719055, 0.25957316160202026, 0.2865830361843109, 0.04776383936405182, 0.4776383936405182, 0.11940959841012955, 0.02388191968202591, 0.24436108767986298, 0.04072684794664383, 0.054302461445331573, 0.5430246591567993, 0.10860492289066315, 0.1743367612361908, 0.03874150291085243, 0.19370751082897186, 0.52301025390625, 0.0581122525036335, 0.15591323375701904, 0.3354496955871582, 0.3614352345466614, 0.059058044105768204, 0.02362321875989437, 0.061420366168022156, 0.31173405051231384, 0.5173458456993103, 0.002210879698395729, 0.042006716132164, 0.02431967854499817, 0.0729590356349945, 0.004421759396791458, 0.026530558243393898, 0.07293853163719177, 0.05470389872789383, 0.018234632909297943, 0.6564467549324036, 0.18234632909297943, 0.018234632909297943, 0.061380576342344284, 0.21824204921722412, 0.051150478422641754, 0.1329912543296814, 0.030690288171172142, 0.023870224133133888, 0.48081451654434204, 0.19007566571235657, 0.043559007346630096, 0.13859684765338898, 0.027719369158148766, 0.027719369158148766, 0.5702270269393921, 0.15909545123577118, 0.31819090247154236, 0.47728636860847473, 0.10367781668901443, 0.14666616916656494, 0.28574615716934204, 0.16183853149414062, 0.04551708698272705, 0.09862036257982254, 0.01770108938217163, 0.06827563047409058, 0.07333308458328247, 0.03516899049282074, 0.09847317636013031, 0.028135191649198532, 0.13364216685295105, 0.049236588180065155, 0.11254076659679413, 0.0914393737912178, 0.30948710441589355, 0.14770975708961487, 0.07088682800531387, 0.36861151456832886, 0.48911911249160767, 0.042532097548246384, 0.021266048774123192, 0.8321773409843445, 0.067111074924469, 0.040266647934913635, 0.053688861429691315, 0.9226016402244568, 0.06150677800178528, 0.06268882006406784, 0.07836102694272995, 0.5955438017845154, 0.26642748713493347, 0.06791817396879196, 0.10187725722789764, 0.01455389428883791, 0.4608733057975769, 0.15524153411388397, 0.009702595882117748, 0.06306686997413635, 0.08732336014509201, 0.03881038352847099, 0.18329456448554993, 0.458236426115036, 0.04582364112138748, 0.2749418616294861, 0.3647407591342926, 0.5567095875740051, 0.05759064480662346, 0.7900564670562744, 0.11286520212888718, 0.05643260106444359, 0.028216300532221794, 0.0640391930937767, 0.0640391930937767, 0.021346397697925568, 0.36288878321647644, 0.4482743740081787, 0.021346397697925568, 0.0936356857419014, 0.031211895868182182, 0.3121189475059509, 0.530602216720581, 0.10386908799409866, 0.05193454399704933, 0.20773817598819733, 0.025967271998524666, 0.025967271998524666, 0.10386908799409866, 0.44144362211227417, 0.007038072682917118, 0.11260916292667389, 0.07741880416870117, 0.007038072682917118, 0.007038072682917118, 0.09149494767189026, 0.11964723467826843, 0.43636050820350647, 0.13372337818145752, 0.007680485490709543, 0.06912437081336975, 0.07680485397577286, 0.007680485490709543, 0.09984631091356277, 0.1305682510137558, 0.47619009017944336, 0.1305682510137558, 0.034455008804798126, 0.7063276767730713, 0.004306876100599766, 0.19811630249023438, 0.04737563803792, 0.20736274123191833, 0.14745795726776123, 0.0046080611646175385, 0.0046080611646175385, 0.23501111567020416, 0.009216122329235077, 0.19814662635326385, 0.03225642815232277, 0.1566740721464157, 0.9295179843902588, 0.029047437012195587, 0.6428406238555908, 0.03857043758034706, 0.12213971465826035, 0.0321420319378376, 0.006428406108170748, 0.14142493903636932, 0.00794966984540224, 0.9221616983413696, 0.00794966984540224, 0.023849008604884148, 0.03179867938160896, 0.9654337763786316, 0.9309037327766418, 0.054122310131788254, 0.010824461467564106, 0.05720636621117592, 0.04903402552008629, 0.4372200667858124, 0.21656695008277893, 0.04494785889983177, 0.032689351588487625, 0.12667123973369598, 0.032689351588487625, 0.16553889214992523, 0.18130449950695038, 0.48085105419158936, 0.015765609219670296, 0.02364841289818287, 0.13400767743587494, 0.002554171020165086, 0.19156283140182495, 0.14814192056655884, 0.1583586037158966, 0.24520042538642883, 0.002554171020165086, 0.08173347264528275, 0.007662513293325901, 0.09195016324520111, 0.06896261870861053, 0.023865163326263428, 0.07159548997879028, 0.09546065330505371, 0.501168429851532, 0.047730326652526855, 0.047730326652526855, 0.167056143283844, 0.047730326652526855, 0.8944610953330994, 0.04020049795508385, 0.045225560665130615, 0.005025062244385481, 0.005025062244385481, 0.010050124488770962, 0.9221376180648804, 0.03415324538946152, 0.0409838929772377, 0.9347252249717712, 0.06676609069108963, 0.18334417045116425, 0.5867013931274414, 0.18334417045116425, 0.2875347137451172, 0.6048144102096558, 0.0991499051451683, 0.23899327218532562, 0.13656757771968842, 0.250373899936676, 0.37556084990501404, 0.07002415508031845, 0.3151087164878845, 0.11670693010091782, 0.05835346505045891, 0.4201449453830719, 0.3248208463191986, 0.037479329854249954, 0.1186845451593399, 0.006246555130928755, 0.031232774257659912, 0.3560536205768585, 0.05621899291872978, 0.043725885450839996, 0.006246555130928755, 0.02498622052371502, 0.3857775032520294, 0.15155544877052307, 0.02066665142774582, 0.03788886219263077, 0.05511107295751572, 0.07233328372240067, 0.04477774724364281, 0.1377776861190796, 0.08611105382442474, 0.0034444420598447323, 0.8102521896362305, 0.15433375537395477, 0.09400681406259537, 0.07520545274019241, 0.15041090548038483, 0.09400681406259537, 0.5264381766319275, 0.05640408769249916, 0.8900355100631714, 0.013185711577534676, 0.019778568297624588, 0.019778568297624588, 0.059335701167583466, 0.46627429127693176, 0.20385944843292236, 0.07590511441230774, 0.006506152916699648, 0.021687176078557968, 0.1648225337266922, 0.021687176078557968, 0.008674870245158672, 0.030362047255039215, 0.030309593304991722, 0.060619186609983444, 0.030309593304991722, 0.030309593304991722, 0.24247674643993378, 0.5758822560310364, 0.02774789370596409, 0.006936973426491022, 0.02774789370596409, 0.003468486713245511, 0.12139703333377838, 0.07977519184350967, 0.14914491772651672, 0.5237414836883545, 0.05549578741192818, 0.9251037240028381, 0.030331268906593323, 0.030331268906593323, 0.7080907821655273, 0.2764925956726074, 0.013487443327903748, 0.036004889756441116, 0.054007336497306824, 0.04500611498951912, 0.036004889756441116, 0.11701589822769165, 0.11701589822769165, 0.4590623676776886, 0.12601712346076965, 0.00989637803286314, 0.03958551213145256, 0.05937826633453369, 0.1286529153585434, 0.13854928314685822, 0.49481889605522156, 0.14844566583633423, 0.07632625102996826, 0.11448937654495239, 0.19081562757492065, 0.07632625102996826, 0.19081562757492065, 0.3434681296348572, 0.07632837444543839, 0.11449255794286728, 0.19082093238830566, 0.07632837444543839, 0.19082093238830566, 0.34347769618034363, 0.8843390941619873, 0.06141243875026703, 0.03684746101498604, 0.3029506206512451, 0.4241308867931366, 0.24236050248146057, 0.20090661942958832, 0.12054397165775299, 0.12054397165775299, 0.08036264777183533, 0.14063462615013123, 0.3214505910873413, 0.1824113428592682, 0.5211752653121948, 0.2605876326560974, 0.04951460286974907, 0.9407774209976196, 0.17992523312568665, 0.03598504886031151, 0.12594766914844513, 0.4678056240081787, 0.03598504886031151, 0.07197009772062302, 0.05397757142782211, 0.20851804316043854, 0.07889872044324875, 0.011271245777606964, 0.10707683861255646, 0.02817811444401741, 0.005635622888803482, 0.05072060599923134, 0.27050989866256714, 0.17470431327819824, 0.05635622888803482, 0.9490934610366821, 0.025651173666119576, 0.1736259162425995, 0.0651097223162651, 0.021703239530324936, 0.28214213252067566, 0.4340648055076599, 0.07781160622835159, 0.11671740561723709, 0.5965556502342224, 0.11671740561723709, 0.05187440291047096, 0.01296860072761774, 0.013904625549912453, 0.10150376707315445, 0.13209395110607147, 0.05283757671713829, 0.0820372924208641, 0.5673087239265442, 0.016685551032423973, 0.011123700998723507, 0.022247401997447014, 0.00814762432128191, 0.1629524827003479, 0.1629524827003479, 0.040738120675086975, 0.06518099457025528, 0.5540384650230408, 0.02866068109869957, 0.7069634795188904, 0.23645061254501343, 0.02627229131758213, 0.15355102717876434, 0.03213858604431152, 0.014283816330134869, 0.04642240330576897, 0.22139915823936462, 0.02499667927622795, 0.37137922644615173, 0.06070622056722641, 0.07856099307537079, 0.037608444690704346, 0.07521688938140869, 0.1316295564174652, 0.11282533407211304, 0.6017351150512695, 0.34104177355766296, 0.1492057740688324, 0.46893244981765747, 0.04263022169470787, 0.97710782289505, 0.005714080762118101, 0.017142243683338165, 0.24260109663009644, 0.2447291761636734, 0.05745815485715866, 0.08937934786081314, 0.03617735579609871, 0.13406902551651, 0.059586234390735626, 0.07873895019292831, 0.029793117195367813, 0.027665037661790848, 0.13332994282245636, 0.022221656516194344, 0.24443823099136353, 0.07222038507461548, 0.08333121240139008, 0.42221149802207947, 0.016666242852807045, 0.22415079176425934, 0.14503873884677887, 0.6065256595611572, 0.013185339979827404, 0.2063044309616089, 0.6532973647117615, 0.017192035913467407, 0.06876814365386963, 0.034384071826934814, 0.29313915967941284, 0.1332450807094574, 0.10044629126787186, 0.09019666910171509, 0.04099848493933678, 0.14349469542503357, 0.04714825749397278, 0.11069590598344803, 0.034848712384700775, 0.010249621234834194, 0.8037446737289429, 0.15309421718120575, 0.058829277753829956, 0.8530245423316956, 0.058829277753829956, 0.029414638876914978, 0.3416691720485687, 0.014236215502023697, 0.04270864650607109, 0.12812593579292297, 0.4128502607345581, 0.014236215502023697, 0.04270864650607109, 0.777652382850647, 0.20970401167869568, 0.5023781657218933, 0.08589886128902435, 0.049456920474767685, 0.06507489830255508, 0.007808987516909838, 0.03904493525624275, 0.15357674658298492, 0.04425092786550522, 0.05205991491675377, 0.22617070376873016, 0.5277315974235535, 0.2010406255722046, 0.025130078196525574, 0.2874974012374878, 0.1437487006187439, 0.4312461316585541, 0.0479162372648716, 0.2460172325372696, 0.13963140547275543, 0.02659645862877369, 0.006649114657193422, 0.033245570957660675, 0.29921016097068787, 0.21277166903018951, 0.006649114657193422, 0.03989468887448311, 0.22604213654994965, 0.22009366750717163, 0.014871194027364254, 0.17250584065914154, 0.03569086641073227, 0.014871194027364254, 0.18737703561782837, 0.09517563879489899, 0.032716624438762665, 0.033343855291604996, 0.5001578330993652, 0.04445847123861313, 0.16671927273273468, 0.022229235619306564, 0.07780232280492783, 0.15560464560985565, 0.03422141820192337, 0.06844283640384674, 0.8213140368461609, 0.025666063651442528, 0.042776770889759064, 0.08254872262477875, 0.13758119940757751, 0.67414790391922, 0.013758120127022266, 0.013758120127022266, 0.027516240254044533, 0.041274361312389374, 0.0775127038359642, 0.0019378176657482982, 0.007751270662993193, 0.05619671195745468, 0.8429506421089172, 0.007751270662993193, 0.005813452880829573, 0.7349417209625244, 0.07839377969503403, 0.029397668316960335, 0.1502547562122345, 0.0032664076425135136, 0.4600546956062317, 0.252511203289032, 0.010377173312008381, 0.0034590577706694603, 0.013836231082677841, 0.04496775195002556, 0.024213403463363647, 0.11068984866142273, 0.062263038009405136, 0.013836231082677841, 0.311521977186203, 0.5314198136329651, 0.14659857749938965, 0.09191064536571503, 0.22058555483818054, 0.027573194354772568, 0.009191065095365047, 0.009191065095365047, 0.42278897762298584, 0.1654391586780548, 0.055146388709545135, 0.41551896929740906, 0.5377304553985596, 0.024442292749881744, 0.049058642238378525, 0.31141573190689087, 0.11944713443517685, 0.08318639546632767, 0.1386439949274063, 0.010664922185242176, 0.11731414496898651, 0.055457595735788345, 0.09171833097934723, 0.021329844370484352, 0.006355310324579477, 0.8484339714050293, 0.02542124129831791, 0.02859889715909958, 0.06037544831633568, 0.00953296571969986, 0.01588827557861805, 0.02178194932639599, 0.914841890335083, 0.06534584611654282, 0.8126998543739319, 0.06251537799835205, 0.031257688999176025, 0.06251537799835205, 0.03234093636274338, 0.12289555370807648, 0.05821368098258972, 0.4333685338497162, 0.17464104294776917, 0.08408643305301666, 0.012936374172568321, 0.006468187086284161, 0.051745496690273285, 0.012936374172568321, 0.8718250393867493, 0.08205412328243256, 0.01025676541030407, 0.02051353082060814, 0.01025676541030407, 0.03413987532258034, 0.3038448989391327, 0.03755386546254158, 0.42674845457077026, 0.07510773092508316, 0.006827975157648325, 0.030725888907909393, 0.06827975064516068, 0.01365595031529665, 0.023045551031827927, 0.6452754139900208, 0.11522775143384933, 0.007681850343942642, 0.06145480275154114, 0.12290960550308228, 0.023045551031827927, 0.0867755189538002, 0.6074286103248596, 0.0867755189538002, 0.1735510379076004, 0.2066030502319336, 0.2737490236759186, 0.11879675090312958, 0.05423330143094063, 0.05681583657860756, 0.1368745118379593, 0.06198091432452202, 0.04648568481206894, 0.03357299417257309, 0.010330152697861195, 0.5669109225273132, 0.15117624402046204, 0.03401465713977814, 0.04157346859574318, 0.0037794061936438084, 0.05291168764233589, 0.04535287618637085, 0.04157346859574318, 0.04157346859574318, 0.018897030502557755, 0.16100041568279266, 0.06900017708539963, 0.01150002982467413, 0.02300005964934826, 0.09200023859739304, 0.10350026190280914, 0.39100101590156555, 0.09200023859739304, 0.057500146329402924, 0.30967625975608826, 0.22119732201099396, 0.002457748167216778, 0.10568317025899887, 0.039323970675468445, 0.06144370138645172, 0.15238037705421448, 0.07373244315385818, 0.024577481672167778, 0.004915496334433556, 0.09751687943935394, 0.8288934826850891, 0.024379219859838486, 0.04875843971967697, 0.4257971942424774, 0.14081481099128723, 0.04358553886413574, 0.08717107772827148, 0.036880072206258774, 0.03352733701467514, 0.1978112906217575, 0.01676366850733757, 0.006705467589199543, 0.010058200918138027, 0.26233503222465515, 0.03523903340101242, 0.05481627583503723, 0.11354799568653107, 0.01957724057137966, 0.00783089641481638, 0.42286840081214905, 0.08222441375255585, 0.35692691802978516, 0.14361555874347687, 0.13305559754371643, 0.038015883415937424, 0.01055996771901846, 0.10348768532276154, 0.08025575429201126, 0.07391977310180664, 0.019007941707968712, 0.04012787714600563, 0.08254785090684891, 0.06603828072547913, 0.5943445563316345, 0.23113399744033813, 0.48981305956840515, 0.22606757283210754, 0.16955067217350006, 0.09419482201337814, 0.03234557807445526, 0.10997496545314789, 0.2177935540676117, 0.10350584983825684, 0.09703673422336578, 0.06684752553701401, 0.12075681984424591, 0.09272398799657822, 0.06684752553701401, 0.0948803573846817, 0.533943235874176, 0.032360196113586426, 0.04854029417037964, 0.06472039222717285, 0.14562088251113892, 0.06472039222717285, 0.11326068639755249, 0.14698682725429535, 0.12598870694637299, 0.2309793084859848, 0.06299435347318649, 0.4199623763561249, 0.19201143085956573, 0.5952354669570923, 0.019201144576072693, 0.019201144576072693, 0.09600571542978287, 0.038402289152145386, 0.038402289152145386, 0.12290184199810028, 0.13655759394168854, 0.013655760325491428, 0.08193456381559372, 0.054623041301965714, 0.5871976613998413, 0.008218804374337196, 0.30135616660118103, 0.0027396015357226133, 0.0027396015357226133, 0.0767088383436203, 0.005479203071445227, 0.4931282699108124, 0.02465641312301159, 0.03561481833457947, 0.04931282624602318, 0.9533713459968567, 0.01530039869248867, 0.03825099766254425, 0.8874231576919556, 0.04590119794011116, 0.007650199346244335, 0.16814783215522766, 0.11869259178638458, 0.03956419602036476, 0.1285836398601532, 0.3956419825553894, 0.029673147946596146, 0.08901944011449814, 0.029673147946596146, 0.6859858632087708, 0.12789566814899445, 0.011626878753304482, 0.011626878753304482, 0.10464190691709518, 0.046507515013217926, 0.14641526341438293, 0.32465994358062744, 0.0763905718922615, 0.15437261760234833, 0.1177688017487526, 0.050927046686410904, 0.05251851677894592, 0.023872053250670433, 0.035012345761060715, 0.017506172880530357, 0.11510007083415985, 0.07399290055036545, 0.15620724856853485, 0.38640737533569336, 0.01644286699593067, 0.15620724856853485, 0.09865720570087433, 0.8686745166778564, 0.08686745166778564, 0.19346870481967926, 0.14510153234004974, 0.04397016018629074, 0.004397016018629074, 0.048367176204919815, 0.16268959641456604, 0.03957314416766167, 0.07035225629806519, 0.22424782812595367, 0.061558227986097336, 0.18515650928020477, 0.09257825464010239, 0.09257825464010239, 0.43203186988830566, 0.09257825464010239, 0.09257825464010239, 0.185155987739563, 0.0925779938697815, 0.0925779938697815, 0.43203064799308777, 0.0925779938697815, 0.0925779938697815, 0.15019774436950684, 0.4505932033061981, 0.30039548873901367, 0.03754943609237671, 0.9065102934837341, 0.04771106690168381, 0.8813430070877075, 0.06779561191797256, 0.01694890297949314, 0.03389780595898628, 0.17299717664718628, 0.021624647080898285, 0.04324929416179657, 0.1297478824853897, 0.5622408390045166, 0.06487394124269485, 0.8217512965202332, 0.02588193118572235, 0.09705723822116852, 0.02588193118572235, 0.03235241398215294, 0.8075200915336609, 0.12148532271385193, 0.021438585594296455, 0.028584782034158707, 0.014292391017079353, 0.020586717873811722, 0.7411218285560608, 0.08234687149524689, 0.14410702884197235, 0.5962095260620117, 0.05829603970050812, 0.07066186517477036, 0.12719136476516724, 0.004416366573423147, 0.022081833332777023, 0.007066186983138323, 0.0786113291978836, 0.03444766253232956, 0.1385968178510666, 0.008152754046022892, 0.41579046845436096, 0.10598580539226532, 0.1385968178510666, 0.08968029916286469, 0.0489165261387825, 0.040763769298791885, 0.02445826306939125, 0.5833867192268372, 0.06116151064634323, 0.12232302129268646, 0.009409463033080101, 0.08468516916036606, 0.11761829257011414, 0.014114195480942726, 0.3378894627094269, 0.09010385721921921, 0.11262982338666916, 0.45051929354667664, 0.2712332010269165, 0.344692200422287, 0.13561660051345825, 0.050856225192546844, 0.03390415012836456, 0.07345899194478989, 0.01695207506418228, 0.07345899194478989, 0.8818065524101257, 0.10871586948633194, 0.012079541571438313, 0.07907360047101974, 0.23206382989883423, 0.14439526200294495, 0.08423057198524475, 0.13923829793930054, 0.0326608344912529, 0.14267627894878387, 0.05500772222876549, 0.05156973749399185, 0.03609881550073624, 0.10351236164569855, 0.10351236164569855, 0.025878090411424637, 0.051756180822849274, 0.025878090411424637, 0.46580564975738525, 0.12939044833183289, 0.051756180822849274, 0.00767375947907567, 0.011510639451444149, 0.1496383100748062, 0.25323405861854553, 0.21870213747024536, 0.04987943544983864, 0.16498582065105438, 0.01534751895815134, 0.05371631681919098, 0.07673759013414383, 0.30063608288764954, 0.0969155803322792, 0.16416312754154205, 0.07120328396558762, 0.049446724355220795, 0.21954345703125, 0.04549098759889603, 0.011867213994264603, 0.027690164744853973, 0.013845082372426987, 0.32954028248786926, 0.18307793140411377, 0.07323117554187775, 0.32954028248786926, 0.07323117554187775, 0.07463350147008896, 0.01865837536752224, 0.24255888164043427, 0.5784096121788025, 0.05597512796521187, 0.01865837536752224, 0.17196591198444366, 0.14330492913722992, 0.11464393883943558, 0.05732196941971779, 0.48723673820495605, 0.14891205728054047, 0.2007075548171997, 0.009711655788123608, 0.18452145159244537, 0.10682821273803711, 0.016186092048883438, 0.06798158586025238, 0.17157258093357086, 0.045321058481931686, 0.05179549753665924, 0.18605242669582367, 0.11653833836317062, 0.008178128860890865, 0.12676100432872772, 0.07973675429821014, 0.4661533534526825, 0.012267193756997585, 0.004089064430445433, 0.35135453939437866, 0.07933811843395233, 0.1700102537870407, 0.03400205075740814, 0.10200615227222443, 0.018890028819441795, 0.2229023426771164, 0.0037780057173222303, 0.015112022869288921, 0.0921669602394104, 0.13056986033916473, 0.115208700299263, 0.10752812027931213, 0.07680580019950867, 0.015361160039901733, 0.40707072615623474, 0.0460834801197052, 0.015361160039901733, 0.22093455493450165, 0.3513658046722412, 0.04791351780295372, 0.01064744871109724, 0.058560967445373535, 0.14107869565486908, 0.015971172600984573, 0.00266186217777431, 0.10913635045289993, 0.03992793336510658, 0.19081850349903107, 0.044035039842128754, 0.058713387697935104, 0.08807007968425751, 0.11742677539587021, 0.029356693848967552, 0.17614015936851501, 0.3082452714443207, 0.11555353552103043, 0.07703568786382675, 0.23110707104206085, 0.1540713757276535, 0.38517844676971436, 0.1656075119972229, 0.060544680804014206, 0.07300976663827896, 0.07657121866941452, 0.04807959869503975, 0.08191339671611786, 0.1299929916858673, 0.10150137543678284, 0.05698322877287865, 0.20656420290470123, 0.12584565579891205, 0.010943099856376648, 0.07113014906644821, 0.07660169899463654, 0.07113014906644821, 0.049243949353694916, 0.1149025484919548, 0.13131719827651978, 0.04377239942550659, 0.30640679597854614, 0.1506340354681015, 0.021519148722290993, 0.5056999921798706, 0.010759574361145496, 0.021519148722290993, 0.10759574174880981, 0.10759574174880981, 0.05379787087440491, 0.601852536201477, 0.020551063120365143, 0.311201810836792, 0.01467933040112257, 0.010275531560182571, 0.007339665200561285, 0.03229452669620514, 0.06621207296848297, 0.7062620520591736, 0.15449482202529907, 0.06621207296848297, 0.48146748542785645, 0.03209783136844635, 0.4493696391582489, 0.30854636430740356, 0.034282930195331573, 0.186107337474823, 0.006530081853270531, 0.009795122779905796, 0.2073301076889038, 0.011427643708884716, 0.17304717004299164, 0.047343093901872635, 0.0163252055644989, 0.2357431948184967, 0.01347103901207447, 0.2458464652299881, 0.006735519506037235, 0.22563990950584412, 0.006735519506037235, 0.23911094665527344, 0.02020655944943428, 0.006735519506037235, 0.18846754729747772, 0.5911027789115906, 0.06853365153074265, 0.1370673030614853, 0.00856670644134283], \"Term\": [\"aboard\", \"aboard\", \"aboard\", \"accommodation\", \"accommodation\", \"accommodation\", \"accommodation\", \"accommodation\", \"acute\", \"acute\", \"acute\", \"add\", \"advice\", \"advice\", \"advice\", \"advice\", \"advice\", \"advice\", \"advice\", \"advice\", \"advice\", \"aedt\", \"aedt\", \"aedt\", \"aedt\", \"aedt\", \"aedt\", \"aedt\", \"aedt\", \"aedt_march\", \"aedt_march\", \"aedt_march\", \"affair\", \"affair\", \"affair\", \"affair\", \"affair\", \"after_being\", \"after_being\", \"after_being\", \"ai\", \"ai\", \"air\", \"air\", \"air\", \"air\", \"air\", \"air\", \"air_quality\", \"air_quality\", \"airline\", \"airline\", \"airline\", \"airline\", \"airline\", \"airline\", \"airport\", \"airport\", \"airport\", \"airport\", \"airport\", \"airport\", \"airport\", \"airport\", \"am\", \"am\", \"am\", \"am\", \"am\", \"american\", \"american\", \"american\", \"american\", \"american\", \"american\", \"american\", \"amp\", \"amp\", \"amp\", \"amp\", \"analysis\", \"analysis\", \"animal\", \"animal\", \"animal\", \"animal\", \"animal\", \"animal\", \"animal\", \"area\", \"area\", \"area\", \"area\", \"area\", \"area\", \"area\", \"area\", \"around\", \"around\", \"around\", \"around\", \"around\", \"around\", \"around\", \"around\", \"around\", \"around\", \"arrival\", \"arrival\", \"arrival\", \"arrival\", \"asia\", \"asia\", \"asia\", \"asia\", \"asia\", \"at_yokohama\", \"at_yokohama\", \"at_yokohama\", \"at_yokohama\", \"australiaas\", \"australiaas\", \"australiaas\", \"australian_citizen\", \"australian_citizen\", \"australian_citizen\", \"author\", \"author\", \"authority\", \"authority\", \"authority\", \"authority\", \"authority\", \"authority\", \"authority\", \"authority\", \"authority\", \"authority\", \"average\", \"average\", \"average\", \"baby\", \"baby\", \"baby\", \"baby\", \"baby\", \"back\", \"back\", \"back\", \"back\", \"back\", \"back\", \"back\", \"back\", \"back\", \"bad\", \"bad\", \"bad\", \"bad\", \"bad\", \"ban\", \"ban\", \"ban\", \"ban\", \"ban\", \"ban\", \"ban\", \"base\", \"base\", \"based\", \"based\", \"based\", \"based\", \"based\", \"based\", \"based\", \"based\", \"basis\", \"basis\", \"basis\", \"basis\", \"basis\", \"became\", \"became\", \"became\", \"became\", \"became\", \"became\", \"bed\", \"bed\", \"bed\", \"bed\", \"beijing\", \"beijing\", \"beijing\", \"beijing\", \"beijing\", \"beijing\", \"being_treated\", \"being_treated\", \"between\", \"between\", \"between\", \"between\", \"between\", \"between\", \"between\", \"biggest\", \"biggest\", \"biggest\", \"biggest\", \"biggest\", \"biggest\", \"biggest\", \"blaze\", \"blaze\", \"blaze\", \"board\", \"board\", \"board\", \"board\", \"board\", \"board\", \"board\", \"brendan_murphy\", \"brendan_murphy\", \"bus\", \"bus\", \"bus\", \"bus\", \"bushfires\", \"bushfires\", \"bushfires\", \"bushfires\", \"bushfires\", \"business\", \"business\", \"business\", \"business\", \"business\", \"business\", \"business\", \"business\", \"busy\", \"busy\", \"busy\", \"buy\", \"buy\", \"buy\", \"buy\", \"cabin\", \"cabin\", \"cabin\", \"campus\", \"campus\", \"campus\", \"campus\", \"can_cause\", \"can_cause\", \"can_cause\", \"can_cause\", \"car\", \"car\", \"car\", \"carrying\", \"carrying\", \"carrying\", \"carrying\", \"case\", \"case\", \"case\", \"case\", \"case\", \"case\", \"case\", \"case\", \"case\", \"case\", \"cell\", \"cell\", \"cent\", \"cent\", \"cent\", \"cent\", \"cent\", \"cent\", \"change\", \"change\", \"change\", \"change\", \"change\", \"change\", \"change\", \"change\", \"charter\", \"charter\", \"charter\", \"charter\", \"child\", \"child\", \"child\", \"child\", \"child\", \"child\", \"child\", \"child\", \"child\", \"china\", \"china\", \"china\", \"china\", \"china\", \"china\", \"china\", \"china\", \"china\", \"chinese\", \"chinese\", \"chinese\", \"chinese\", \"chinese\", \"chinese\", \"chinese\", \"chinese\", \"chinese_authority\", \"chinese_authority\", \"chinese_authority\", \"chinese_student\", \"chinese_student\", \"christmas\", \"christmas\", \"christmas\", \"christmas\", \"christmas\", \"christmas_island\", \"christmas_island\", \"christmas_island\", \"citizen\", \"citizen\", \"citizen\", \"citizen\", \"citizen\", \"citizen\", \"city\", \"city\", \"city\", \"city\", \"city\", \"city\", \"city\", \"city\", \"city\", \"claim\", \"claim\", \"claim\", \"claim\", \"claim\", \"claim\", \"class\", \"class\", \"class\", \"class\", \"class\", \"class\", \"class\", \"class\", \"cleared\", \"cleared\", \"cleared\", \"cleared\", \"climate\", \"climate_change\", \"close\", \"close\", \"close\", \"close\", \"close\", \"close\", \"close\", \"close\", \"close\", \"close\", \"closing\", \"closing\", \"closing\", \"closing\", \"closing\", \"closing\", \"coast\", \"coast\", \"coast\", \"coast\", \"coast\", \"coast\", \"college\", \"college\", \"college\", \"college\", \"college\", \"coming_from\", \"coming_from\", \"coming_from\", \"common_cold\", \"completely\", \"completely\", \"completely\", \"completely\", \"completely\", \"completely\", \"completely\", \"confined\", \"confined\", \"confined\", \"confined\", \"confined\", \"confirmed\", \"confirmed\", \"confirmed\", \"confirmed\", \"confirmed\", \"confirmed\", \"confirmed\", \"confirmed\", \"contact\", \"contact\", \"contact\", \"contact\", \"contact\", \"contact\", \"contact\", \"contact\", \"contagious\", \"contagious\", \"continue\", \"continue\", \"continue\", \"continue\", \"continue\", \"continue\", \"continue\", \"continue\", \"continue\", \"continue\", \"continuing\", \"continuing\", \"continuing\", \"continuing\", \"contracted\", \"contracted\", \"contracted\", \"contracted\", \"contracted\", \"cough\", \"cough\", \"cough\", \"cough\", \"could\", \"could\", \"could\", \"could\", \"could\", \"could\", \"could\", \"could\", \"could\", \"could\", \"country\", \"country\", \"country\", \"country\", \"country\", \"country\", \"country\", \"country\", \"country\", \"country\", \"course\", \"course\", \"course\", \"course\", \"course\", \"course\", \"covid\", \"covid\", \"covid\", \"covid\", \"covid\", \"covid\", \"created\", \"created\", \"crew\", \"crew\", \"crew\", \"crew\", \"crew\", \"cruise\", \"cruise\", \"cruise\", \"cruise\", \"cruise_ship\", \"cruise_ship\", \"cruise_ship\", \"cruise_ship\", \"current_concern\", \"customer\", \"customer\", \"customer\", \"daily\", \"daily\", \"daily\", \"daily\", \"daily\", \"daily\", \"daily\", \"daily\", \"daily\", \"daily_mail\", \"daily_mail\", \"daily_mail\", \"daily_mail\", \"daily_mail\", \"darwin\", \"darwin\", \"darwin\", \"darwin\", \"darwin\", \"data\", \"data\", \"data\", \"data\", \"data\", \"data\", \"daughter\", \"death\", \"death\", \"death\", \"death\", \"death\", \"death\", \"death\", \"death\", \"death\", \"death\", \"december\", \"december\", \"december\", \"december\", \"december\", \"declared\", \"declared\", \"declared\", \"declared\", \"declared\", \"declared\", \"delay\", \"delay\", \"delay\", \"delay\", \"delay\", \"delay\", \"delay\", \"detention\", \"detention\", \"detention\", \"detention\", \"diamond\", \"diamond\", \"diamond\", \"diamond\", \"diamond_princess\", \"diamond_princess\", \"diamond_princess\", \"diamond_princess\", \"disaster\", \"disaster\", \"disease\", \"disease\", \"disease\", \"disease\", \"disease\", \"disease\", \"disease\", \"disease\", \"disease\", \"disease\", \"disease_control\", \"disease_control\", \"disease_control\", \"disease_control\", \"disease_control\", \"distancing\", \"distancing\", \"distancing\", \"docked\", \"docked\", \"doesn\", \"doesn\", \"doesn\", \"donat\", \"donat\", \"donat\", \"donat\", \"door\", \"door\", \"door\", \"door\", \"economic\", \"economic\", \"economic\", \"economic\", \"economy\", \"economy\", \"economy\", \"economy\", \"economy\", \"economy\", \"education\", \"education\", \"education\", \"education\", \"education\", \"education\", \"emergency\", \"emergency\", \"emergency\", \"emergency\", \"emergency\", \"emergency\", \"emergency\", \"emergency\", \"emergency\", \"entering\", \"entering\", \"entering\", \"entering\", \"entering\", \"entering\", \"entire_hubei\", \"environment\", \"environment\", \"epicentre\", \"epicentre\", \"epicentre\", \"epicentre\", \"epicentre\", \"essential\", \"essential\", \"essential\", \"evacuated\", \"evacuated\", \"evacuated\", \"evacuated\", \"evacuated\", \"evacuated_from\", \"evacuated_from\", \"evacuated_from\", \"evacuation\", \"evacuation\", \"evacuation\", \"evacuation\", \"evacuee\", \"evacuee\", \"evacuee\", \"event\", \"event\", \"event\", \"event\", \"event\", \"event\", \"example\", \"example\", \"extended\", \"extended\", \"extended\", \"extended\", \"extended\", \"extra\", \"extra\", \"extra\", \"extra\", \"extra\", \"face\", \"face\", \"face\", \"face\", \"face\", \"face\", \"face\", \"face\", \"face\", \"face\", \"face_mask\", \"face_mask\", \"face_mask\", \"face_mask\", \"face_mask\", \"facebook\", \"facebook\", \"facebook\", \"facebook\", \"facility\", \"facility\", \"facility\", \"facility\", \"facility\", \"facility\", \"facility\", \"failure\", \"failure\", \"failure\", \"failure\", \"family\", \"family\", \"family\", \"family\", \"family\", \"family\", \"family\", \"family\", \"family\", \"family\", \"february\", \"february\", \"february\", \"february\", \"february\", \"february\", \"february\", \"february\", \"february\", \"february\", \"february_february\", \"february_february\", \"february_february\", \"february_february\", \"february_february\", \"february_february\", \"federal\", \"federal\", \"federal\", \"federal\", \"federal\", \"federal\", \"federal\", \"federal\", \"federal\", \"federal\", \"feel\", \"feel\", \"feel\", \"feel\", \"feel\", \"feel\", \"feel\", \"fellow\", \"fellow\", \"fellow\", \"fellow\", \"fellow\", \"fellow\", \"felt\", \"felt\", \"felt\", \"felt\", \"felt\", \"female\", \"female\", \"female\", \"fever\", \"fever\", \"fever\", \"fever\", \"fever\", \"financial\", \"financial\", \"financial\", \"financial\", \"financial\", \"financial\", \"fire\", \"fire\", \"fire\", \"fire\", \"first\", \"first\", \"first\", \"first\", \"first\", \"first\", \"first\", \"first\", \"first\", \"first\", \"flight\", \"flight\", \"flight\", \"flight\", \"flight\", \"flight\", \"flight\", \"flight\", \"flu\", \"flu\", \"flu\", \"flu\", \"flu\", \"flu\", \"food\", \"food\", \"food\", \"food\", \"food\", \"forced\", \"forced\", \"forced\", \"forced\", \"forced\", \"forced\", \"forced\", \"foreign\", \"foreign\", \"foreign\", \"foreign\", \"foreign\", \"foreign\", \"foreign_traveller\", \"foreign_traveller\", \"foreign_traveller\", \"found\", \"found\", \"found\", \"found\", \"found\", \"found\", \"found\", \"found\", \"found\", \"friday\", \"friday\", \"friday\", \"friday\", \"friday\", \"friday\", \"friday\", \"friday\", \"friday\", \"from_wuhan\", \"from_wuhan\", \"from_wuhan\", \"from_wuhan\", \"game\", \"game\", \"game\", \"game\", \"game\", \"game\", \"gathering\", \"gathering\", \"gathering\", \"gathering\", \"gathering\", \"get\", \"get\", \"get\", \"get\", \"get\", \"get\", \"get\", \"get\", \"get\", \"get\", \"getting\", \"getting\", \"getting\", \"getting\", \"getting\", \"getting\", \"global\", \"global\", \"global\", \"global\", \"global\", \"global\", \"global\", \"global\", \"global\", \"global\", \"go\", \"go\", \"go\", \"go\", \"go\", \"go\", \"go\", \"go\", \"go\", \"go\", \"government\", \"government\", \"government\", \"government\", \"government\", \"government\", \"government\", \"government\", \"government\", \"government\", \"gp\", \"gp\", \"gp\", \"greg\", \"greg\", \"greg\", \"greg\", \"greg\", \"greg_hunt\", \"greg_hunt\", \"greg_hunt\", \"greg_hunt\", \"greg_hunt\", \"greg_hunt\", \"growth\", \"growth\", \"growth\", \"growth\", \"guest\", \"guest\", \"guest\", \"guest\", \"hand\", \"hand\", \"hand\", \"hand\", \"hand\", \"hand\", \"hand\", \"have_died\", \"have_died\", \"have_died\", \"have_died\", \"have_died\", \"have_died\", \"he_said\", \"he_said\", \"he_said\", \"he_said\", \"he_said\", \"he_said\", \"he_said\", \"he_said\", \"he_said\", \"he_told\", \"he_told\", \"he_told\", \"he_told\", \"he_told\", \"he_told\", \"he_told\", \"heading\", \"heading\", \"heading\", \"heading\", \"heading\", \"health_minister\", \"health_minister\", \"health_minister\", \"health_minister\", \"health_minister\", \"health_minister\", \"heat\", \"heat\", \"her\", \"her\", \"her\", \"her\", \"her\", \"her\", \"her\", \"his\", \"his\", \"his\", \"his\", \"his\", \"his\", \"his\", \"his\", \"his\", \"his\", \"history\", \"history\", \"home\", \"home\", \"home\", \"home\", \"home\", \"home\", \"home\", \"home\", \"home\", \"home\", \"home_affair\", \"home_affair\", \"home_affair\", \"hong\", \"hong\", \"hong\", \"hong\", \"hong\", \"hong\", \"hong\", \"hong\", \"hong_kong\", \"hong_kong\", \"hong_kong\", \"hong_kong\", \"hong_kong\", \"hong_kong\", \"hong_kong\", \"hospital\", \"hospital\", \"hospital\", \"hospital\", \"hospital\", \"hospital\", \"hospital\", \"hospital\", \"hospital\", \"hospital\", \"hotel\", \"hotel\", \"hotel\", \"hotel\", \"hotel\", \"hotel\", \"hubei\", \"hubei\", \"hubei\", \"hubei\", \"hunt\", \"hunt\", \"hunt\", \"hunt\", \"hunt\", \"hunt\", \"hunt\", \"hunt\", \"hunt\", \"if\", \"if\", \"if\", \"if\", \"if\", \"if\", \"if\", \"if\", \"if\", \"if\", \"illness\", \"illness\", \"illness\", \"illness\", \"illness\", \"illness\", \"illness\", \"illness\", \"including_three\", \"including_three\", \"including_three\", \"indonesia\", \"indonesia\", \"indonesia\", \"infected\", \"infected\", \"infected\", \"infected\", \"infected\", \"infected\", \"infected\", \"infected\", \"infected\", \"infection\", \"infection\", \"infection\", \"infection\", \"infection\", \"infection\", \"infection\", \"infection\", \"infection\", \"international\", \"international\", \"international\", \"international\", \"international\", \"international\", \"international\", \"international\", \"international\", \"into\", \"into\", \"into\", \"into\", \"into\", \"into\", \"into\", \"into\", \"into\", \"into\", \"island\", \"island\", \"island\", \"island\", \"island\", \"island\", \"island\", \"isolate\", \"isolate\", \"isolate\", \"isolate\", \"isolate\", \"isolate\", \"italy\", \"italy\", \"italy\", \"italy\", \"italy\", \"italy\", \"italy\", \"italy\", \"item\", \"item\", \"item\", \"item\", \"item\", \"january_january\", \"january_january\", \"january_january\", \"january_january\", \"january_january\", \"january_january\", \"january_january\", \"japan\", \"japan\", \"japan\", \"japan\", \"japan\", \"japan\", \"japan\", \"japan\", \"japanese\", \"japanese\", \"japanese\", \"japanese\", \"japanese\", \"just\", \"just\", \"just\", \"just\", \"just\", \"just\", \"just\", \"just\", \"just\", \"just\", \"kong\", \"kong\", \"kong\", \"kong\", \"kong\", \"kong\", \"kong\", \"landed\", \"landed\", \"landed\", \"landing\", \"landing\", \"last\", \"last\", \"last\", \"last\", \"last\", \"last\", \"last\", \"last\", \"last\", \"last\", \"law\", \"law\", \"law\", \"law\", \"law\", \"learning\", \"learning\", \"learning\", \"learning\", \"learning\", \"leave\", \"leave\", \"leave\", \"leave\", \"leave\", \"leave\", \"leave\", \"leave\", \"leave\", \"letter\", \"letter\", \"letter\", \"letter\", \"level\", \"level\", \"level\", \"level\", \"level\", \"level\", \"level\", \"like\", \"like\", \"like\", \"like\", \"like\", \"like\", \"like\", \"like\", \"like\", \"like\", \"likely\", \"likely\", \"likely\", \"likely\", \"likely\", \"likely\", \"likely\", \"likely\", \"likely\", \"limit\", \"limit\", \"limit\", \"limit\", \"link\", \"link\", \"local\", \"local\", \"local\", \"local\", \"local\", \"local\", \"local\", \"local\", \"london\", \"london\", \"london\", \"london\", \"lot_of\", \"lot_of\", \"lot_of\", \"lot_of\", \"lot_of\", \"lot_of\", \"lot_of\", \"lung\", \"lung\", \"lung\", \"lung\", \"lung\", \"m\", \"m\", \"m\", \"m\", \"m\", \"m\", \"m\", \"m\", \"mail\", \"mail\", \"mail\", \"mail\", \"mail\", \"mail\", \"mail\", \"mail_australia\", \"mail_australia\", \"mail_australia\", \"mail_australia\", \"mail_australia\", \"mail_australia\", \"mail_australia\", \"mainland\", \"mainland\", \"mainland\", \"mainland\", \"mainland\", \"mainland_china\", \"mainland_china\", \"mainland_china\", \"mainland_china\", \"mainland_china\", \"make\", \"make\", \"make\", \"make\", \"make\", \"make\", \"make\", \"make\", \"make\", \"make\", \"man\", \"man\", \"man\", \"man\", \"man\", \"man\", \"market\", \"market\", \"market\", \"market\", \"market\", \"market\", \"market\", \"market\", \"market\", \"mask\", \"mask\", \"mask\", \"mask\", \"mask\", \"mask\", \"mask\", \"mask\", \"mask\", \"mass\", \"mass\", \"mass\", \"mass\", \"massive\", \"massive\", \"massive\", \"massive\", \"material\", \"material\", \"material\", \"material\", \"may\", \"may\", \"may\", \"may\", \"may\", \"may\", \"may\", \"may\", \"may\", \"may\", \"me\", \"me\", \"me\", \"me\", \"me\", \"measure\", \"measure\", \"measure\", \"measure\", \"measure\", \"measure\", \"measure\", \"measure\", \"measure\", \"medical\", \"medical\", \"medical\", \"medical\", \"medical\", \"medical\", \"medical\", \"medical\", \"medical\", \"medical_advice\", \"medical_advice\", \"medical_advice\", \"melbourne\", \"melbourne\", \"melbourne\", \"melbourne\", \"melbourne\", \"melbourne\", \"melbourne\", \"melbourne\", \"melbourne\", \"melbourne\", \"men\", \"men\", \"men\", \"men\", \"men\", \"metre\", \"metre\", \"metre\", \"metre\", \"mild\", \"mild\", \"mild\", \"mild\", \"minister\", \"minister\", \"minister\", \"minister\", \"minister\", \"minister\", \"minister\", \"minister\", \"minister\", \"minister\", \"model\", \"model\", \"model\", \"monash\", \"monash\", \"monash\", \"monash\", \"monash\", \"monash\", \"monash\", \"monash_university\", \"monash_university\", \"monash_university\", \"morrison\", \"morrison\", \"morrison\", \"morrison\", \"morrison\", \"morrison\", \"morrison\", \"morrison\", \"most\", \"most\", \"most\", \"most\", \"most\", \"most\", \"most\", \"most\", \"most\", \"most\", \"mother\", \"mother\", \"mother\", \"mother\", \"mother\", \"mr\", \"mr\", \"mr\", \"mr\", \"mr\", \"mr\", \"mr\", \"mr\", \"mr\", \"mr\", \"mr_morrison\", \"mr_morrison\", \"mr_morrison\", \"mr_morrison\", \"mr_morrison\", \"mr_morrison\", \"mr_morrison\", \"my\", \"my\", \"my\", \"my\", \"my\", \"my\", \"my\", \"my\", \"nation\", \"nation\", \"nation\", \"nation\", \"nation\", \"nation\", \"nation\", \"nation\", \"necessary\", \"necessary\", \"necessary\", \"necessary\", \"necessary\", \"necessary\", \"necessary\", \"need\", \"need\", \"need\", \"need\", \"need\", \"need\", \"need\", \"need\", \"need\", \"new_zealand\", \"new_zealand\", \"new_zealand\", \"new_zealand\", \"new_zealand\", \"no\", \"no\", \"no\", \"no\", \"no\", \"no\", \"no\", \"no\", \"no\", \"no\", \"no_need\", \"no_need\", \"no_need\", \"no_need\", \"normally\", \"normally\", \"normally\", \"normally\", \"normally\", \"novel_coronavirus\", \"novel_coronavirus\", \"novel_coronavirus\", \"novel_coronavirus\", \"now\", \"now\", \"now\", \"now\", \"now\", \"now\", \"now\", \"now\", \"now\", \"now\", \"nsw\", \"nsw\", \"nsw\", \"nsw\", \"nsw\", \"nsw\", \"nsw\", \"number\", \"number\", \"number\", \"number\", \"number\", \"number\", \"number\", \"number\", \"number\", \"number\", \"offering\", \"offering\", \"offering\", \"offering\", \"offering\", \"offering\", \"office\", \"office\", \"office\", \"office\", \"office\", \"officially\", \"officially\", \"officially\", \"officially\", \"on_board\", \"on_board\", \"on_board\", \"on_board\", \"on_christmas\", \"on_friday\", \"on_friday\", \"on_friday\", \"on_friday\", \"on_friday\", \"on_friday\", \"on_friday\", \"on_friday\", \"on_thursday\", \"on_thursday\", \"on_thursday\", \"on_thursday\", \"on_thursday\", \"on_thursday\", \"on_thursday\", \"online\", \"online\", \"online\", \"online\", \"online\", \"organ\", \"organ\", \"organ\", \"originated\", \"originated\", \"originated\", \"originated\", \"originated\", \"originated\", \"other\", \"other\", \"other\", \"other\", \"other\", \"other\", \"other\", \"other\", \"other\", \"other\", \"out\", \"out\", \"out\", \"out\", \"out\", \"out\", \"out\", \"out\", \"out\", \"out\", \"outbreak\", \"outbreak\", \"outbreak\", \"outbreak\", \"outbreak\", \"outbreak\", \"outbreak\", \"outbreak\", \"outbreak\", \"over\", \"over\", \"over\", \"over\", \"over\", \"over\", \"over\", \"over\", \"over\", \"pandemic\", \"pandemic\", \"pandemic\", \"pandemic\", \"pandemic\", \"panic\", \"panic\", \"panic\", \"panic\", \"panic\", \"paper\", \"paper\", \"paper\", \"paper\", \"paper\", \"party\", \"party\", \"party\", \"party\", \"party\", \"passenger\", \"passenger\", \"passenger\", \"passenger\", \"passenger\", \"passenger\", \"patient\", \"patient\", \"patient\", \"patient\", \"patient\", \"patient\", \"patient\", \"patient\", \"peak\", \"peak\", \"peak\", \"peak\", \"peak\", \"peak\", \"per\", \"per\", \"per\", \"per\", \"per\", \"per\", \"per\", \"per_cent\", \"per_cent\", \"per_cent\", \"per_cent\", \"per_cent\", \"per_cent\", \"permanent\", \"permanent\", \"permanent\", \"pictured\", \"pictured\", \"pictured\", \"pictured\", \"pictured\", \"pictured\", \"pictured\", \"pictured\", \"pictured\", \"plan\", \"plan\", \"plan\", \"plan\", \"plan\", \"plan\", \"plan\", \"plan\", \"plan\", \"plane\", \"plane\", \"plane\", \"plane\", \"plane\", \"play\", \"play\", \"play\", \"play\", \"pneumonia\", \"pneumonia\", \"port\", \"port\", \"port\", \"port\", \"positive\", \"positive\", \"positive\", \"positive\", \"positive\", \"positive\", \"positive\", \"positive\", \"positive\", \"possibility\", \"possibility\", \"possibility\", \"possibility\", \"post\", \"post\", \"post\", \"posted\", \"posted\", \"posted\", \"posted\", \"prepare\", \"prepare\", \"prepare\", \"prepare\", \"prepare\", \"prepare\", \"prepare_for\", \"prepare_for\", \"prepare_for\", \"prepare_for\", \"price\", \"price\", \"price\", \"price\", \"price\", \"price\", \"price\", \"prime\", \"prime\", \"prime\", \"prime\", \"prime\", \"prime\", \"prime\", \"prime\", \"prime\", \"prime_minister\", \"prime_minister\", \"prime_minister\", \"prime_minister\", \"prime_minister\", \"prime_minister\", \"prime_minister\", \"prime_minister\", \"princess\", \"princess\", \"princess\", \"princess\", \"princess\", \"professor\", \"professor\", \"professor\", \"professor\", \"professor\", \"professor\", \"professor\", \"professor\", \"professor\", \"project\", \"project\", \"province\", \"province\", \"province\", \"province\", \"province\", \"province\", \"qantas\", \"qantas\", \"qantas\", \"qantas\", \"qantas\", \"qantas_flight\", \"quality\", \"quality\", \"quality\", \"quarantine\", \"quarantine\", \"quarantine\", \"quarantine\", \"quarantine\", \"quarantine\", \"quarantine\", \"quarantine\", \"quarantined\", \"quarantined\", \"quarantined\", \"quarantined\", \"quarantined\", \"quarantined\", \"queensland\", \"queensland\", \"queensland\", \"queensland\", \"queensland\", \"queensland\", \"queensland\", \"queensland\", \"queensland\", \"queensland\", \"recovered\", \"recovered\", \"recovered\", \"recovered\", \"recovered\", \"recovered\", \"recovered\", \"recovered\", \"research\", \"research\", \"research\", \"research\", \"research\", \"research\", \"researcher\", \"researcher\", \"researcher\", \"respiratory_syndrome\", \"respiratory_syndrome\", \"respond\", \"respond\", \"respond\", \"restaurant\", \"restaurant\", \"restaurant\", \"restriction\", \"restriction\", \"restriction\", \"restriction\", \"return\", \"return\", \"return\", \"return\", \"return\", \"right\", \"right\", \"right\", \"right\", \"right\", \"right\", \"right\", \"right\", \"right\", \"right\", \"risk\", \"risk\", \"risk\", \"risk\", \"risk\", \"risk\", \"risk\", \"risk\", \"risk\", \"risk\", \"royal_melbourne\", \"royal_melbourne\", \"rule\", \"rule\", \"rule\", \"rule\", \"rule\", \"rule\", \"sars\", \"sars\", \"sars\", \"sars\", \"sars\", \"say\", \"say\", \"say\", \"say\", \"say\", \"say\", \"say\", \"say\", \"say\", \"scenario\", \"scenario\", \"scenario\", \"scenario\", \"scenario\", \"scenario\", \"school\", \"school\", \"school\", \"school\", \"school\", \"school\", \"school\", \"school\", \"school\", \"science\", \"science\", \"science\", \"scientist\", \"scientist\", \"scientist\", \"scott\", \"scott\", \"scott\", \"scott\", \"scott\", \"scott\", \"scott\", \"scott\", \"scott_morrison\", \"scott_morrison\", \"scott_morrison\", \"scott_morrison\", \"scott_morrison\", \"scott_morrison\", \"scott_morrison\", \"scroll\", \"scroll\", \"scroll\", \"scroll\", \"scroll\", \"scroll\", \"scroll_down\", \"scroll_down\", \"scroll_down\", \"scroll_down\", \"scroll_down\", \"scroll_down\", \"season\", \"season\", \"season\", \"sector\", \"sector\", \"sector\", \"security\", \"security\", \"security\", \"security\", \"security\", \"security\", \"selling\", \"selling\", \"selling\", \"semester\", \"semester\", \"sent\", \"sent\", \"sent\", \"sent\", \"sent\", \"sent\", \"sent\", \"service\", \"service\", \"service\", \"service\", \"service\", \"service\", \"service\", \"service\", \"service\", \"service\", \"severe_acute\", \"severe_acute\", \"share\", \"share\", \"share\", \"share\", \"share\", \"shared\", \"shared\", \"shared\", \"shared\", \"shared\", \"shared\", \"she\", \"she\", \"she\", \"she\", \"she\", \"she\", \"she\", \"she\", \"she\", \"she_wa\", \"she_wa\", \"she_wa\", \"she_wa\", \"she_wa\", \"she_wa\", \"ship\", \"ship\", \"ship\", \"ship\", \"should\", \"should\", \"should\", \"should\", \"should\", \"should\", \"should\", \"should\", \"should\", \"shut\", \"shut\", \"shut\", \"shut\", \"shut\", \"slow\", \"slow\", \"slow\", \"slow\", \"smoke\", \"smoke\", \"smoke\", \"so\", \"so\", \"so\", \"so\", \"so\", \"so\", \"so\", \"so\", \"so\", \"so\", \"social\", \"social\", \"social\", \"social\", \"social\", \"social\", \"social\", \"social_medium\", \"social_medium\", \"social_medium\", \"social_medium\", \"sold\", \"sold\", \"sold\", \"sold\", \"sold\", \"some\", \"some\", \"some\", \"some\", \"some\", \"some\", \"some\", \"some\", \"some\", \"some\", \"someone_who\", \"someone_who\", \"sore\", \"sore\", \"sore\", \"sore\", \"space\", \"space\", \"space\", \"space\", \"space\", \"space\", \"space\", \"specie\", \"specie\", \"spread\", \"spread\", \"spread\", \"spread\", \"spread\", \"spread\", \"spread\", \"spread\", \"spread\", \"spring\", \"spring\", \"spring\", \"spring\", \"stable_condition\", \"stable_condition\", \"stable_condition\", \"stable_condition\", \"start\", \"start\", \"start\", \"start\", \"start\", \"start\", \"start\", \"start\", \"start\", \"state\", \"state\", \"state\", \"state\", \"state\", \"state\", \"state\", \"state\", \"state\", \"stock\", \"stock\", \"stock\", \"stock\", \"stock\", \"stock\", \"stock\", \"store\", \"store\", \"store\", \"store\", \"store\", \"street\", \"street\", \"street\", \"street\", \"street\", \"street\", \"street\", \"student\", \"student\", \"student\", \"student\", \"student\", \"student\", \"student\", \"study\", \"study\", \"study\", \"study\", \"study\", \"such\", \"such\", \"such\", \"such\", \"such\", \"such\", \"such\", \"such\", \"such\", \"such\", \"supermarket\", \"supermarket\", \"supermarket\", \"supply\", \"supply\", \"supply\", \"supply\", \"supply\", \"supply\", \"supply\", \"supply\", \"survival\", \"survival\", \"survival\", \"sydney\", \"sydney\", \"sydney\", \"sydney\", \"sydney\", \"sydney\", \"sydney\", \"sydney\", \"sydney\", \"sydney\", \"symptom\", \"symptom\", \"symptom\", \"symptom\", \"symptom\", \"symptom\", \"symptom\", \"syndrome\", \"syndrome\", \"syndrome\", \"taiwan\", \"taiwan\", \"taiwan\", \"taiwan\", \"taken\", \"taken\", \"taken\", \"taken\", \"taken\", \"taken\", \"taken\", \"taken\", \"taken\", \"taken\", \"technology\", \"technology\", \"technology\", \"technology\", \"technology\", \"tested\", \"tested\", \"tested\", \"tested\", \"tested\", \"tested\", \"tested\", \"tested\", \"tested\", \"tested_positive\", \"tested_positive\", \"tested_positive\", \"tested_positive\", \"tested_positive\", \"tested_positive\", \"tested_positive\", \"testing_positive\", \"testing_positive\", \"testing_positive\", \"testing_positive\", \"them\", \"them\", \"them\", \"them\", \"them\", \"them\", \"them\", \"them\", \"them\", \"them\", \"these\", \"these\", \"these\", \"these\", \"these\", \"these\", \"these\", \"these\", \"these\", \"these\", \"third\", \"third\", \"third\", \"third\", \"third\", \"third\", \"third\", \"third\", \"third\", \"those\", \"those\", \"those\", \"those\", \"those\", \"those\", \"those\", \"those\", \"those\", \"those\", \"throat\", \"throat\", \"throat\", \"throat\", \"through\", \"through\", \"through\", \"through\", \"through\", \"through\", \"through\", \"through\", \"through\", \"through\", \"thursday\", \"thursday\", \"thursday\", \"thursday\", \"thursday\", \"thursday\", \"thursday\", \"thursday\", \"time\", \"time\", \"time\", \"time\", \"time\", \"time\", \"time\", \"time\", \"time\", \"time\", \"toilet\", \"toilet\", \"toilet\", \"toilet\", \"tokyo\", \"tokyo\", \"tokyo\", \"tokyo\", \"told\", \"told\", \"told\", \"told\", \"told\", \"told\", \"told\", \"told\", \"told\", \"told\", \"told_daily\", \"told_daily\", \"told_daily\", \"told_daily\", \"told_daily\", \"told_daily\", \"told_daily\", \"tourism\", \"tourism\", \"tourism\", \"tourism\", \"tourism\", \"town\", \"town\", \"town\", \"town\", \"town\", \"town\", \"town\", \"trade\", \"trade\", \"trade\", \"trade\", \"trade\", \"trade\", \"travel\", \"travel\", \"travel\", \"travel\", \"travel\", \"travel\", \"travel\", \"travel\", \"travel\", \"travel\", \"travel_alert\", \"travel_ban\", \"travel_ban\", \"travel_ban\", \"travel_ban\", \"travel_ban\", \"traveller\", \"traveller\", \"traveller\", \"traveller\", \"traveller\", \"traveller\", \"traveller\", \"traveller\", \"treated\", \"treated\", \"treated\", \"treated\", \"treated\", \"treated\", \"two\", \"two\", \"two\", \"two\", \"two\", \"two\", \"two\", \"two\", \"two\", \"two\", \"two_week\", \"two_week\", \"two_week\", \"two_week\", \"two_week\", \"two_week\", \"two_week\", \"typical\", \"typical\", \"u\", \"u\", \"u\", \"u\", \"u\", \"u\", \"u\", \"u\", \"u\", \"u\", \"unable\", \"unable\", \"unable\", \"unable\", \"unable\", \"unable\", \"unable_to\", \"unable_to\", \"unable_to\", \"unable_to\", \"unable_to\", \"unable_to\", \"understood\", \"understood\", \"understood\", \"understood\", \"untreated\", \"untreated\", \"unwell\", \"unwell\", \"unwell\", \"unwell\", \"upon\", \"upon\", \"upon\", \"upon\", \"upon\", \"upon\", \"used\", \"used\", \"used\", \"used\", \"used\", \"using\", \"using\", \"using\", \"using\", \"using\", \"vessel\", \"vessel\", \"vessel\", \"vessel\", \"virus\", \"virus\", \"virus\", \"virus\", \"virus\", \"virus\", \"virus\", \"virus\", \"virus\", \"want\", \"want\", \"want\", \"want\", \"want\", \"want\", \"want\", \"want\", \"want\", \"way\", \"way\", \"way\", \"way\", \"way\", \"way\", \"way\", \"we_need\", \"we_need\", \"we_need\", \"we_need\", \"wearing\", \"wearing\", \"wearing\", \"wearing\", \"wearing\", \"wearing\", \"wearing\", \"wearing\", \"weather\", \"weather\", \"weather\", \"week\", \"week\", \"week\", \"week\", \"week\", \"week\", \"week\", \"week\", \"week\", \"week\", \"weekend\", \"weekend\", \"weekend\", \"weekend\", \"weekend\", \"weekend\", \"weekend\", \"weekend\", \"western\", \"western\", \"western\", \"western\", \"western\", \"western\", \"western\", \"western\", \"western\", \"western\", \"when\", \"when\", \"when\", \"when\", \"when\", \"when\", \"when\", \"when\", \"when\", \"when\", \"whom\", \"whom\", \"whom\", \"whom\", \"whom\", \"wife\", \"wife\", \"wife\", \"wife\", \"wife\", \"wife\", \"wild\", \"wild\", \"wild\", \"wild\", \"wild\", \"will_be\", \"will_be\", \"will_be\", \"will_be\", \"will_be\", \"will_be\", \"will_be\", \"will_be\", \"will_be\", \"will_be\", \"woman\", \"woman\", \"woman\", \"woman\", \"woman\", \"woman\", \"woman\", \"woman\", \"work\", \"work\", \"work\", \"work\", \"work\", \"work\", \"work\", \"work\", \"work\", \"worker\", \"worker\", \"worker\", \"worker\", \"worker\", \"worker\", \"worker\", \"worker\", \"worker\", \"world\", \"world\", \"world\", \"world\", \"world\", \"world\", \"world\", \"world\", \"world\", \"world\", \"worse\", \"worse\", \"worse\", \"worse\", \"worse\", \"worse\", \"worse\", \"worse\", \"worth\", \"worth\", \"worth\", \"worth\", \"worth\", \"would\", \"would\", \"would\", \"would\", \"would\", \"would\", \"would\", \"would\", \"would\", \"would\", \"would_be\", \"would_be\", \"would_be\", \"would_be\", \"would_be\", \"would_be\", \"would_be\", \"would_be\", \"would_be\", \"would_be\", \"wrote\", \"wrote\", \"wrote\", \"wrote\", \"wrote\", \"wrote\", \"wrote\", \"wrote\", \"wuhan\", \"wuhan\", \"wuhan\", \"wuhan\", \"wuhan\", \"wuhan\", \"wuhan\", \"yokohama\", \"yokohama\", \"yokohama\", \"yokohama\", \"york\", \"york\", \"york\", \"you\", \"you\", \"you\", \"you\", \"you\", \"you\", \"you\", \"you\", \"you\", \"you\", \"your\", \"your\", \"your\", \"your\", \"your\", \"your\", \"your\", \"your\", \"your\", \"zealand\", \"zealand\", \"zealand\", \"zealand\", \"zealand\"]}, \"R\": 30, \"lambda.step\": 0.01, \"plot.opts\": {\"xlab\": \"PC1\", \"ylab\": \"PC2\"}, \"topic.order\": [3, 9, 10, 2, 1, 6, 5, 7, 4, 8]};\n",
       "\n",
       "function LDAvis_load_lib(url, callback){\n",
       "  var s = document.createElement('script');\n",
       "  s.src = url;\n",
       "  s.async = true;\n",
       "  s.onreadystatechange = s.onload = callback;\n",
       "  s.onerror = function(){console.warn(\"failed to load library \" + url);};\n",
       "  document.getElementsByTagName(\"head\")[0].appendChild(s);\n",
       "}\n",
       "\n",
       "if(typeof(LDAvis) !== \"undefined\"){\n",
       "   // already loaded: just create the visualization\n",
       "   !function(LDAvis){\n",
       "       new LDAvis(\"#\" + \"ldavis_el91961928782023752209740580\", ldavis_el91961928782023752209740580_data);\n",
       "   }(LDAvis);\n",
       "}else if(typeof define === \"function\" && define.amd){\n",
       "   // require.js is available: use it to load d3/LDAvis\n",
       "   require.config({paths: {d3: \"https://cdnjs.cloudflare.com/ajax/libs/d3/3.5.5/d3.min\"}});\n",
       "   require([\"d3\"], function(d3){\n",
       "      window.d3 = d3;\n",
       "      LDAvis_load_lib(\"https://cdn.rawgit.com/bmabey/pyLDAvis/files/ldavis.v1.0.0.js\", function(){\n",
       "        new LDAvis(\"#\" + \"ldavis_el91961928782023752209740580\", ldavis_el91961928782023752209740580_data);\n",
       "      });\n",
       "    });\n",
       "}else{\n",
       "    // require.js not available: dynamically load d3 & LDAvis\n",
       "    LDAvis_load_lib(\"https://cdnjs.cloudflare.com/ajax/libs/d3/3.5.5/d3.min.js\", function(){\n",
       "         LDAvis_load_lib(\"https://cdn.rawgit.com/bmabey/pyLDAvis/files/ldavis.v1.0.0.js\", function(){\n",
       "                 new LDAvis(\"#\" + \"ldavis_el91961928782023752209740580\", ldavis_el91961928782023752209740580_data);\n",
       "            })\n",
       "         });\n",
       "}\n",
       "</script>"
      ],
      "text/plain": [
       "<IPython.core.display.HTML object>"
      ]
     },
     "execution_count": 383,
     "metadata": {},
     "output_type": "execute_result"
    }
   ],
   "source": [
    "#!pip3 install pyLDAvis\n",
    "\n",
    "lda_display = pyLDAvis.gensim.prepare(model, corpus, dictionary, sort_topics=True)\n",
    "pyLDAvis.display(lda_display)"
   ]
  },
  {
   "cell_type": "markdown",
   "metadata": {},
   "source": [
    "### LDA 2nd Run"
   ]
  },
  {
   "cell_type": "code",
   "execution_count": 589,
   "metadata": {},
   "outputs": [
    {
     "data": {
      "text/html": [
       "<div>\n",
       "<style scoped>\n",
       "    .dataframe tbody tr th:only-of-type {\n",
       "        vertical-align: middle;\n",
       "    }\n",
       "\n",
       "    .dataframe tbody tr th {\n",
       "        vertical-align: top;\n",
       "    }\n",
       "\n",
       "    .dataframe thead th {\n",
       "        text-align: right;\n",
       "    }\n",
       "</style>\n",
       "<table border=\"1\" class=\"dataframe\">\n",
       "  <thead>\n",
       "    <tr style=\"text-align: right;\">\n",
       "      <th></th>\n",
       "      <th>uri</th>\n",
       "      <th>url</th>\n",
       "      <th>date</th>\n",
       "      <th>title</th>\n",
       "      <th>body</th>\n",
       "    </tr>\n",
       "  </thead>\n",
       "  <tbody>\n",
       "    <tr>\n",
       "      <th>0</th>\n",
       "      <td>1395271488</td>\n",
       "      <td>http://www.theguardian.com/environment/2020/ja...</td>\n",
       "      <td>2020-01-01</td>\n",
       "      <td>Canberra experiences worst air quality on reco...</td>\n",
       "      <td>Canberra\\n has experienced its worst air qual...</td>\n",
       "    </tr>\n",
       "    <tr>\n",
       "      <th>1</th>\n",
       "      <td>1396563053</td>\n",
       "      <td>https://weather.com/news/news/2020-01-02-thous...</td>\n",
       "      <td>2020-01-02</td>\n",
       "      <td>Thousands Clog Roads Fleeing Australian Bushfi...</td>\n",
       "      <td>As\\n dawn broke over a blackened Australi...</td>\n",
       "    </tr>\n",
       "    <tr>\n",
       "      <th>2</th>\n",
       "      <td>1397549175</td>\n",
       "      <td>https://www.businessinsider.com/baby-milestone...</td>\n",
       "      <td>2020-01-03</td>\n",
       "      <td>Key milestones your baby can reach in the firs...</td>\n",
       "      <td>Your baby's brain and body grow a lot during ...</td>\n",
       "    </tr>\n",
       "    <tr>\n",
       "      <th>3</th>\n",
       "      <td>1397689515</td>\n",
       "      <td>https://www.dailymail.co.uk/health/article-784...</td>\n",
       "      <td>2020-01-03</td>\n",
       "      <td>Air pollution can break your BONES, study sugg...</td>\n",
       "      <td>Living in polluted cities may make your bones...</td>\n",
       "    </tr>\n",
       "    <tr>\n",
       "      <th>4</th>\n",
       "      <td>1397806413</td>\n",
       "      <td>https://www.independent.co.uk/life-style/gadge...</td>\n",
       "      <td>2020-01-03</td>\n",
       "      <td>'World's most efficient battery' can power a s...</td>\n",
       "      <td>Researchers have developed a new battery they...</td>\n",
       "    </tr>\n",
       "  </tbody>\n",
       "</table>\n",
       "</div>"
      ],
      "text/plain": [
       "          uri                                                url        date  \\\n",
       "0  1395271488  http://www.theguardian.com/environment/2020/ja...  2020-01-01   \n",
       "1  1396563053  https://weather.com/news/news/2020-01-02-thous...  2020-01-02   \n",
       "2  1397549175  https://www.businessinsider.com/baby-milestone...  2020-01-03   \n",
       "3  1397689515  https://www.dailymail.co.uk/health/article-784...  2020-01-03   \n",
       "4  1397806413  https://www.independent.co.uk/life-style/gadge...  2020-01-03   \n",
       "\n",
       "                                               title  \\\n",
       "0  Canberra experiences worst air quality on reco...   \n",
       "1  Thousands Clog Roads Fleeing Australian Bushfi...   \n",
       "2  Key milestones your baby can reach in the firs...   \n",
       "3  Air pollution can break your BONES, study sugg...   \n",
       "4  'World's most efficient battery' can power a s...   \n",
       "\n",
       "                                                body  \n",
       "0   Canberra\\n has experienced its worst air qual...  \n",
       "1       As\\n dawn broke over a blackened Australi...  \n",
       "2   Your baby's brain and body grow a lot during ...  \n",
       "3   Living in polluted cities may make your bones...  \n",
       "4   Researchers have developed a new battery they...  "
      ]
     },
     "execution_count": 589,
     "metadata": {},
     "output_type": "execute_result"
    }
   ],
   "source": [
    "monash_text.head()"
   ]
  },
  {
   "cell_type": "markdown",
   "metadata": {},
   "source": [
    "### Deleing the new line characters and stop words"
   ]
  },
  {
   "cell_type": "code",
   "execution_count": 590,
   "metadata": {},
   "outputs": [],
   "source": [
    "# There are 2 text columns, Title and Body\n",
    "# Usually the Title's words are a sub set of the body and therefore it is okay to ignore it\n",
    "# We take the text column into a list\n",
    "\n",
    "monash_text_list = monash_text['body'].tolist()"
   ]
  },
  {
   "cell_type": "code",
   "execution_count": 591,
   "metadata": {},
   "outputs": [],
   "source": [
    "# Numpy arrays are faster to iterate through\n",
    "# So we convert the list of text bodies into a Numpy array\n",
    "# In this cell we delete all punctuations and stop words in the text\n",
    "\n",
    "training_abstract_array = np.asarray(monash_text_list)\n",
    "\n",
    "stop_words_en = set(stopwords.words('english'))\n",
    "stop_words_en = Counter(stop_words_en)\n",
    "\n",
    "for i, txt in enumerate(training_abstract_array):\n",
    "    \n",
    "    \n",
    "# Substituting with an empty string every character that is not an alphabet or white space.\n",
    "# This gets rid of all the punctuations and unnecessary characters\n",
    "    temp = re.sub(r'[^a-zA-Z ]', '', str(txt))\n",
    "    \n",
    "# Splitting each document into individual words and joining them back while removing words that are present in the stop word list    \n",
    "    training_abstract_array[i] = ' '.join([word for word in temp.lower().split() if word not in stop_words_en])\n",
    "    \n",
    "# Converting the array back into a list\n",
    "monash_text_list = training_abstract_array.tolist()"
   ]
  },
  {
   "cell_type": "markdown",
   "metadata": {},
   "source": [
    "### Spacy Lemmatizer"
   ]
  },
  {
   "cell_type": "code",
   "execution_count": 592,
   "metadata": {},
   "outputs": [],
   "source": [
    "nlp = spacy.load('en_core_web_sm', disable=['parser', 'ner'])"
   ]
  },
  {
   "cell_type": "code",
   "execution_count": 593,
   "metadata": {},
   "outputs": [],
   "source": [
    "# This cell loops through the text body list and tokenizes the text and returns a list of tokens\n",
    "\n",
    "for i, txt in enumerate(monash_text_list):\n",
    "    \n",
    "    trydoc = nlp(str(txt))\n",
    "    \n",
    "    monash_text_list[i] = [token.lemma_ for token in trydoc]"
   ]
  },
  {
   "cell_type": "markdown",
   "metadata": {},
   "source": [
    "#### Bigrams"
   ]
  },
  {
   "cell_type": "code",
   "execution_count": 594,
   "metadata": {},
   "outputs": [],
   "source": [
    "# We can generate bigrams using the Phrases method\n",
    "\n",
    "bigram_generator = Phrases(monash_text_list, min_count = 40)\n",
    "\n",
    "# The phrases method returns all the bigrams founds in each document along with all the tokens\n",
    "# Since we're only interested in the bigrams we look for an '_' in each word and append those elements into our existing list of tokens\n",
    "\n",
    "for i in range(len(monash_text_list)):\n",
    "    for token in bigram[monash_text_list[i]]:\n",
    "        if '_' in token:\n",
    "            # Token is a bigram, add to document.\n",
    "            monash_text_list[i].append(token)"
   ]
  },
  {
   "cell_type": "code",
   "execution_count": null,
   "metadata": {},
   "outputs": [],
   "source": []
  },
  {
   "cell_type": "markdown",
   "metadata": {},
   "source": [
    "#### New model - Remove rare tokens"
   ]
  },
  {
   "cell_type": "code",
   "execution_count": 595,
   "metadata": {},
   "outputs": [],
   "source": [
    "# Removing rare and common tokens\n",
    "# Creating a dictionary representation of the documents\n",
    "monash_dictionary = Dictionary(monash_text_list)\n",
    "\n",
    "# Filtering out words that occur in less than 20 documents or more than 70% of the documents.\n",
    "monash_dictionary.filter_extremes(no_below = 20, no_above = 0.7)"
   ]
  },
  {
   "cell_type": "code",
   "execution_count": null,
   "metadata": {},
   "outputs": [],
   "source": []
  },
  {
   "cell_type": "markdown",
   "metadata": {},
   "source": [
    "#### Map of all words to a unique ID"
   ]
  },
  {
   "cell_type": "code",
   "execution_count": 596,
   "metadata": {},
   "outputs": [],
   "source": [
    "# Bag-of-words representation of the documents\n",
    "# The method doc2bow assigns a unique ID (natural numbers starting from 0)\n",
    "# The corpus is a 2D list. Each element in the list is a list of tuples of the form (toked id, token frequency)\n",
    "\n",
    "monash_corpus = [monash_dictionary.doc2bow(each) for each in monash_text_list]"
   ]
  },
  {
   "cell_type": "code",
   "execution_count": 597,
   "metadata": {},
   "outputs": [
    {
     "name": "stdout",
     "output_type": "stream",
     "text": [
      "Number of unique tokens: 1214\n",
      "Number of documents: 366\n"
     ]
    }
   ],
   "source": [
    "print('Number of unique tokens: %d' % len(monash_dictionary))\n",
    "print('Number of documents: %d' % len(monash_corpus))"
   ]
  },
  {
   "cell_type": "code",
   "execution_count": null,
   "metadata": {},
   "outputs": [],
   "source": []
  },
  {
   "cell_type": "markdown",
   "metadata": {},
   "source": [
    "#### Saving the models"
   ]
  },
  {
   "cell_type": "code",
   "execution_count": 598,
   "metadata": {},
   "outputs": [],
   "source": [
    "pickle.dump(monash_corpus, open('monash_corpus.pkl', 'wb'))\n",
    "monash_dictionary.save('monash_dictionary.gensim')"
   ]
  },
  {
   "cell_type": "code",
   "execution_count": null,
   "metadata": {},
   "outputs": [],
   "source": []
  },
  {
   "cell_type": "markdown",
   "metadata": {},
   "source": [
    "### Training the model"
   ]
  },
  {
   "cell_type": "markdown",
   "metadata": {},
   "source": [
    "#### Tuning Model Parameters"
   ]
  },
  {
   "cell_type": "code",
   "execution_count": 599,
   "metadata": {},
   "outputs": [],
   "source": [
    "# For this run we're trying only 6 topics\n",
    "# Chunksize size is the number of documents that will be processed at once\n",
    "# passes are the number of times we train the model on the entire corpus and\n",
    "# iterations are how often we repeat a particular loop over each document\n",
    "\n",
    "MONASH_TOPICS = 6\n",
    "monash_chunksize = 2000\n",
    "monash_passes = 30\n",
    "monash_iterations = 1000\n",
    "eval_every = None"
   ]
  },
  {
   "cell_type": "markdown",
   "metadata": {},
   "source": [
    "#### Make a word index"
   ]
  },
  {
   "cell_type": "code",
   "execution_count": 600,
   "metadata": {},
   "outputs": [],
   "source": [
    "# This code makes an index to word dictionary\n",
    "# The key is the unique ID generated above using doc2bow\n",
    "# The value is the corresponding word or token\n",
    "\n",
    "temp = monash_dictionary[0]\n",
    "\n",
    "monash_id2word = monash_dictionary.id2token"
   ]
  },
  {
   "cell_type": "code",
   "execution_count": null,
   "metadata": {},
   "outputs": [],
   "source": []
  },
  {
   "cell_type": "code",
   "execution_count": null,
   "metadata": {},
   "outputs": [],
   "source": []
  },
  {
   "cell_type": "markdown",
   "metadata": {},
   "source": [
    "#### New Model"
   ]
  },
  {
   "cell_type": "code",
   "execution_count": 601,
   "metadata": {},
   "outputs": [],
   "source": [
    "monash_model = LdaModel(\n",
    "    corpus = monash_corpus,\n",
    "    id2word = monash_id2word,\n",
    "    chunksize = monash_chunksize,\n",
    "    alpha = 'auto',\n",
    "    eta = 'auto',\n",
    "    iterations = monash_iterations,\n",
    "    num_topics = MONASH_TOPICS,\n",
    "    passes = monash_passes,\n",
    "    eval_every = eval_every\n",
    ")"
   ]
  },
  {
   "cell_type": "code",
   "execution_count": 602,
   "metadata": {},
   "outputs": [
    {
     "name": "stdout",
     "output_type": "stream",
     "text": [
      "Saving model in Monash_Text_10_Topics.gensim\n",
      "\n"
     ]
    }
   ],
   "source": [
    "outputfile = f'Monash_Text_{NUM_TOPICS}_Topics.gensim'\n",
    "print(\"Saving model in \" + outputfile)\n",
    "print(\"\")\n",
    "model.save(outputfile)"
   ]
  },
  {
   "cell_type": "code",
   "execution_count": 603,
   "metadata": {},
   "outputs": [
    {
     "name": "stdout",
     "output_type": "stream",
     "text": [
      "Average topic coherence: -0.7130.\n"
     ]
    }
   ],
   "source": [
    "monash_top_topics = monash_model.top_topics(monash_corpus) #, num_words=20)\n",
    "\n",
    "# Average topic coherence is the sum of topic coherences of all topics, divided by the number of topics.\n",
    "monash_avg_topic_coherence = sum([t[1] for t in monash_top_topics]) / MONASH_TOPICS\n",
    "print('Average topic coherence: %.4f.' % monash_avg_topic_coherence)\n",
    "\n",
    "# from pprint import pprint\n",
    "# pprint(top_topics)"
   ]
  },
  {
   "cell_type": "markdown",
   "metadata": {},
   "source": [
    "### Topics Generated"
   ]
  },
  {
   "cell_type": "code",
   "execution_count": 604,
   "metadata": {},
   "outputs": [
    {
     "name": "stdout",
     "output_type": "stream",
     "text": [
      "[(0,\n",
      "  '0.021*\"virus\" + 0.017*\"coronavirus\" + 0.016*\"china\" + 0.015*\"case\" + '\n",
      "  '0.012*\"wuhan\" + 0.012*\"health\" + 0.009*\"test\" + 0.008*\"symptom\" + '\n",
      "  '0.008*\"confirm\" + 0.008*\"spread\"'),\n",
      " (1,\n",
      "  '0.026*\"february\" + 0.023*\"january\" + 0.016*\"mask\" + 0.014*\"coronavirus\" + '\n",
      "  '0.011*\"face\" + 0.009*\"south\" + 0.008*\"not\" + 0.008*\"tell\" + 0.007*\"one\" + '\n",
      "  '0.007*\"chinese\"'),\n",
      " (2,\n",
      "  '0.018*\"area\" + 0.014*\"use\" + 0.013*\"woman\" + 0.011*\"study\" + '\n",
      "  '0.011*\"university\" + 0.010*\"fire\" + 0.009*\"climate\" + 0.008*\"patient\" + '\n",
      "  '0.008*\"year\" + 0.008*\"change\"'),\n",
      " (3,\n",
      "  '0.010*\"could\" + 0.009*\"make\" + 0.008*\"work\" + 0.008*\"time\" + 0.008*\"get\" + '\n",
      "  '0.008*\"one\" + 0.008*\"smoke\" + 0.007*\"air\" + 0.007*\"go\" + 0.007*\"like\"'),\n",
      " (4,\n",
      "  '0.020*\"student\" + 0.015*\"coronavirus\" + 0.015*\"university\" + 0.012*\"would\" '\n",
      "  '+ 0.011*\"china\" + 0.010*\"ban\" + 0.010*\"australian\" + 0.010*\"school\" + '\n",
      "  '0.010*\"per\" + 0.010*\"cent\"'),\n",
      " (5,\n",
      "  '0.036*\"february\" + 0.028*\"january\" + 0.015*\"ship\" + 0.014*\"coronavirus\" + '\n",
      "  '0.011*\"passenger\" + 0.011*\"cruise\" + 0.010*\"flight\" + 0.010*\"australian\" + '\n",
      "  '0.009*\"south\" + 0.009*\"quarantine\"')]\n"
     ]
    }
   ],
   "source": [
    "# Print the Keywords for the topics identified\n",
    "pprint(monash_model.print_topics())"
   ]
  },
  {
   "cell_type": "code",
   "execution_count": null,
   "metadata": {},
   "outputs": [],
   "source": []
  },
  {
   "cell_type": "code",
   "execution_count": null,
   "metadata": {},
   "outputs": [],
   "source": []
  },
  {
   "cell_type": "markdown",
   "metadata": {},
   "source": [
    "### Interactive Visualization of the Topics"
   ]
  },
  {
   "cell_type": "code",
   "execution_count": 605,
   "metadata": {},
   "outputs": [
    {
     "data": {
      "text/html": [
       "\n",
       "<link rel=\"stylesheet\" type=\"text/css\" href=\"https://cdn.rawgit.com/bmabey/pyLDAvis/files/ldavis.v1.0.0.css\">\n",
       "\n",
       "\n",
       "<div id=\"ldavis_el919619287441622484403661739\"></div>\n",
       "<script type=\"text/javascript\">\n",
       "\n",
       "var ldavis_el919619287441622484403661739_data = {\"mdsDat\": {\"x\": [0.05307913514980217, 0.15923392701602393, -0.13741709480593636, 0.010978263251483902, -0.17812625008689592, 0.0922520194755224], \"y\": [0.09622405485019342, 0.019163657323232965, -0.0807764148394534, 0.03820634686662718, 0.047936244667516587, -0.12075388886811679], \"topics\": [1, 2, 3, 4, 5, 6], \"cluster\": [1, 1, 1, 1, 1, 1], \"Freq\": [25.714195251464844, 20.773679733276367, 15.710249900817871, 14.927112579345703, 12.110530853271484, 10.764227867126465]}, \"tinfo\": {\"Term\": [\"february\", \"january\", \"student\", \"ship\", \"area\", \"coronavirus\", \"virus\", \"mask\", \"university\", \"cruise\", \"china\", \"wuhan\", \"use\", \"passenger\", \"flight\", \"patient\", \"woman\", \"fire\", \"ban\", \"cent\", \"per_cent\", \"symptom\", \"study\", \"princess\", \"climate\", \"february_february\", \"chinese\", \"diamond\", \"per\", \"school\", \"pneumonia\", \"severe_acute\", \"common_cold\", \"respiratory_syndrome\", \"travel_alert\", \"say_unless\", \"entire_hubei\", \"current_concern\", \"swell\", \"symptom\", \"unwell\", \"syndrome\", \"fever\", \"officer_dr\", \"gp\", \"untreated\", \"sars\", \"novel_coronavirus\", \"acute\", \"sore\", \"throat\", \"aged\", \"mild\", \"thailand\", \"small_group\", \"taiwan\", \"nsw_health\", \"close_contact\", \"breath\", \"typical\", \"beijing\", \"gold_coast\", \"infected\", \"hubei\", \"shanghai\", \"virus\", \"cough\", \"infection\", \"wuhan\", \"case\", \"china\", \"patient\", \"hospital\", \"infect\", \"confirm\", \"spread\", \"province\", \"authority\", \"outbreak\", \"test\", \"isolation\", \"treat\", \"man\", \"health\", \"coronavirus\", \"develop\", \"melbourne\", \"nsw\", \"chinese\", \"city\", \"disease\", \"two\", \"death\", \"sydney\", \"include\", \"travel\", \"january\", \"flight\", \"day\", \"one\", \"first\", \"medical\", \"week\", \"evacuee\", \"yokohama\", \"cabin\", \"dock\", \"qantas\", \"christmas_island\", \"diamond\", \"diamond_princess\", \"ship\", \"princess\", \"aboard\", \"christmas\", \"darwin\", \"detention\", \"australian_citizen\", \"cruise\", \"qantas_flight\", \"cruise_ship\", \"crew\", \"island\", \"board\", \"medical_advice\", \"tokyo\", \"depart\", \"japanese\", \"vessel\", \"qanta\", \"quarantine\", \"transfer\", \"passenger\", \"japan\", \"february\", \"february_february\", \"flight\", \"evacuate\", \"january\", \"australians\", \"january_january\", \"aedt_february\", \"zealand\", \"february_south\", \"picture\", \"australia_february\", \"january_february\", \"south\", \"australian\", \"coronavirus\", \"aedt\", \"queensland\", \"wuhan\", \"health\", \"take\", \"virus\", \"case\", \"china\", \"test\", \"two\", \"air_quality\", \"athe\", \"smoke\", \"itas\", \"donat\", \"awe\", \"ait\", \"light\", \"car\", \"play\", \"create\", \"phone\", \"exposure\", \"explain\", \"quality\", \"researcher\", \"fine\", \"natural\", \"material\", \"danger\", \"question\", \"air\", \"baby\", \"burn\", \"council\", \"review\", \"law\", \"body\", \"problem\", \"vulnerable\", \"act\", \"cell\", \"find\", \"scientist\", \"like\", \"way\", \"feel\", \"work\", \"could\", \"make\", \"time\", \"help\", \"think\", \"get\", \"even\", \"fire\", \"many\", \"monash\", \"go\", \"one\", \"year\", \"-PRON-\", \"use\", \"day\", \"would\", \"take\", \"university\", \"know\", \"australian\", \"need\", \"economy\", \"gathering\", \"economic\", \"travel_ban\", \"chinese_student\", \"intensive_care\", \"semester\", \"education\", \"intensive\", \"financial\", \"scenario\", \"student\", \"people_globally\", \"cent\", \"per_cent\", \"billion\", \"school\", \"stay_home\", \"ban\", \"sector\", \"aedt_march\", \"per\", \"cause_severe\", \"worth\", \"failure\", \"organ\", \"pandemic\", \"restriction\", \"decline\", \"extend\", \"trade\", \"covid\", \"online\", \"scott_morrison\", \"cost\", \"morrison\", \"university\", \"would\", \"march\", \"minister\", \"travel\", \"prime_minister\", \"government\", \"international\", \"coronavirus\", \"country\", \"australian\", \"china\", \"close\", \"could\", \"tell\", \"chinese\", \"home\", \"february\", \"health\", \"year\", \"week\", \"go\", \"january\", \"history\", \"weather\", \"value\", \"author\", \"factor\", \"datum\", \"address\", \"climate\", \"property\", \"location\", \"average\", \"climate_change\", \"area\", \"project\", \"network\", \"female\", \"associate\", \"represent\", \"senior\", \"season\", \"environment\", \"link\", \"finding\", \"feature\", \"disaster\", \"mass\", \"destroy\", \"form\", \"site\", \"journal\", \"research\", \"range\", \"normal\", \"study\", \"view\", \"resource\", \"fire\", \"use\", \"woman\", \"change\", \"level\", \"extreme\", \"bushfire\", \"result\", \"patient\", \"university\", \"group\", \"image\", \"year\", \"high\", \"provide\", \"base\", \"include\", \"monash\", \"may\", \"well\", \"australian\", \"professor\", \"first\", \"risk\", \"south\", \"customer\", \"shelf\", \"supermarket\", \"facebook\", \"post\", \"store\", \"stock\", \"face_mask\", \"wear_mask\", \"suburb\", \"street\", \"shop\", \"sell\", \"toilet\", \"normally\", \"food\", \"busy\", \"town\", \"restaurant\", \"hand\", \"daily_mail\", \"mail\", \"buy\", \"box\", \"empty\", \"chain\", \"comment\", \"completely\", \"supply\", \"mask\", \"face\", \"claim\", \"business\", \"daily\", \"wear\", \"february\", \"january\", \"not\", \"mr\", \"coronavirus\", \"south\", \"tell\", \"-PRON-\", \"chinese\", \"one\", \"january_january\", \"queensland\", \"get\", \"last\", \"february_february\", \"picture\", \"virus\", \"go\", \"week\", \"victoria\"], \"Freq\": [1618.0, 1512.0, 511.0, 426.0, 404.0, 1463.0, 1110.0, 442.0, 695.0, 324.0, 1014.0, 655.0, 456.0, 417.0, 468.0, 443.0, 439.0, 294.0, 281.0, 260.0, 257.0, 311.0, 300.0, 232.0, 180.0, 309.0, 545.0, 212.0, 298.0, 274.0, 79.47687530517578, 36.841636657714844, 30.963821411132812, 42.35787582397461, 21.02634048461914, 21.021886825561523, 20.032817840576172, 20.032747268676758, 20.009254455566406, 292.72723388671875, 55.13167190551758, 42.83355712890625, 68.36698913574219, 31.279067993164062, 33.88478469848633, 18.995059967041016, 120.82512664794922, 32.13660430908203, 39.541648864746094, 29.12188148498535, 35.06572341918945, 45.74369812011719, 36.325992584228516, 49.92995071411133, 17.42223358154297, 23.12924575805664, 34.37010955810547, 31.84544563293457, 19.547067642211914, 18.66046905517578, 58.3036003112793, 74.01490783691406, 67.28933715820312, 127.10971069335938, 40.3438720703125, 729.2520141601562, 63.144493103027344, 165.10806274414062, 416.9737854003906, 522.8468017578125, 563.7547607421875, 274.65997314453125, 252.07388305664062, 208.32485961914062, 286.02386474609375, 274.9123840332031, 106.0837173461914, 143.493408203125, 249.1217041015625, 294.68499755859375, 121.70819091796875, 98.63114166259766, 196.04891967773438, 399.9337463378906, 576.5776977539062, 128.30149841308594, 218.93690490722656, 133.78857421875, 248.122314453125, 169.47650146484375, 180.32821655273438, 233.17115783691406, 132.62506103515625, 187.32278442382812, 192.0240936279297, 187.07577514648438, 270.9567565917969, 172.99380493164062, 184.3375244140625, 185.30198669433594, 166.32467651367188, 153.94207763671875, 155.2799072265625, 110.75540161132812, 89.7074966430664, 51.885929107666016, 41.82609176635742, 86.08991241455078, 152.8437957763672, 202.99717712402344, 196.716064453125, 405.5579528808594, 220.623046875, 52.91823959350586, 153.8825225830078, 81.9690170288086, 33.81863784790039, 36.37247085571289, 303.7244567871094, 23.83545684814453, 209.4524688720703, 80.40763854980469, 197.1646728515625, 187.5180206298828, 28.337677001953125, 45.48023223876953, 20.884170532226562, 57.5406494140625, 39.37785339355469, 29.81334114074707, 253.7843780517578, 28.60395622253418, 314.0477294921875, 252.68060302734375, 1007.5634155273438, 208.11062622070312, 287.7102966308594, 96.98046112060547, 769.085693359375, 158.51219177246094, 205.7088165283203, 132.75694274902344, 84.47853088378906, 103.786376953125, 207.79762268066406, 103.51783752441406, 103.11688995361328, 260.25933837890625, 286.1919860839844, 380.934814453125, 150.91822814941406, 167.35646057128906, 214.37197875976562, 217.68740844726562, 174.0649871826172, 221.6313934326172, 193.49154663085938, 180.253662109375, 164.40625, 155.3474884033203, 56.219486236572266, 63.177635192871094, 159.67630004882812, 76.77214050292969, 54.388938903808594, 23.08205223083496, 24.81367301940918, 58.12297439575195, 74.48265838623047, 80.8604507446289, 69.39196014404297, 37.34089660644531, 43.38128662109375, 35.91877365112305, 64.33307647705078, 99.87869262695312, 46.46743392944336, 22.63800621032715, 53.758697509765625, 19.1395263671875, 36.40361404418945, 156.52462768554688, 27.450403213500977, 72.54851531982422, 45.60041809082031, 39.53117752075195, 31.674814224243164, 57.6396598815918, 37.4052848815918, 15.750323295593262, 57.737483978271484, 90.88513946533203, 125.28564453125, 80.72565460205078, 140.8948516845703, 103.19505310058594, 79.02426147460938, 173.2788543701172, 206.7631378173828, 192.0619659423828, 171.93310546875, 112.5196304321289, 96.6692123413086, 164.5487518310547, 110.25277709960938, 122.26050567626953, 114.80689239501953, 96.90532684326172, 150.3419952392578, 161.60409545898438, 134.3777618408203, 129.35328674316406, 119.79681396484375, 129.16348266601562, 130.08901977539062, 119.40152740478516, 123.95832824707031, 96.0433349609375, 120.7914047241211, 99.49349212646484, 86.37232971191406, 37.98020553588867, 57.170654296875, 105.69532775878906, 81.0031509399414, 37.62602615356445, 49.77733612060547, 79.3169937133789, 39.17626190185547, 30.956005096435547, 26.261640548706055, 393.76312255859375, 16.662479400634766, 198.77670288085938, 194.79307556152344, 78.22505950927734, 201.8871612548828, 27.604660034179688, 203.90396118164062, 23.95867156982422, 26.583728790283203, 199.15524291992188, 15.4921293258667, 16.176074981689453, 17.171449661254883, 16.505126953125, 133.87733459472656, 53.31171798706055, 16.99986457824707, 43.175968170166016, 44.17661666870117, 109.99236297607422, 73.40397644042969, 58.33676528930664, 32.896240234375, 97.4333724975586, 294.0765686035156, 234.8771514892578, 72.17465209960938, 121.8051528930664, 173.64768981933594, 67.40277862548828, 156.5736083984375, 99.27336120605469, 298.3170471191406, 136.0857696533203, 201.99412536621094, 220.3211212158203, 92.7411117553711, 135.55711364746094, 133.09823608398438, 136.16439819335938, 116.8042984008789, 174.91458129882812, 138.1710205078125, 104.54390716552734, 105.54823303222656, 99.38507843017578, 101.09304809570312, 53.530128479003906, 72.96319580078125, 80.15401458740234, 55.268306732177734, 44.43283462524414, 111.0430908203125, 24.45030403137207, 145.40786743164062, 24.52152442932129, 35.51686096191406, 50.22903823852539, 80.56898498535156, 300.18829345703125, 23.887184143066406, 44.686458587646484, 32.1092529296875, 40.06996154785156, 23.95553207397461, 31.218690872192383, 54.27372741699219, 25.369937896728516, 41.935848236083984, 20.496784210205078, 23.356571197509766, 21.882129669189453, 47.614566802978516, 24.160484313964844, 33.47953796386719, 46.59169006347656, 24.771669387817383, 119.35700988769531, 42.85145568847656, 64.97248077392578, 171.83738708496094, 38.69590377807617, 42.993595123291016, 155.0021514892578, 226.469970703125, 208.55538940429688, 123.10619354248047, 91.47445678710938, 45.8474235534668, 99.70401000976562, 92.51110076904297, 137.03701782226562, 171.6105499267578, 94.20278930664062, 71.07110595703125, 127.47864532470703, 89.68537902832031, 72.58309173583984, 68.79817962646484, 115.17530822753906, 74.34851837158203, 85.45499420166016, 74.87516784667969, 99.08900451660156, 70.95679473876953, 80.94615936279297, 74.37174224853516, 75.93585205078125, 80.97872924804688, 52.044315338134766, 46.591529846191406, 37.8019905090332, 58.5255241394043, 97.35021209716797, 75.20433044433594, 103.0111083984375, 35.63898468017578, 39.851356506347656, 47.715415954589844, 36.9233283996582, 71.9106216430664, 38.84299087524414, 19.092350006103516, 103.03997802734375, 26.658885955810547, 30.818111419677734, 59.05076217651367, 82.32554626464844, 72.74925231933594, 76.07351684570312, 31.51300048828125, 15.773421287536621, 42.670082092285156, 14.5672025680542, 39.114742279052734, 19.80843162536621, 59.46461868286133, 237.44288635253906, 160.8282928466797, 61.92741394042969, 89.97526550292969, 78.59825134277344, 102.56940460205078, 371.41375732421875, 339.61041259765625, 120.47200012207031, 90.59627532958984, 204.0353240966797, 131.9630126953125, 109.95329284667969, 103.86660766601562, 106.10384368896484, 107.62665557861328, 80.66425323486328, 83.40052032470703, 86.21903991699219, 79.82099914550781, 77.12599182128906, 79.51239776611328, 94.68824005126953, 81.57929992675781, 80.12274932861328, 77.98674011230469], \"Total\": [1618.0, 1512.0, 511.0, 426.0, 404.0, 1463.0, 1110.0, 442.0, 695.0, 324.0, 1014.0, 655.0, 456.0, 417.0, 468.0, 443.0, 439.0, 294.0, 281.0, 260.0, 257.0, 311.0, 300.0, 232.0, 180.0, 309.0, 545.0, 212.0, 298.0, 274.0, 80.4819564819336, 37.75050735473633, 31.789899826049805, 43.709598541259766, 21.852283477783203, 21.851070404052734, 20.858606338500977, 20.85860824584961, 20.84716033935547, 311.0263671875, 58.61626052856445, 45.667762756347656, 73.53492736816406, 33.747528076171875, 36.69899368286133, 20.830909729003906, 133.1009521484375, 36.73729705810547, 45.6597900390625, 33.72051239013672, 40.791385650634766, 53.559226989746094, 42.702720642089844, 59.558677673339844, 20.842403411865234, 27.799144744873047, 41.690818786621094, 38.758907318115234, 23.861160278320312, 22.823596954345703, 71.4333724975586, 91.3896484375, 84.35672760009766, 164.9883270263672, 49.712806701660156, 1110.958740234375, 80.57560729980469, 231.41201782226562, 655.2196655273438, 913.338623046875, 1014.1276245117188, 443.92425537109375, 408.4779357910156, 330.7343444824219, 492.64996337890625, 475.7243957519531, 153.9806671142578, 224.5677490234375, 456.98785400390625, 572.6890869140625, 185.72047424316406, 142.01507568359375, 347.6427001953125, 895.408203125, 1463.3013916015625, 202.60769653320312, 421.05499267578125, 225.6133270263672, 545.4389038085938, 334.0988464355469, 378.6734313964844, 585.0809326171875, 232.1555633544922, 461.98419189453125, 512.0066528320312, 495.93487548828125, 1512.974853515625, 468.8901062011719, 573.6395263671875, 690.7138671875, 459.7725524902344, 356.4989929199219, 554.6945190429688, 111.60475158691406, 90.67439270019531, 52.80622482299805, 42.83496856689453, 89.65855407714844, 159.40684509277344, 212.13272094726562, 206.15017700195312, 426.292236328125, 232.02774047851562, 55.7950553894043, 162.38723754882812, 86.66310119628906, 35.85667419433594, 38.844871520996094, 324.6479797363281, 25.878080368041992, 227.98553466796875, 90.63765716552734, 223.84776306152344, 214.150146484375, 32.838401794433594, 52.7419319152832, 24.931663513183594, 68.75243377685547, 47.899803161621094, 36.82217788696289, 313.4849548339844, 35.813804626464844, 417.35736083984375, 354.8253173828125, 1618.318603515625, 309.47503662109375, 468.8901062011719, 134.41323852539062, 1512.974853515625, 241.51593017578125, 339.2471008300781, 205.25466918945312, 115.39128875732422, 153.74122619628906, 413.2301025390625, 155.71621704101562, 155.69332885742188, 697.4639892578125, 845.9091796875, 1463.3013916015625, 307.8179016113281, 391.5562744140625, 655.2196655273438, 895.408203125, 549.8017578125, 1110.958740234375, 913.338623046875, 1014.1276245117188, 572.6890869140625, 585.0809326171875, 60.29315948486328, 68.29216003417969, 174.6519012451172, 84.38606262207031, 60.27024459838867, 26.075510025024414, 28.07755470275879, 74.11225128173828, 96.05305480957031, 106.1187973022461, 91.09906768798828, 49.163818359375, 58.15707778930664, 48.98971939086914, 87.76559448242188, 136.68077087402344, 67.00340270996094, 32.916866302490234, 80.59357452392578, 28.940324783325195, 55.092979431152344, 237.60848999023438, 42.07017517089844, 111.35049438476562, 70.87765502929688, 61.740257263183594, 49.790374755859375, 90.69503784179688, 58.878726959228516, 24.99842071533203, 92.04186248779297, 159.67401123046875, 235.0575714111328, 147.52098083496094, 290.8967590332031, 201.13778686523438, 145.9935302734375, 410.16705322265625, 533.8694458007812, 511.52764892578125, 440.4959716796875, 243.15093994140625, 203.2333221435547, 451.8900146484375, 249.24114990234375, 294.8402404785156, 307.13909912109375, 227.8721466064453, 523.8742065429688, 690.7138671875, 484.58349609375, 458.0954284667969, 456.1661071777344, 573.6395263671875, 591.6920166015625, 549.8017578125, 695.1692504882812, 278.9486083984375, 845.9091796875, 342.33880615234375, 91.78089904785156, 42.47578430175781, 64.07951354980469, 119.56043243408203, 92.88227081298828, 44.48567199707031, 60.288818359375, 97.62577056884766, 49.45954895019531, 39.40077209472656, 33.49298858642578, 511.0289001464844, 21.700754165649414, 260.9895324707031, 257.03936767578125, 105.48759460449219, 274.7259826660156, 37.59967041015625, 281.02685546875, 33.42726135253906, 39.40424728393555, 298.4710693359375, 23.663320541381836, 24.745956420898438, 26.810182571411133, 25.828876495361328, 216.4253692626953, 87.11869049072266, 27.831195831298828, 71.1646728515625, 73.119140625, 189.0751190185547, 125.16840362548828, 103.7179183959961, 55.31474304199219, 191.65818786621094, 695.1692504882812, 591.6920166015625, 146.2762451171875, 299.9591064453125, 495.93487548828125, 133.40780639648438, 486.1457824707031, 245.6224365234375, 1463.3013916015625, 423.0207214355469, 845.9091796875, 1014.1276245117188, 242.5318603515625, 533.8694458007812, 514.9512939453125, 545.4389038085938, 407.2311096191406, 1618.318603515625, 895.408203125, 484.58349609375, 554.6945190429688, 523.8742065429688, 1512.974853515625, 54.37421798706055, 81.66082000732422, 90.62333679199219, 64.22383117675781, 53.65538024902344, 136.42190551757812, 30.205913543701172, 180.84506225585938, 31.254308700561523, 45.77836227416992, 65.4516830444336, 106.73511505126953, 404.78094482421875, 33.32688522338867, 63.492305755615234, 46.02776336669922, 57.712860107421875, 35.137596130371094, 45.90107727050781, 80.36213684082031, 38.257511138916016, 63.69112014770508, 31.382883071899414, 36.30179977416992, 34.3609619140625, 75.25213623046875, 38.28866958618164, 54.03709411621094, 75.53448486328125, 40.178958892822266, 195.71600341796875, 69.65531921386719, 107.78202819824219, 300.3619384765625, 62.79731369018555, 70.51236724853516, 294.8402404785156, 456.1661071777344, 439.1840515136719, 244.0462646484375, 171.99029541015625, 76.18446350097656, 214.77220153808594, 224.53555297851562, 443.92425537109375, 695.1692504882812, 259.05023193359375, 165.37139892578125, 484.58349609375, 262.13848876953125, 177.4934539794922, 160.34579467773438, 512.0066528320312, 227.8721466064453, 340.2695617675781, 254.04347229003906, 845.9091796875, 210.80502319335938, 459.7725524902344, 280.9030456542969, 697.4639892578125, 89.31603240966797, 58.00893783569336, 53.998104095458984, 47.27805709838867, 75.67455291748047, 126.80460357666016, 103.30416870117188, 147.74066162109375, 52.216453552246094, 58.94195556640625, 70.8553237915039, 55.10041809082031, 109.37383270263672, 60.222129821777344, 29.604490280151367, 159.84075927734375, 41.40346145629883, 51.3223876953125, 98.56778717041016, 138.42625427246094, 123.132080078125, 129.05325317382812, 54.27708053588867, 27.61727523803711, 76.0548324584961, 26.55709457397461, 71.83892059326172, 36.395240783691406, 109.43814086914062, 442.3325500488281, 322.05401611328125, 125.24050903320312, 192.14906311035156, 170.71441650390625, 261.1361083984375, 1618.318603515625, 1512.974853515625, 438.219970703125, 303.907470703125, 1463.3013916015625, 697.4639892578125, 514.9512939453125, 458.0954284667969, 545.4389038085938, 690.7138671875, 339.2471008300781, 391.5562744140625, 451.8900146484375, 338.974853515625, 309.47503662109375, 413.2301025390625, 1110.958740234375, 523.8742065429688, 554.6945190429688, 392.23052978515625], \"Category\": [\"Default\", \"Default\", \"Default\", \"Default\", \"Default\", \"Default\", \"Default\", \"Default\", \"Default\", \"Default\", \"Default\", \"Default\", \"Default\", \"Default\", \"Default\", \"Default\", \"Default\", \"Default\", \"Default\", \"Default\", \"Default\", \"Default\", \"Default\", \"Default\", \"Default\", \"Default\", \"Default\", \"Default\", \"Default\", \"Default\", \"Topic1\", \"Topic1\", \"Topic1\", \"Topic1\", \"Topic1\", \"Topic1\", \"Topic1\", \"Topic1\", \"Topic1\", \"Topic1\", \"Topic1\", \"Topic1\", \"Topic1\", \"Topic1\", \"Topic1\", \"Topic1\", \"Topic1\", \"Topic1\", \"Topic1\", \"Topic1\", \"Topic1\", \"Topic1\", \"Topic1\", \"Topic1\", \"Topic1\", \"Topic1\", \"Topic1\", \"Topic1\", \"Topic1\", \"Topic1\", \"Topic1\", \"Topic1\", \"Topic1\", \"Topic1\", \"Topic1\", \"Topic1\", \"Topic1\", \"Topic1\", \"Topic1\", \"Topic1\", \"Topic1\", \"Topic1\", \"Topic1\", \"Topic1\", \"Topic1\", \"Topic1\", \"Topic1\", \"Topic1\", \"Topic1\", \"Topic1\", \"Topic1\", \"Topic1\", \"Topic1\", \"Topic1\", \"Topic1\", \"Topic1\", \"Topic1\", \"Topic1\", \"Topic1\", \"Topic1\", \"Topic1\", \"Topic1\", \"Topic1\", \"Topic1\", \"Topic1\", \"Topic1\", \"Topic1\", \"Topic1\", \"Topic1\", \"Topic1\", \"Topic1\", \"Topic1\", \"Topic1\", \"Topic2\", \"Topic2\", \"Topic2\", \"Topic2\", \"Topic2\", \"Topic2\", \"Topic2\", \"Topic2\", \"Topic2\", \"Topic2\", \"Topic2\", \"Topic2\", \"Topic2\", \"Topic2\", \"Topic2\", \"Topic2\", \"Topic2\", \"Topic2\", \"Topic2\", \"Topic2\", \"Topic2\", \"Topic2\", \"Topic2\", \"Topic2\", \"Topic2\", \"Topic2\", \"Topic2\", \"Topic2\", \"Topic2\", \"Topic2\", \"Topic2\", \"Topic2\", \"Topic2\", \"Topic2\", \"Topic2\", \"Topic2\", \"Topic2\", \"Topic2\", \"Topic2\", \"Topic2\", \"Topic2\", \"Topic2\", \"Topic2\", \"Topic2\", \"Topic2\", \"Topic2\", \"Topic2\", \"Topic2\", \"Topic2\", \"Topic2\", \"Topic2\", \"Topic2\", \"Topic2\", \"Topic2\", \"Topic2\", \"Topic2\", \"Topic2\", \"Topic3\", \"Topic3\", \"Topic3\", \"Topic3\", \"Topic3\", \"Topic3\", \"Topic3\", \"Topic3\", \"Topic3\", \"Topic3\", \"Topic3\", \"Topic3\", \"Topic3\", \"Topic3\", \"Topic3\", \"Topic3\", \"Topic3\", \"Topic3\", \"Topic3\", \"Topic3\", \"Topic3\", \"Topic3\", \"Topic3\", \"Topic3\", \"Topic3\", \"Topic3\", \"Topic3\", \"Topic3\", \"Topic3\", \"Topic3\", \"Topic3\", \"Topic3\", \"Topic3\", \"Topic3\", \"Topic3\", \"Topic3\", \"Topic3\", \"Topic3\", \"Topic3\", \"Topic3\", \"Topic3\", \"Topic3\", \"Topic3\", \"Topic3\", \"Topic3\", \"Topic3\", \"Topic3\", \"Topic3\", \"Topic3\", \"Topic3\", \"Topic3\", \"Topic3\", \"Topic3\", \"Topic3\", \"Topic3\", \"Topic3\", \"Topic3\", \"Topic3\", \"Topic3\", \"Topic3\", \"Topic4\", \"Topic4\", \"Topic4\", \"Topic4\", \"Topic4\", \"Topic4\", \"Topic4\", \"Topic4\", \"Topic4\", \"Topic4\", \"Topic4\", \"Topic4\", \"Topic4\", \"Topic4\", \"Topic4\", \"Topic4\", \"Topic4\", \"Topic4\", \"Topic4\", \"Topic4\", \"Topic4\", \"Topic4\", \"Topic4\", \"Topic4\", \"Topic4\", \"Topic4\", \"Topic4\", \"Topic4\", \"Topic4\", \"Topic4\", \"Topic4\", \"Topic4\", \"Topic4\", \"Topic4\", \"Topic4\", \"Topic4\", \"Topic4\", \"Topic4\", \"Topic4\", \"Topic4\", \"Topic4\", \"Topic4\", \"Topic4\", \"Topic4\", \"Topic4\", \"Topic4\", \"Topic4\", \"Topic4\", \"Topic4\", \"Topic4\", \"Topic4\", \"Topic4\", \"Topic4\", \"Topic4\", \"Topic4\", \"Topic4\", \"Topic4\", \"Topic4\", \"Topic4\", \"Topic5\", \"Topic5\", \"Topic5\", \"Topic5\", \"Topic5\", \"Topic5\", \"Topic5\", \"Topic5\", \"Topic5\", \"Topic5\", \"Topic5\", \"Topic5\", \"Topic5\", \"Topic5\", \"Topic5\", \"Topic5\", \"Topic5\", \"Topic5\", \"Topic5\", \"Topic5\", \"Topic5\", \"Topic5\", \"Topic5\", \"Topic5\", \"Topic5\", \"Topic5\", \"Topic5\", \"Topic5\", \"Topic5\", \"Topic5\", \"Topic5\", \"Topic5\", \"Topic5\", \"Topic5\", \"Topic5\", \"Topic5\", \"Topic5\", \"Topic5\", \"Topic5\", \"Topic5\", \"Topic5\", \"Topic5\", \"Topic5\", \"Topic5\", \"Topic5\", \"Topic5\", \"Topic5\", \"Topic5\", \"Topic5\", \"Topic5\", \"Topic5\", \"Topic5\", \"Topic5\", \"Topic5\", \"Topic5\", \"Topic5\", \"Topic5\", \"Topic5\", \"Topic5\", \"Topic5\", \"Topic5\", \"Topic6\", \"Topic6\", \"Topic6\", \"Topic6\", \"Topic6\", \"Topic6\", \"Topic6\", \"Topic6\", \"Topic6\", \"Topic6\", \"Topic6\", \"Topic6\", \"Topic6\", \"Topic6\", \"Topic6\", \"Topic6\", \"Topic6\", \"Topic6\", \"Topic6\", \"Topic6\", \"Topic6\", \"Topic6\", \"Topic6\", \"Topic6\", \"Topic6\", \"Topic6\", \"Topic6\", \"Topic6\", \"Topic6\", \"Topic6\", \"Topic6\", \"Topic6\", \"Topic6\", \"Topic6\", \"Topic6\", \"Topic6\", \"Topic6\", \"Topic6\", \"Topic6\", \"Topic6\", \"Topic6\", \"Topic6\", \"Topic6\", \"Topic6\", \"Topic6\", \"Topic6\", \"Topic6\", \"Topic6\", \"Topic6\", \"Topic6\", \"Topic6\", \"Topic6\", \"Topic6\", \"Topic6\", \"Topic6\"], \"logprob\": [30.0, 29.0, 28.0, 27.0, 26.0, 25.0, 24.0, 23.0, 22.0, 21.0, 20.0, 19.0, 18.0, 17.0, 16.0, 15.0, 14.0, 13.0, 12.0, 11.0, 10.0, 9.0, 8.0, 7.0, 6.0, 5.0, 4.0, 3.0, 2.0, 1.0, -6.0756001472473145, -6.844399929046631, -7.018199920654297, -6.704899787902832, -7.405300140380859, -7.4054999351501465, -7.453700065612793, -7.453700065612793, -7.454800128936768, -4.7718000411987305, -6.441299915313721, -6.693699836730957, -6.226200103759766, -7.0081000328063965, -6.928100109100342, -7.506899833679199, -5.656700134277344, -6.980999946594238, -6.77370023727417, -7.079599857330322, -6.893799781799316, -6.627999782562256, -6.858500003814697, -6.54040002822876, -7.593299865722656, -7.309899806976318, -6.913899898529053, -6.990099906921387, -7.4781999588012695, -7.524600028991699, -6.38539981842041, -6.1468000411987305, -6.242000102996826, -5.605999946594238, -6.753600120544434, -3.8589999675750732, -6.305600166320801, -5.344399929046631, -4.418000221252441, -4.191800117492676, -4.116399765014648, -4.8354997634887695, -4.921299934387207, -5.1118998527526855, -4.795000076293945, -4.83459997177124, -5.786799907684326, -5.484799861907959, -4.93310022354126, -4.765100002288818, -5.649400234222412, -5.8597002029418945, -5.172699928283691, -4.459700107574463, -4.093900203704834, -5.596700191497803, -5.062300205230713, -5.554800033569336, -4.937099933624268, -5.318299770355225, -5.25629997253418, -4.999300003051758, -5.563499927520752, -5.218200206756592, -5.193399906158447, -5.2195000648498535, -4.849100112915039, -5.297800064086914, -5.234300136566162, -5.229100227355957, -5.337100028991699, -5.4145002365112305, -5.405799865722656, -5.530399799346924, -5.741099834442139, -6.288599967956543, -6.504199981689453, -5.782299995422363, -5.2083001136779785, -4.924499988555908, -4.955900192260742, -4.232399940490723, -4.84119987487793, -6.268899917602539, -5.201499938964844, -5.831299781799316, -6.716700077056885, -6.643899917602539, -4.521599769592285, -7.066500186920166, -4.893199920654297, -5.850599765777588, -4.95359992980957, -5.003799915313721, -6.893499851226807, -6.420400142669678, -7.198699951171875, -6.185200214385986, -6.564499855041504, -6.842700004577637, -4.701200008392334, -6.884099960327148, -4.488100051879883, -4.705599784851074, -3.3224000930786133, -4.899600028991699, -4.575699806213379, -5.6631999015808105, -3.5924999713897705, -5.171899795532227, -4.911200046539307, -5.3491997718811035, -5.801199913024902, -5.595399856567383, -4.901100158691406, -5.597899913787842, -5.601799964904785, -4.676000118255615, -4.580999851226807, -4.295100212097168, -5.220900058746338, -5.117599964141846, -4.869999885559082, -4.854599952697754, -5.0782999992370605, -4.836699962615967, -4.972499847412109, -5.043300151824951, -5.135300159454346, -5.191999912261963, -5.929100036621094, -5.812399864196777, -4.885200023651123, -5.617499828338623, -5.962200164794922, -6.819300174713135, -6.7469000816345215, -5.8958001136779785, -5.64769983291626, -5.5655999183654785, -5.718500137329102, -6.338200092315674, -6.188300132751465, -6.377099990844727, -5.7941999435424805, -5.354400157928467, -6.11959981918335, -6.838699817657471, -5.973800182342529, -7.0065999031066895, -6.36359977722168, -4.905099868774414, -6.645899772644043, -5.674099922180176, -6.138400077819824, -6.281199932098389, -6.502799987792969, -5.904099941253662, -6.33650016784668, -7.201499938964844, -5.902400016784668, -5.448699951171875, -5.127699851989746, -5.567299842834473, -5.010300159454346, -5.321700096130371, -5.588600158691406, -4.803400039672852, -4.626699924468994, -4.700500011444092, -4.811200141906738, -5.235199928283691, -5.38700008392334, -4.855100154876709, -5.255499839782715, -5.152200222015381, -5.215099811553955, -5.3846001625061035, -4.945400238037109, -4.873199939727783, -5.057700157165527, -5.095799922943115, -5.172500133514404, -5.0971999168396, -5.090099811553955, -5.17579984664917, -5.138400077819824, -5.393499851226807, -5.1641998291015625, -5.3582000732421875, -5.448500156402588, -6.270100116729736, -5.861100196838379, -5.246600151062012, -5.512700080871582, -6.2795000076293945, -5.999599933624268, -5.533699989318848, -6.239099979400635, -6.474599838256836, -6.639100074768066, -3.9314000606536865, -7.093999862670898, -4.614999771118164, -4.635200023651123, -5.547599792480469, -4.5995001792907715, -6.589200019836426, -4.5894999504089355, -6.730800151824951, -6.6269001960754395, -4.613100051879883, -7.166800022125244, -7.123600006103516, -7.063899993896484, -7.103499889373779, -5.010300159454346, -5.931000232696533, -7.073999881744385, -6.141900062561035, -6.11899995803833, -5.2067999839782715, -5.611199855804443, -5.84089994430542, -6.41379976272583, -5.328000068664551, -4.223299980163574, -4.4481000900268555, -5.6280999183654785, -5.104800224304199, -4.750199794769287, -5.696499824523926, -4.853700160980225, -5.309299945831299, -4.209000110626221, -4.993899822235107, -4.598899841308594, -4.5121002197265625, -5.377399921417236, -4.997799873352051, -5.01609992980957, -4.993299961090088, -5.146699905395508, -4.7428998947143555, -4.978700160980225, -5.257599830627441, -5.248000144958496, -5.308199882507324, -5.291100025177002, -5.717800140380859, -5.408100128173828, -5.3140997886657715, -5.6859002113342285, -5.904099941253662, -4.9882001876831055, -6.501399993896484, -4.718500137329102, -6.498499870300293, -6.1280999183654785, -5.781499862670898, -5.309000015258789, -3.9937000274658203, -6.524700164794922, -5.898399829864502, -6.228899955749512, -6.007400035858154, -6.521900177001953, -6.2571001052856445, -5.703999996185303, -6.4644999504089355, -5.961900234222412, -6.677800178527832, -6.5472002029418945, -6.612400054931641, -5.83489990234375, -6.513400077819824, -6.187099933624268, -5.8566999435424805, -6.488399982452393, -4.915999889373779, -5.940299987792969, -5.524099826812744, -4.551499843597412, -6.042300224304199, -5.936999797821045, -4.654600143432617, -4.2754998207092285, -4.357900142669678, -4.885000228881836, -5.182000160217285, -5.872799873352051, -5.095900058746338, -5.1707000732421875, -4.7778000831604, -4.552800178527832, -5.152599811553955, -5.4344000816345215, -4.850100040435791, -5.2017998695373535, -5.413300037384033, -5.466899871826172, -4.951600074768066, -5.3892998695373535, -5.250100135803223, -5.382299900054932, -5.102099895477295, -5.435999870300293, -5.304299831390381, -5.388999938964844, -5.368199825286865, -5.185999870300293, -5.6280999183654785, -5.738800048828125, -5.94789981842041, -5.510799884796143, -5.0019001960754395, -5.260000228881836, -4.945400238037109, -6.006800174713135, -5.895100116729736, -5.715000152587891, -5.971399784088135, -5.304800033569336, -5.9207000732421875, -6.630899906158447, -4.945099830627441, -6.297100067138672, -6.152100086212158, -5.501800060272217, -5.16949987411499, -5.2932000160217285, -5.248499870300293, -6.129799842834473, -6.821899890899658, -5.826700210571289, -6.901500225067139, -5.913700103759766, -6.594099998474121, -5.494800090789795, -4.110300064086914, -4.499899864196777, -5.4542999267578125, -5.080699920654297, -5.21589994430542, -4.949699878692627, -3.662899971008301, -3.7523999214172363, -4.78879976272583, -5.073800086975098, -4.261899948120117, -4.697700023651123, -4.880199909210205, -4.937099933624268, -4.915800094604492, -4.901599884033203, -5.189899921417236, -5.156599998474121, -5.123300075531006, -5.200399875640869, -5.234799861907959, -5.2042999267578125, -5.029600143432617, -5.178699970245361, -5.196700096130371, -5.223700046539307], \"loglift\": [30.0, 29.0, 28.0, 27.0, 26.0, 25.0, 24.0, 23.0, 22.0, 21.0, 20.0, 19.0, 18.0, 17.0, 16.0, 15.0, 14.0, 13.0, 12.0, 11.0, 10.0, 9.0, 8.0, 7.0, 6.0, 5.0, 4.0, 3.0, 2.0, 1.0, 1.3456000089645386, 1.333799958229065, 1.3317999839782715, 1.32669997215271, 1.319599986076355, 1.3193999528884888, 1.3177000284194946, 1.3177000284194946, 1.3171000480651855, 1.2975000143051147, 1.2968000173568726, 1.294100046157837, 1.2853000164031982, 1.2821999788284302, 1.2783000469207764, 1.2659000158309937, 1.2613999843597412, 1.2243000268936157, 1.2143000364303589, 1.2115000486373901, 1.2069000005722046, 1.2003999948501587, 1.1964000463485718, 1.1818000078201294, 1.1789000034332275, 1.1742000579833984, 1.1649999618530273, 1.1617000102996826, 1.1586999893188477, 1.1567000150680542, 1.1549999713897705, 1.1473000049591064, 1.132099986076355, 1.0973000526428223, 1.1492999792099, 0.9372000098228455, 1.114400029182434, 1.0204999446868896, 0.9061999917030334, 0.8003000020980835, 0.7710000276565552, 0.878000020980835, 0.8754000067710876, 0.8959000110626221, 0.8144000172615051, 0.8097000122070312, 0.9854999780654907, 0.9101999998092651, 0.7513999938964844, 0.6937000155448914, 0.9355000257492065, 0.9936000108718872, 0.7853000164031982, 0.5521000027656555, 0.426800012588501, 0.901199996471405, 0.7041000127792358, 0.8356000185012817, 0.5705000162124634, 0.6794000267982483, 0.6161999702453613, 0.43810001015663147, 0.7982000112533569, 0.4553999900817871, 0.3774000108242035, 0.3831999897956848, -0.36169999837875366, 0.3610000014305115, 0.22290000319480896, 0.042399998754262924, 0.34130001068115234, 0.5184000134468079, 0.08489999920129776, 1.5637999773025513, 1.5607999563217163, 1.5539000034332275, 1.5476000308990479, 1.530900001525879, 1.5293999910354614, 1.527500033378601, 1.5246000289916992, 1.5216000080108643, 1.5211000442504883, 1.5184999704360962, 1.517699956893921, 1.5157999992370605, 1.5130000114440918, 1.5056999921798706, 1.5048999786376953, 1.489300012588501, 1.4867000579833984, 1.45169997215271, 1.444599986076355, 1.4386999607086182, 1.4241000413894653, 1.4234000444412231, 1.3942999839782715, 1.3934999704360962, 1.375599980354309, 1.3602999448776245, 1.360200047492981, 1.3466999530792236, 1.2870999574661255, 1.2319999933242798, 1.097599983215332, 1.1747000217437744, 1.0830999612808228, 1.2451000213623047, 0.8949000239372253, 1.1504000425338745, 1.0712000131607056, 1.1358000040054321, 1.2596999406814575, 1.1785000562667847, 0.8840000033378601, 1.1632000207901, 1.159500002861023, 0.5856999754905701, 0.4876999855041504, 0.2257000058889389, 0.8586999773979187, 0.7214999794960022, 0.45419999957084656, 0.15729999542236328, 0.4214000105857849, -0.04050000011920929, 0.019600000232458115, -0.1559000015258789, 0.32350000739097595, 0.24539999663829803, 1.780900001525879, 1.7730000019073486, 1.761199951171875, 1.7562999725341797, 1.7482000589370728, 1.7288999557495117, 1.7273000478744507, 1.607800006866455, 1.596500039100647, 1.5789999961853027, 1.5786999464035034, 1.5757999420166016, 1.5577000379562378, 1.5405000448226929, 1.5403000116348267, 1.5371999740600586, 1.4848999977111816, 1.4765000343322754, 1.4458999633789062, 1.437399983406067, 1.4364999532699585, 1.43340003490448, 1.4239000082015991, 1.4223999977111816, 1.4098000526428223, 1.4049999713897705, 1.3985999822616577, 1.3976000547409058, 1.3971999883651733, 1.3889000415802002, 1.3845000267028809, 1.2872999906539917, 1.22160005569458, 1.2479000091552734, 1.1259000301361084, 1.183500051498413, 1.2369999885559082, 0.9891999959945679, 0.9023000001907349, 0.8712999820709229, 0.910099983215332, 1.080299973487854, 1.107800006866455, 0.8406000137329102, 1.0351999998092651, 0.9706000089645386, 0.8668000102043152, 0.9958000183105469, 0.6025000214576721, 0.3982999920845032, 0.5681999921798706, 0.5863000154495239, 0.5138000249862671, 0.35989999771118164, 0.3361000120639801, 0.3237999975681305, 0.1265999972820282, 0.784600019454956, -0.09549999982118607, 0.6151000261306763, 1.8413000106811523, 1.7900999784469604, 1.7878999710083008, 1.7786999940872192, 1.7651000022888184, 1.7345000505447388, 1.7103999853134155, 1.6943000555038452, 1.6689000129699707, 1.6607999801635742, 1.6588000059127808, 1.6412999629974365, 1.6377999782562256, 1.629699945449829, 1.6246999502182007, 1.6030000448226929, 1.5938999652862549, 1.593000054359436, 1.5812000036239624, 1.5688999891281128, 1.5083999633789062, 1.4974000453948975, 1.4783999919891357, 1.4768999814987183, 1.4565000534057617, 1.454200029373169, 1.4217000007629395, 1.4108999967575073, 1.409000039100647, 1.4023000001907349, 1.3981000185012817, 1.3602999448776245, 1.368299961090088, 1.3265000581741333, 1.3823000192642212, 1.2253999710083008, 1.041700005531311, 0.9781000018119812, 1.1956000328063965, 1.0008000135421753, 0.8525999784469604, 1.2193000316619873, 0.7689999938011169, 0.9961000084877014, 0.3116999864578247, 0.7678999900817871, 0.4697999954223633, 0.37529999017715454, 0.9406999945640564, 0.5311999917030334, 0.5490000247955322, 0.5142999887466431, 0.6531000137329102, -0.3228999972343445, 0.03319999948143959, 0.3682999908924103, 0.24269999563694, 0.23970000445842743, -0.8037999868392944, 2.095400094985962, 1.9984999895095825, 1.9882999658584595, 1.9608999490737915, 1.9225000143051147, 1.9053000211715698, 1.8997000455856323, 1.8930000066757202, 1.868499994277954, 1.857300043106079, 1.8464000225067139, 1.8299000263214111, 1.8121999502182007, 1.7781000137329102, 1.7597999572753906, 1.7510000467300415, 1.7461999654769897, 1.7280000448226929, 1.725600004196167, 1.7186000347137451, 1.7002999782562256, 1.6931999921798706, 1.6850999593734741, 1.6700999736785889, 1.6598000526428223, 1.65339994430542, 1.6506999731063843, 1.6324000358581543, 1.6279000043869019, 1.627500057220459, 1.6165000200271606, 1.6253000497817993, 1.6049000024795532, 1.5527000427246094, 1.6268999576568604, 1.6164000034332275, 1.4680999517440796, 1.4108999967575073, 1.3664000034332275, 1.426800012588501, 1.479699969291687, 1.6032999753952026, 1.3437000513076782, 1.2244000434875488, 0.935699999332428, 0.7121999859809875, 1.0994999408721924, 1.2666000127792358, 0.7757999897003174, 1.0384999513626099, 1.2168999910354614, 1.2648999691009521, 0.6191999912261963, 0.991100013256073, 0.7293000221252441, 0.8894000053405762, -0.0333000011742115, 1.0221999883651733, 0.374099999666214, 0.7821999788284302, -0.10649999976158142, 2.1308999061584473, 2.1203999519348145, 2.081399917602539, 2.0053000450134277, 1.972000002861023, 1.9645999670028687, 1.9114999771118164, 1.868299961090088, 1.847000002861023, 1.837499976158142, 1.8336000442504883, 1.8286000490188599, 1.8095999956130981, 1.7904000282287598, 1.7903000116348267, 1.7898999452590942, 1.788699984550476, 1.7188999652862549, 1.716599941253662, 1.7093000411987305, 1.7027000188827515, 1.7003999948501587, 1.6851999759674072, 1.6687999963760376, 1.6510000228881836, 1.6283999681472778, 1.621000051498413, 1.6205999851226807, 1.61899995803833, 1.6067999601364136, 1.534600019454956, 1.5247000455856323, 1.4701999425888062, 1.4532999992370605, 1.2943999767303467, 0.757099986076355, 0.7348999977111816, 0.9376000165939331, 1.0185999870300293, 0.2587999999523163, 0.5640000104904175, 0.6848999857902527, 0.7450000047683716, 0.5917999744415283, 0.3698999881744385, 0.7925000190734863, 0.6825000047683716, 0.5723999738693237, 0.782800018787384, 0.8395000100135803, 0.5809000134468079, -0.23340000212192535, 0.3693000078201294, 0.29409998655319214, 0.6136000156402588]}, \"token.table\": {\"Topic\": [1, 2, 3, 4, 5, 6, 1, 2, 3, 1, 2, 3, 4, 6, 1, 4, 1, 3, 4, 5, 1, 2, 3, 4, 5, 6, 2, 4, 5, 6, 4, 5, 6, 1, 4, 5, 1, 2, 3, 5, 6, 3, 5, 6, 3, 5, 1, 2, 3, 5, 6, 1, 3, 4, 5, 3, 4, 5, 2, 4, 6, 1, 2, 3, 4, 5, 6, 1, 2, 1, 2, 4, 6, 4, 5, 1, 2, 3, 4, 5, 6, 1, 3, 4, 5, 3, 5, 1, 2, 3, 5, 1, 2, 4, 6, 1, 2, 3, 4, 5, 6, 1, 3, 4, 5, 6, 1, 2, 3, 4, 5, 1, 2, 3, 4, 5, 6, 1, 3, 5, 6, 1, 2, 3, 5, 6, 1, 2, 3, 3, 4, 5, 1, 3, 4, 5, 6, 1, 3, 4, 5, 6, 3, 4, 5, 6, 1, 3, 4, 6, 2, 3, 5, 6, 1, 2, 3, 4, 5, 6, 1, 4, 5, 1, 3, 5, 1, 2, 3, 4, 6, 1, 2, 3, 4, 5, 6, 1, 2, 3, 4, 5, 1, 2, 3, 4, 6, 1, 2, 4, 6, 1, 4, 1, 2, 6, 1, 2, 6, 1, 2, 3, 4, 5, 6, 1, 2, 3, 4, 5, 6, 3, 5, 3, 5, 1, 2, 3, 4, 5, 6, 1, 2, 1, 2, 3, 4, 5, 6, 1, 1, 2, 4, 5, 6, 1, 2, 3, 4, 5, 6, 1, 2, 3, 4, 6, 2, 3, 4, 5, 6, 1, 2, 3, 6, 1, 2, 3, 4, 5, 6, 1, 3, 4, 5, 6, 1, 2, 3, 4, 5, 6, 1, 2, 4, 6, 1, 2, 3, 4, 5, 1, 2, 3, 5, 1, 2, 3, 4, 6, 1, 2, 4, 6, 1, 4, 6, 1, 2, 3, 4, 6, 2, 3, 4, 6, 3, 4, 5, 1, 2, 4, 1, 4, 5, 1, 2, 3, 4, 5, 6, 1, 2, 3, 4, 5, 6, 3, 4, 2, 3, 2, 3, 4, 5, 2, 3, 1, 2, 3, 4, 5, 6, 2, 4, 6, 2, 4, 6, 1, 3, 5, 1, 2, 3, 4, 5, 6, 2, 1, 3, 4, 5, 6, 4, 5, 6, 4, 5, 6, 1, 2, 4, 5, 6, 2, 3, 4, 6, 1, 1, 2, 3, 5, 1, 2, 3, 4, 6, 2, 1, 2, 3, 4, 5, 6, 1, 2, 3, 4, 5, 6, 1, 3, 4, 5, 2, 3, 4, 5, 2, 4, 5, 6, 1, 2, 3, 4, 5, 6, 1, 2, 4, 6, 2, 3, 6, 3, 4, 5, 1, 3, 4, 1, 3, 5, 1, 2, 4, 5, 6, 2, 4, 6, 2, 4, 6, 1, 2, 3, 4, 5, 6, 2, 3, 4, 5, 1, 2, 4, 5, 6, 1, 2, 3, 4, 5, 6, 3, 4, 5, 1, 2, 3, 4, 5, 6, 3, 4, 5, 6, 1, 2, 3, 4, 5, 6, 1, 2, 3, 5, 6, 2, 3, 4, 6, 2, 3, 4, 5, 1, 2, 4, 1, 2, 3, 4, 5, 6, 1, 2, 3, 4, 5, 6, 1, 2, 6, 1, 2, 3, 4, 5, 6, 1, 5, 1, 2, 3, 4, 5, 6, 1, 2, 3, 4, 5, 6, 1, 2, 3, 4, 5, 6, 1, 2, 3, 4, 5, 6, 1, 2, 3, 4, 5, 6, 5, 1, 2, 3, 4, 5, 6, 1, 2, 3, 4, 5, 6, 1, 2, 4, 1, 2, 3, 4, 5, 6, 1, 2, 3, 4, 5, 6, 1, 2, 4, 6, 1, 2, 4, 6, 1, 2, 3, 4, 6, 1, 2, 3, 4, 1, 2, 3, 4, 1, 2, 3, 4, 5, 6, 1, 2, 5, 6, 1, 2, 4, 5, 6, 3, 4, 5, 6, 1, 2, 3, 4, 5, 6, 2, 4, 6, 1, 2, 4, 6, 1, 2, 4, 5, 6, 1, 2, 3, 4, 1, 3, 4, 5, 1, 2, 3, 4, 5, 6, 1, 2, 3, 4, 5, 6, 2, 3, 4, 5, 6, 1, 2, 3, 4, 5, 6, 2, 3, 4, 5, 6, 1, 2, 3, 4, 5, 6, 1, 3, 4, 5, 2, 4, 5, 6, 2, 3, 4, 6, 1, 2, 3, 4, 5, 6, 1, 2, 3, 5, 6, 1, 2, 3, 4, 5, 6, 1, 2, 3, 4, 5, 6, 1, 2, 3, 4, 5, 6, 3, 4, 5, 3, 4, 5, 6, 1, 2, 3, 4, 5, 6, 1, 2, 3, 4, 5, 6, 2, 4, 1, 2, 3, 4, 5, 6, 1, 2, 4, 1, 2, 3, 4, 5, 6, 1, 3, 4, 5, 1, 2, 4, 5, 6, 1, 2, 3, 4, 5, 6, 1, 2, 3, 5, 6, 1, 2, 3, 4, 5, 6, 1, 2, 4, 5, 1, 2, 3, 4, 5, 6, 1, 3, 4, 6, 1, 2, 3, 4, 5, 6, 1, 2, 4, 6, 1, 2, 3, 4, 5, 6, 1, 2, 6, 1, 6, 1, 2, 3, 4, 5, 6, 1, 3, 4, 5, 6, 3, 4, 1, 2, 4, 6, 1, 2, 4, 6, 1, 2, 3, 6, 1, 2, 3, 4, 5, 2, 4, 6, 1, 2, 3, 4, 5, 6, 1, 2, 3, 4, 6, 2, 3, 4, 1, 2, 3, 4, 5, 6, 1, 2, 3, 4, 5, 1, 2, 3, 4, 5, 6, 1, 2, 4, 5, 6, 2, 4, 6, 1, 2, 3, 4, 5, 6, 1, 2, 3, 4, 5, 3, 5, 3, 4, 5, 1, 2, 3, 4, 5, 1, 2, 4, 6, 1, 2, 4, 1, 2, 6, 2, 6, 3, 5, 6, 1, 2, 3, 4, 6, 1, 2, 3, 4, 5, 6, 1, 2, 3, 4, 5, 1, 3, 4, 5, 1, 4, 5, 1, 3, 4, 5, 1, 3, 4, 5, 1, 3, 4, 5, 1, 4, 1, 2, 4, 6, 1, 2, 3, 4, 1, 2, 3, 4, 5, 6, 3, 4, 5, 6, 1, 2, 3, 4, 5, 6, 1, 2, 4, 1, 2, 4, 5, 6, 1, 2, 3, 4, 5, 6, 1, 3, 5, 1, 2, 4, 5, 6, 3, 4, 5, 6, 2, 4, 5, 1, 2, 3, 4, 6, 1, 4, 1, 4, 5, 1, 1, 2, 3, 4, 3, 6, 1, 2, 4, 6, 1, 4, 6, 1, 2, 3, 4, 5, 1, 2, 4, 3, 5, 1, 2, 5, 1, 2, 3, 4, 5, 6, 1, 2, 3, 4, 5, 6, 1, 3, 4, 1, 2, 4, 5, 6, 1, 3, 4, 5, 6, 1, 2, 3, 4, 5, 6, 1, 2, 4, 5, 6, 1, 3, 4, 5, 1, 2, 5, 6, 4, 6, 1, 2, 3, 4, 5, 6, 1, 1, 2, 3, 4, 5, 6, 1, 2, 3, 4, 5, 1, 4, 5, 1, 2, 6, 1, 2, 3, 4, 5, 6, 1, 2, 3, 4, 5, 6, 1, 2, 3, 4, 5, 6, 1, 2, 4, 1, 2, 3, 4, 5, 6, 1, 3, 1, 2, 3, 4, 5, 6, 1, 2, 3, 4, 6, 1, 2, 6, 2, 3, 4, 5, 6, 1, 2, 4, 6, 2, 3, 5, 1, 2, 3, 4, 5, 6, 1, 2, 4, 6, 1, 2, 3, 4, 5, 6, 1, 2, 3, 4, 5, 6, 1, 2, 5, 1, 2, 3, 4, 5, 6, 1, 5, 1, 2, 1, 2, 3, 4, 5, 6, 2, 3, 5, 2, 3, 1, 2, 3, 4, 5, 6, 2, 3, 5, 6, 1, 2, 4, 6, 2, 3, 4, 1, 2, 3, 4, 5, 6, 1, 2, 3, 4, 5, 6, 1, 2, 3, 4, 6, 3, 4, 5, 6, 1, 2, 3, 4, 5, 6, 1, 2, 3, 4, 5, 6, 1, 2, 3, 5, 6, 1, 2, 3, 4, 5, 6, 2, 3, 4, 6, 1, 2, 3, 4, 5, 6, 1, 2, 4, 6, 1, 2, 3, 4, 5, 6, 2, 1, 2, 3, 4, 5, 6], \"Freq\": [0.1768190562725067, 0.20738036930561066, 0.2816007137298584, 0.06767149269580841, 0.03711017221212387, 0.22702693939208984, 0.01792273484170437, 0.9499049782752991, 0.01792273484170437, 0.0869169756770134, 0.1303754597902298, 0.6301480531692505, 0.05432310700416565, 0.09778159111738205, 0.8760443329811096, 0.1095055416226387, 0.06621219962835312, 0.03310609981417656, 0.09931830316781998, 0.7945464253425598, 0.01624337024986744, 0.490549772977829, 0.03248674049973488, 0.1656823754310608, 0.07796817272901535, 0.21766115725040436, 0.647975504398346, 0.12179990857839584, 0.019487986341118813, 0.2143678367137909, 0.685205340385437, 0.025377975776791573, 0.3045356869697571, 0.8588622808456421, 0.09335459768772125, 0.03734183683991432, 0.0841720774769783, 0.23568181693553925, 0.6607508063316345, 0.012625811621546745, 0.00841720774769783, 0.9287952184677124, 0.01658562943339348, 0.03317125886678696, 0.890390932559967, 0.10684691369533539, 0.06917321681976318, 0.05187991261482239, 0.014822832308709621, 0.7411416172981262, 0.12105312943458557, 0.08663580566644669, 0.1039629653096199, 0.1039629653096199, 0.6930864453315735, 0.9225070476531982, 0.014642969705164433, 0.05857187882065773, 0.6678816080093384, 0.0834852010011673, 0.2504556179046631, 0.11821600049734116, 0.3380977511405945, 0.14304135739803314, 0.23879632353782654, 0.11703383922576904, 0.044922079890966415, 0.051486849784851074, 0.9267632365226746, 0.1863231062889099, 0.658341646194458, 0.06210770457983017, 0.09523181617259979, 0.12456434965133667, 0.8563799262046814, 0.6367788910865784, 0.24046196043491364, 0.02671799436211586, 0.05788898840546608, 0.01335899718105793, 0.02226499654352665, 0.04583533853292465, 0.12222756445407867, 0.06111378222703934, 0.7639222741127014, 0.8820536732673645, 0.07670032232999802, 0.28523769974708557, 0.047539617866277695, 0.6417848467826843, 0.023769808933138847, 0.024908650666475296, 0.22773624956607819, 0.7259092926979065, 0.01779189333319664, 0.23698781430721283, 0.2058052122592926, 0.018709564581513405, 0.09354782104492188, 0.43031999468803406, 0.01247304305434227, 0.8119454383850098, 0.013999058865010738, 0.0979934111237526, 0.013999058865010738, 0.04199717566370964, 0.00947978813201189, 0.04739893972873688, 0.03791915252804756, 0.7394234538078308, 0.15167661011219025, 0.060705073177814484, 0.8778887391090393, 0.02801772579550743, 0.009339242242276669, 0.009339242242276669, 0.018678484484553337, 0.09923365712165833, 0.6395057439804077, 0.16538941860198975, 0.09923365712165833, 0.10862766206264496, 0.03620922192931175, 0.18104609847068787, 0.0724184438586235, 0.579347550868988, 0.8381822109222412, 0.041909109801054, 0.083818219602108, 0.6555875539779663, 0.008980651386082172, 0.3322841227054596, 0.013968287967145443, 0.3026462495326996, 0.17693164944648743, 0.465609610080719, 0.03724876791238785, 0.17174166440963745, 0.03122575767338276, 0.2914403975009918, 0.03643004968762398, 0.46838635206222534, 0.16906799376010895, 0.16906799376010895, 0.024152569472789764, 0.6521193981170654, 0.07369592785835266, 0.14739185571670532, 0.16581584513187408, 0.5895674228668213, 0.9847323894500732, 0.7704075574874878, 0.031232738867402077, 0.18739643692970276, 0.5726244449615479, 0.2113126516342163, 0.013138609938323498, 0.06131351366639137, 0.05802886188030243, 0.08321119844913483, 0.21129748225212097, 0.6338924169540405, 0.1267784833908081, 0.03131379932165146, 0.5699111819267273, 0.39455386996269226, 0.1954101324081421, 0.003831571200862527, 0.007663142401725054, 0.7624827027320862, 0.026820998638868332, 0.03765472024679184, 0.11296416819095612, 0.07530944049358368, 0.07530944049358368, 0.15061888098716736, 0.5648208260536194, 0.12702509760856628, 0.03278066962957382, 0.21717193722724915, 0.11882992833852768, 0.5040028095245361, 0.556143045425415, 0.17749245464801788, 0.0029582076240330935, 0.21693521738052368, 0.045359183102846146, 0.4546796977519989, 0.10083622485399246, 0.2493404895067215, 0.19433890283107758, 0.11842948943376541, 0.8720716834068298, 0.03694871813058853, 0.9483503699302673, 0.012316239066421986, 0.03136628121137619, 0.9598082304000854, 0.006273256149142981, 0.5058383345603943, 0.16462193429470062, 0.16462193429470062, 0.05387626960873604, 0.020951883867383003, 0.08979378640651703, 0.08783100545406342, 0.1676773726940155, 0.11976955831050873, 0.007984637282788754, 0.12775419652462006, 0.4950474798679352, 0.19353583455085754, 0.8017913103103638, 0.23422469198703766, 0.7588880062103271, 0.24739018082618713, 0.0742170512676239, 0.11544875055551529, 0.3834547698497772, 0.07009388506412506, 0.11132557690143585, 0.8256166577339172, 0.15480312705039978, 0.013920030556619167, 0.18096040189266205, 0.041760094463825226, 0.08352018892765045, 0.12528027594089508, 0.542881190776825, 0.9751524925231934, 0.10990448296070099, 0.13738059997558594, 0.10990448296070099, 0.10990448296070099, 0.5495223999023438, 0.5805338621139526, 0.2882370948791504, 0.010149193927645683, 0.03247741982340813, 0.004059677477926016, 0.08525323122739792, 0.39431384205818176, 0.260370135307312, 0.002050158567726612, 0.20364908874034882, 0.13941079378128052, 0.07231345027685165, 0.1446269005537033, 0.5965859889984131, 0.16270527243614197, 0.018078362569212914, 0.7818743586540222, 0.06205352023243904, 0.11169633269309998, 0.037232112139463425, 0.18918482959270477, 0.09740208834409714, 0.3877352476119995, 0.25474393367767334, 0.04308169335126877, 0.029969874769449234, 0.09876172989606857, 0.649005651473999, 0.07054409384727478, 0.07054409384727478, 0.12697936594486237, 0.3049496114253998, 0.10164986550807953, 0.05909876152873039, 0.32149726152420044, 0.1512928307056427, 0.06382665783166885, 0.3014674782752991, 0.08991135656833649, 0.5817793607711792, 0.026444515213370323, 0.043908242136240005, 0.043908242136240005, 0.7574172019958496, 0.05488530546426773, 0.08781648427248001, 0.05516470968723297, 0.8826353549957275, 0.03309882432222366, 0.02206588350236416, 0.003080259542912245, 0.9363988637924194, 0.003080259542912245, 0.02772233448922634, 0.02772233448922634, 0.004386243410408497, 0.9167248010635376, 0.04386243224143982, 0.035089947283267975, 0.9588367342948914, 0.07837338745594025, 0.9068920612335205, 0.0761505663394928, 0.1523011326789856, 0.03514641523361206, 0.2753135859966278, 0.46276116371154785, 0.1543058454990387, 0.008121360093355179, 0.24364081025123596, 0.5928593277931213, 0.6565234065055847, 0.20732317864894867, 0.10366158932447433, 0.03461680933833122, 0.9461928009986877, 0.011538935825228691, 0.10995301604270935, 0.0733020082116127, 0.8136523365974426, 0.3207589387893677, 0.2004743367433548, 0.2248799055814743, 0.12551435828208923, 0.055784162133932114, 0.07321671396493912, 0.5728917121887207, 0.11199387162923813, 0.055996935814619064, 0.13783860206604004, 0.017229825258255005, 0.09907150268554688, 0.35930901765823364, 0.6108253598213196, 0.8423023819923401, 0.12032891064882278, 0.07835216075181961, 0.23505648970603943, 0.052234772592782974, 0.6268172860145569, 0.9482195377349854, 0.027888810262084007, 0.6317627429962158, 0.019742585718631744, 0.20236150920391083, 0.004935646429657936, 0.12832681834697723, 0.009871292859315872, 0.9569481015205383, 0.0047140298411250114, 0.032998207956552505, 0.9556140303611755, 0.009701665490865707, 0.03395582735538483, 0.0873083844780922, 0.2619251608848572, 0.6402614712715149, 0.47534361481666565, 0.15844787657260895, 0.0660199448466301, 0.15052548050880432, 0.08186473697423935, 0.0660199448466301, 0.9805073142051697, 0.016591934487223625, 0.895964503288269, 0.03318386897444725, 0.016591934487223625, 0.03318386897444725, 0.8895198702812195, 0.09363366663455963, 0.015605611726641655, 0.9370141625404358, 0.010895512998104095, 0.032686538994312286, 0.040972787886857986, 0.040972787886857986, 0.8092125654220581, 0.10243196785449982, 0.010243196971714497, 0.3287101984024048, 0.05259363353252411, 0.03944522514939308, 0.5653815865516663, 0.9588368535041809, 0.05227731540799141, 0.05227731540799141, 0.2352479249238968, 0.6534664630889893, 0.23063205182552338, 0.7216551303863525, 0.022319229319691658, 0.007439743261784315, 0.01487948652356863, 0.9945812821388245, 0.24073071777820587, 0.05215832218527794, 0.4413396418094635, 0.1685114949941635, 0.024073071777820587, 0.07221921533346176, 0.020412445068359375, 0.020412445068359375, 0.7348480820655823, 0.020412445068359375, 0.04082489013671875, 0.163299560546875, 0.18914292752742767, 0.7393769025802612, 0.03438962250947952, 0.01719481125473976, 0.16862298548221588, 0.08431149274110794, 0.6042323708534241, 0.1264672428369522, 0.03937810659408569, 0.21001657843589783, 0.6037976741790771, 0.13126036524772644, 0.14904332160949707, 0.15214839577674866, 0.10557235032320023, 0.06520645320415497, 0.03105069138109684, 0.499916136264801, 0.18275266885757446, 0.10829787701368332, 0.013537234626710415, 0.6971675753593445, 0.042302921414375305, 0.12690876424312592, 0.803755521774292, 0.11182475835084915, 0.055912379175424576, 0.8200482130050659, 0.0372992604970932, 0.2983940839767456, 0.6340874433517456, 0.11018737405538559, 0.22037474811077118, 0.6335774064064026, 0.030278339982032776, 0.6228687167167664, 0.10813692957162857, 0.009886804968118668, 0.22925028204917908, 0.6721059083938599, 0.07431939989328384, 0.24880844354629517, 0.6764613389968872, 0.06504436582326889, 0.2536730170249939, 0.17809008061885834, 0.1986389458179474, 0.5411198735237122, 0.013699237257242203, 0.027398474514484406, 0.04109771177172661, 0.0651780515909195, 0.17380814254283905, 0.04345203563570976, 0.6952325701713562, 0.924730658531189, 0.05439591780304909, 0.7867866158485413, 0.1015208512544632, 0.1015208512544632, 0.1701710820198059, 0.04254277050495148, 0.5317845940589905, 0.03828849270939827, 0.15740825235843658, 0.0553056001663208, 0.2230515331029892, 0.09559351205825806, 0.6372900605201721, 0.014924615621566772, 0.08954769372940063, 0.6865323185920715, 0.08954769372940063, 0.05969846248626709, 0.07462307810783386, 0.41378340125083923, 0.010175001807510853, 0.5257084369659424, 0.04748334363102913, 0.3610480725765228, 0.10439945012331009, 0.1805240362882614, 0.14354923367500305, 0.17617405951023102, 0.032624825835227966, 0.36895638704299927, 0.6142163872718811, 0.012796175666153431, 0.0021326958667486906, 0.004265391733497381, 0.16891811788082123, 0.10635585337877274, 0.08133094757795334, 0.6443913578987122, 0.09252902865409851, 0.25908127427101135, 0.018505806103348732, 0.6106916069984436, 0.07062847912311554, 0.023542825132608414, 0.8946273922920227, 0.1659695953130722, 0.16154372692108154, 0.3651331067085266, 0.0995817556977272, 0.01991635002195835, 0.19031178951263428, 0.17943239212036133, 0.16225269436836243, 0.2863282859325409, 0.18897666037082672, 0.02672397345304489, 0.156526118516922, 0.8097197413444519, 0.14224806427955627, 0.04376863315701485, 0.24683953821659088, 0.21598459780216217, 0.1172487810254097, 0.3229483962059021, 0.03702593222260475, 0.05965288728475571, 0.9264559149742126, 0.054497405886650085, 0.21231403946876526, 0.21617428958415985, 0.05018331855535507, 0.08878587186336517, 0.3628639876842499, 0.06948459148406982, 0.021672189235687256, 0.11558500677347183, 0.23839408159255981, 0.014448125846683979, 0.021672189235687256, 0.5923731923103333, 0.4467236399650574, 0.2434643805027008, 0.07147578150033951, 0.15411965548992157, 0.05360683426260948, 0.03238746151328087, 0.24264763295650482, 0.028788702562451363, 0.464731901884079, 0.11515481024980545, 0.057577405124902725, 0.09459145367145538, 0.19455364346504211, 0.02670344151556492, 0.15640588104724884, 0.20218320190906525, 0.3433299660682678, 0.0801103264093399, 0.9931177496910095, 0.19153742492198944, 0.22591593861579895, 0.19399303197860718, 0.28730612993240356, 0.04911215975880623, 0.04911215975880623, 0.6169244050979614, 0.24970749020576477, 0.034273575991392136, 0.06120281666517258, 0.01224056351929903, 0.02448112703859806, 0.7697514295578003, 0.18789207935333252, 0.042427245527505875, 0.18745684623718262, 0.10884590446949005, 0.1511748731136322, 0.01814098469913006, 0.42933663725852966, 0.10884590446949005, 0.3749951422214508, 0.13671697676181793, 0.08593638241291046, 0.11327977478504181, 0.224606454372406, 0.062499187886714935, 0.6289035677909851, 0.22979167103767395, 0.09977796673774719, 0.03930647298693657, 0.7942460775375366, 0.07112651318311691, 0.035563256591558456, 0.0829809308052063, 0.7130139470100403, 0.1512453854084015, 0.004321296699345112, 0.1166750118136406, 0.012963890098035336, 0.121311254799366, 0.020218541845679283, 0.060655627399683, 0.7885231375694275, 0.08991659432649612, 0.02247914858162403, 0.04495829716324806, 0.8542076349258423, 0.27277639508247375, 0.08549707382917404, 0.008142578415572643, 0.40305763483047485, 0.20356446504592896, 0.024427736178040504, 0.058075182139873505, 0.8800624012947083, 0.04914053902029991, 0.008934644050896168, 0.6569011807441711, 0.21537743508815765, 0.09153541177511215, 0.005384435877203941, 0.03769105300307274, 0.9124729633331299, 0.03555089607834816, 0.011850298382341862, 0.03555089607834816, 0.1791173219680786, 0.5082702040672302, 0.0033047476317733526, 0.06675589829683304, 0.0178456362336874, 0.22472283244132996, 0.6615568995475769, 0.07065171003341675, 0.26333820819854736, 0.09432652592658997, 0.6072270274162292, 0.06190178170800209, 0.23876401782035828, 0.12964124977588654, 0.7130268812179565, 0.0479108989238739, 0.008454864844679832, 0.10427666455507278, 0.10181457549333572, 0.8436064720153809, 0.043634820729494095, 0.014544939622282982, 0.22399784624576569, 0.09955459833145142, 0.04977729916572571, 0.6222162246704102, 0.3620738685131073, 0.10754669457674026, 0.3441494107246399, 0.09679201990365982, 0.04660356789827347, 0.039433788508176804, 0.12095292657613754, 0.1681540608406067, 0.23600570857524872, 0.15045364201068878, 0.08850213885307312, 0.23600570857524872, 0.0401684045791626, 0.6426944732666016, 0.0401684045791626, 0.20084203779697418, 0.0803368091583252, 0.1569855958223343, 0.04069996997714043, 0.16861416399478912, 0.06977137923240662, 0.5290996432304382, 0.02907140739262104, 0.05397218465805054, 0.7825966477394104, 0.013493046164512634, 0.0404791384935379, 0.09445132315158844, 0.10656701773405075, 0.09281643480062485, 0.4847080409526825, 0.13063053786754608, 0.07562820613384247, 0.11000466346740723, 0.14130698144435883, 0.15700775384902954, 0.04710232838988304, 0.659432590007782, 0.06553314626216888, 0.04368876293301582, 0.7863977551460266, 0.10922190546989441, 0.16272352635860443, 0.007748739328235388, 0.24021092057228088, 0.5889042019844055, 0.12902528047561646, 0.11925064027309418, 0.37534627318382263, 0.09383656829595566, 0.13293513655662537, 0.15052950382232666, 0.5637972354888916, 0.14382582902908325, 0.04027123376727104, 0.08629550039768219, 0.16683796048164368, 0.2897709906101227, 0.04558195173740387, 0.37442317605018616, 0.06511707603931427, 0.13023415207862854, 0.09441976249217987, 0.22560054063796997, 0.013672759756445885, 0.0820365622639656, 0.49221935868263245, 0.09570932388305664, 0.08887293934822083, 0.2509424090385437, 0.15373049676418304, 0.027128910645842552, 0.027128910645842552, 0.002260742476209998, 0.5357959866523743, 0.026577318087220192, 0.3322164714336395, 0.6378556489944458, 0.6700286269187927, 0.012407937087118626, 0.2977904975414276, 0.012407937087118626, 0.4261327385902405, 0.04114384949207306, 0.158697709441185, 0.11755385994911194, 0.24980194866657257, 0.0058776927180588245, 0.4319787919521332, 0.3534371852874756, 0.0392707996070385, 0.10098205506801605, 0.05610113963484764, 0.016830341890454292, 0.8526602387428284, 0.12180861085653305, 0.5201221108436584, 0.03799978643655777, 0.19712390005588531, 0.0926244780421257, 0.0712495967745781, 0.08074954897165298, 0.8430376052856445, 0.07025313377380371, 0.07025313377380371, 0.11334878206253052, 0.35671529173851013, 0.01000136323273182, 0.4067220985889435, 0.07334332913160324, 0.04333924129605293, 0.12287592142820358, 0.4256772994995117, 0.12287592142820358, 0.32474350929260254, 0.1043524444103241, 0.2243577539920807, 0.506109356880188, 0.10957006365060806, 0.046958599239587784, 0.10858568549156189, 0.4310522675514221, 0.019742852076888084, 0.11516663432121277, 0.029614277184009552, 0.29943323135375977, 0.030379561707377434, 0.030379561707377434, 0.698729932308197, 0.12151824682950974, 0.12151824682950974, 0.18402822315692902, 0.061342738568782806, 0.2891871929168701, 0.2599763572216034, 0.10223789513111115, 0.1051589846611023, 0.06299976259469986, 0.1102495789527893, 0.1102495789527893, 0.7087472677230835, 0.10205782949924469, 0.10205782949924469, 0.08350186049938202, 0.05566790699958801, 0.603069007396698, 0.05566790699958801, 0.033778659999370575, 0.20267195999622345, 0.10133597999811172, 0.6417945027351379, 0.26698920130729675, 0.157455176115036, 0.1643010526895523, 0.1140979528427124, 0.025101548060774803, 0.27383509278297424, 0.8710494041442871, 0.054440587759017944, 0.027220293879508972, 0.027220293879508972, 0.593936562538147, 0.057620707899332047, 0.022161811590194702, 0.11524141579866409, 0.10194433480501175, 0.11524141579866409, 0.8155272603034973, 0.09594438225030899, 0.07195828855037689, 0.9185857772827148, 0.059263598173856735, 0.26783883571624756, 0.17373329401016235, 0.2345399558544159, 0.06659776717424393, 0.10279220342636108, 0.1563599705696106, 0.00798923708498478, 0.0798923671245575, 0.583214282989502, 0.11184931546449661, 0.20772016048431396, 0.34844720363616943, 0.6581780910491943, 0.5448722243309021, 0.16849462687969208, 0.12254154682159424, 0.16411814093589783, 0.18020068109035492, 0.06468742340803146, 0.6191510558128357, 0.13399538397789001, 0.2156425416469574, 0.7523528337478638, 0.023960281163454056, 0.0047920565120875835, 0.6194750666618347, 0.04730536788702011, 0.0022526364773511887, 0.022526364773511887, 0.3086112141609192, 0.04608134925365448, 0.7833828926086426, 0.18432539701461792, 0.234528586268425, 0.0033504085149616003, 0.01675204187631607, 0.6667312979698181, 0.04020490124821663, 0.036854494363069534, 0.20230364799499512, 0.003890454536303878, 0.007780909072607756, 0.7586386799812317, 0.02723318338394165, 0.16272129118442535, 0.7525859475135803, 0.06102048233151436, 0.15245743095874786, 0.5033515095710754, 0.0024199592880904675, 0.10889816284179688, 0.04355926439166069, 0.1935967355966568, 0.07538720965385437, 0.009423401206731796, 0.7632954716682434, 0.06596380472183228, 0.08481060713529587, 0.9815864562988281, 0.03964344412088394, 0.05285792797803879, 0.06607241183519363, 0.05285792797803879, 0.7796544432640076, 0.08245394378900528, 0.24736183881759644, 0.5022194981575012, 0.08245394378900528, 0.08245394378900528, 0.9524723291397095, 0.008619658648967743, 0.03878846392035484, 0.11888843774795532, 0.016984062269330025, 0.6284103393554688, 0.08492031693458557, 0.11888843774795532, 0.03396812453866005, 0.21346740424633026, 0.009487439878284931, 0.10436183959245682, 0.33206039667129517, 0.3368041217327118, 0.2700522541999817, 0.7201393246650696, 0.15997794270515442, 0.031995587050914764, 0.7998896837234497, 0.13521625101566315, 0.2140924036502838, 0.1521182805299759, 0.09014417231082916, 0.4112827777862549, 0.6883981227874756, 0.22080694139003754, 0.05195457488298416, 0.03896592929959297, 0.10863018780946732, 0.8147264122962952, 0.05431509390473366, 0.02230685018002987, 0.9591946005821228, 0.011153425090014935, 0.9274258017539978, 0.03864274173974991, 0.729215145111084, 0.22787973284721375, 0.022787973284721375, 0.07655870169401169, 0.8102462291717529, 0.006379891652613878, 0.07655870169401169, 0.02870951220393181, 0.24772939085960388, 0.42650318145751953, 0.0051078228279948235, 0.08938689529895782, 0.015323467552661896, 0.211974635720253, 0.14520905911922455, 0.14520905911922455, 0.6534407734870911, 0.01815113238990307, 0.03630226477980614, 0.20098967850208282, 0.1579204648733139, 0.028712810948491096, 0.6173254251480103, 0.05691909044981003, 0.2561359107494354, 0.683029055595398, 0.04598499834537506, 0.32189497351646423, 0.020437777042388916, 0.6080238819122314, 0.014632636681199074, 0.7316318154335022, 0.029265273362398148, 0.21948954463005066, 0.056727636605501175, 0.09927336871623993, 0.2269105464220047, 0.6098220944404602, 0.9608873724937439, 0.022878270596265793, 0.3347949683666229, 0.02029060386121273, 0.04058120772242546, 0.598572850227356, 0.29844340682029724, 0.06887155771255493, 0.01147859264165163, 0.6083654165267944, 0.31620827317237854, 0.1291554868221283, 0.07125820219516754, 0.06680456548929214, 0.41418829560279846, 0.008907275274395943, 0.6478754878044128, 0.09718132764101028, 0.21055953204631805, 0.04859066382050514, 0.217156782746315, 0.1637575626373291, 0.19223715364933014, 0.12103820592164993, 0.26343607902526855, 0.042719364166259766, 0.9090843796730042, 0.022539282217621803, 0.06010475382208824, 0.961051344871521, 0.05971398949623108, 0.7762818932533264, 0.11942797899246216, 0.02985699474811554, 0.06915982067584991, 0.10919971764087677, 0.021839944645762444, 0.7352781295776367, 0.054599858820438385, 0.014559962786734104, 0.27792656421661377, 0.5490744113922119, 0.16946741938591003, 0.04820767790079117, 0.2313968539237976, 0.5592090487480164, 0.07713228464126587, 0.0867738202214241, 0.23642975091934204, 0.012443671002984047, 0.6719582676887512, 0.062218356877565384, 0.029915701597929, 0.7179768681526184, 0.239325612783432, 0.24685977399349213, 0.05485772714018822, 0.018285909667611122, 0.02742886357009411, 0.6582927107810974, 0.16586823761463165, 0.8293411731719971, 0.13071589171886444, 0.1742878556251526, 0.6753653883934021, 0.9801192879676819, 0.8046216368675232, 0.02011554129421711, 0.1005777046084404, 0.06034662202000618, 0.08619361370801926, 0.8964135646820068, 0.004691617097705603, 0.9523983001708984, 0.0234580859541893, 0.01876646839082241, 0.1814868301153183, 0.14518946409225464, 0.6715012788772583, 0.02647797204554081, 0.1721068173646927, 0.11915087699890137, 0.05295594409108162, 0.6222323775291443, 0.8156449198722839, 0.09595822542905807, 0.04797911271452904, 0.9161079525947571, 0.08015944808721542, 0.8600106835365295, 0.05931108072400093, 0.05931108072400093, 0.18925708532333374, 0.37277910113334656, 0.02150648646056652, 0.11756879091262817, 0.10896620154380798, 0.18925708532333374, 0.578065812587738, 0.10930698364973068, 0.010510287247598171, 0.15345019102096558, 0.01471440214663744, 0.1345316767692566, 0.18617184460163116, 0.07978793233633041, 0.7446873784065247, 0.07744120806455612, 0.0968015119433403, 0.0968015119433403, 0.009680151008069515, 0.726011335849762, 0.07097534090280533, 0.07097534090280533, 0.007886148989200592, 0.07097534090280533, 0.7649564743041992, 0.141132652759552, 0.014113265089690685, 0.02822653017938137, 0.09879285842180252, 0.02822653017938137, 0.6774367690086365, 0.1878563016653061, 0.01565469242632389, 0.7709935903549194, 0.01174101885408163, 0.013697855174541473, 0.09987949579954147, 0.16979515552520752, 0.1598072052001953, 0.57264244556427, 0.16965843737125397, 0.03393168747425079, 0.11876090615987778, 0.6786337494850159, 0.12963418662548065, 0.8704009056091309, 0.09137582033872604, 0.14620131254196167, 0.027412746101617813, 0.1827516406774521, 0.009137582033872604, 0.5391173362731934, 0.9593632817268372, 0.4047757685184479, 0.15801405906677246, 0.0692664384841919, 0.1926472783088684, 0.017316609621047974, 0.16017864644527435, 0.9420422911643982, 0.03536677733063698, 0.009645484387874603, 0.003215161385014653, 0.009645484387874603, 0.9415832161903381, 0.02189728431403637, 0.02189728431403637, 0.8273636102676392, 0.10791698843240738, 0.03597233071923256, 0.24008654057979584, 0.3164777159690857, 0.21644164621829987, 0.049108609557151794, 0.058202795684337616, 0.11640559136867523, 0.1534125655889511, 0.24079947173595428, 0.09321270138025284, 0.2582768499851227, 0.03883862495422363, 0.21361243724822998, 0.5151137113571167, 0.28636831045150757, 0.06286133080720901, 0.019207630306482315, 0.11349963396787643, 0.0017461482202634215, 0.8395082354545593, 0.01679016463458538, 0.13432131707668304, 0.11809086799621582, 0.0836476981639862, 0.47728392481803894, 0.07380679249763489, 0.014761358499526978, 0.23126128315925598, 0.8580242991447449, 0.12257490307092667, 0.1748029589653015, 0.0703752189874649, 0.390468955039978, 0.1566416174173355, 0.09080673009157181, 0.11577858775854111, 0.08302595466375351, 0.09963114559650421, 0.14944672584533691, 0.016605190932750702, 0.6476024985313416, 0.05688073858618736, 0.8532110452651978, 0.05688073858618736, 0.03896934911608696, 0.23381608724594116, 0.05845402181148529, 0.05845402181148529, 0.6040248870849609, 0.10941047966480255, 0.12308678776025772, 0.6017576456069946, 0.15043941140174866, 0.8097436428070068, 0.1116887778043747, 0.08376657962799072, 0.37706562876701355, 0.20567215979099274, 0.032262299209833145, 0.35085251927375793, 0.014114756137132645, 0.020163938403129578, 0.9609979391098022, 0.09200368076562881, 0.8865809440612793, 0.01672794297337532, 0.6971091032028198, 0.08449807018041611, 0.08449807018041611, 0.007041506003588438, 0.014083012007176876, 0.11266409605741501, 0.3982354998588562, 0.2649206221103668, 0.1281873881816864, 0.08033076673746109, 0.05982078239321709, 0.06665744632482529, 0.8324717879295349, 0.13144290447235107, 0.04381430149078369, 0.1395343691110611, 0.0014384986134245992, 0.17837382853031158, 0.4229185879230499, 0.2474217563867569, 0.010069490410387516, 0.9121060967445374, 0.04800558462738991, 0.9383062124252319, 0.051180336624383926, 0.10741700977087021, 0.08768735826015472, 0.263062059879303, 0.008768735453486443, 0.4954335689544678, 0.03507494181394577, 0.01103468518704176, 0.09931216388940811, 0.882774829864502, 0.8141995668411255, 0.16701529920101166, 0.25240257382392883, 0.31104156374931335, 0.06628754734992981, 0.09433227777481079, 0.07648563385009766, 0.19886264204978943, 0.15924248099327087, 0.17516672611236572, 0.6210456490516663, 0.04777274280786514, 0.6561899781227112, 0.1998274028301239, 0.058508023619651794, 0.08551172912120819, 0.12000758200883865, 0.6400404572486877, 0.20001263916492462, 0.014915148727595806, 0.20881208777427673, 0.5120867490768433, 0.02485858090221882, 0.18395349383354187, 0.05468887835741043, 0.30252423882484436, 0.2374240756034851, 0.022976523265242577, 0.04212362691760063, 0.007658841088414192, 0.39443033933639526, 0.0766042098402977, 0.19151051342487335, 0.019151052460074425, 0.019151052460074425, 0.6894378662109375, 0.012245774269104004, 0.03673732280731201, 0.8939415216445923, 0.06122887507081032, 0.27943307161331177, 0.24698278307914734, 0.11537881940603256, 0.19109617173671722, 0.023436322808265686, 0.14422352612018585, 0.08659934997558594, 0.1692623645067215, 0.24798905849456787, 0.09840835630893707, 0.29522505402565, 0.10628101974725723, 0.28461870551109314, 0.16621732711791992, 0.013661698438227177, 0.47588250041007996, 0.05920069292187691, 0.1926044523715973, 0.04632258787751198, 0.4217793643474579, 0.18041428923606873, 0.05363668128848076, 0.10483533143997192, 0.040410641580820084, 0.2020532190799713, 0.6465702652931213, 0.12123192846775055, 0.08957362920045853, 0.1859075278043747, 0.2197088897228241, 0.39716607332229614, 0.04056164249777794, 0.06591267138719559, 0.6364277601242065, 0.3266080319881439, 0.012209645472466946, 0.022893086075782776, 0.11349952965974808, 0.053654324263334274, 0.2765261232852936, 0.21668092906475067, 0.26208072900772095, 0.07635422796010971, 0.992562472820282, 0.008666165173053741, 0.7279579043388367, 0.12999248504638672, 0.017332330346107483, 0.1039939820766449, 0.008666165173053741], \"Term\": [\"-PRON-\", \"-PRON-\", \"-PRON-\", \"-PRON-\", \"-PRON-\", \"-PRON-\", \"aboard\", \"aboard\", \"aboard\", \"act\", \"act\", \"act\", \"act\", \"act\", \"acute\", \"acute\", \"address\", \"address\", \"address\", \"address\", \"aedt\", \"aedt\", \"aedt\", \"aedt\", \"aedt\", \"aedt\", \"aedt_february\", \"aedt_february\", \"aedt_february\", \"aedt_february\", \"aedt_march\", \"aedt_march\", \"aedt_march\", \"aged\", \"aged\", \"aged\", \"air\", \"air\", \"air\", \"air\", \"air\", \"air_quality\", \"air_quality\", \"air_quality\", \"ait\", \"ait\", \"area\", \"area\", \"area\", \"area\", \"area\", \"associate\", \"associate\", \"associate\", \"associate\", \"athe\", \"athe\", \"athe\", \"australia_february\", \"australia_february\", \"australia_february\", \"australian\", \"australian\", \"australian\", \"australian\", \"australian\", \"australian\", \"australian_citizen\", \"australian_citizen\", \"australians\", \"australians\", \"australians\", \"australians\", \"author\", \"author\", \"authority\", \"authority\", \"authority\", \"authority\", \"authority\", \"authority\", \"average\", \"average\", \"average\", \"average\", \"awe\", \"awe\", \"baby\", \"baby\", \"baby\", \"baby\", \"ban\", \"ban\", \"ban\", \"ban\", \"base\", \"base\", \"base\", \"base\", \"base\", \"base\", \"beijing\", \"beijing\", \"beijing\", \"beijing\", \"beijing\", \"billion\", \"billion\", \"billion\", \"billion\", \"billion\", \"board\", \"board\", \"board\", \"board\", \"board\", \"board\", \"body\", \"body\", \"body\", \"body\", \"box\", \"box\", \"box\", \"box\", \"box\", \"breath\", \"breath\", \"breath\", \"burn\", \"burn\", \"burn\", \"bushfire\", \"bushfire\", \"bushfire\", \"bushfire\", \"bushfire\", \"business\", \"business\", \"business\", \"business\", \"business\", \"busy\", \"busy\", \"busy\", \"busy\", \"buy\", \"buy\", \"buy\", \"buy\", \"cabin\", \"car\", \"car\", \"car\", \"case\", \"case\", \"case\", \"case\", \"case\", \"case\", \"cause_severe\", \"cause_severe\", \"cause_severe\", \"cell\", \"cell\", \"cell\", \"cent\", \"cent\", \"cent\", \"cent\", \"cent\", \"chain\", \"chain\", \"chain\", \"chain\", \"chain\", \"chain\", \"change\", \"change\", \"change\", \"change\", \"change\", \"china\", \"china\", \"china\", \"china\", \"china\", \"chinese\", \"chinese\", \"chinese\", \"chinese\", \"chinese_student\", \"chinese_student\", \"christmas\", \"christmas\", \"christmas\", \"christmas_island\", \"christmas_island\", \"christmas_island\", \"city\", \"city\", \"city\", \"city\", \"city\", \"city\", \"claim\", \"claim\", \"claim\", \"claim\", \"claim\", \"claim\", \"climate\", \"climate\", \"climate_change\", \"climate_change\", \"close\", \"close\", \"close\", \"close\", \"close\", \"close\", \"close_contact\", \"close_contact\", \"comment\", \"comment\", \"comment\", \"comment\", \"comment\", \"comment\", \"common_cold\", \"completely\", \"completely\", \"completely\", \"completely\", \"completely\", \"confirm\", \"confirm\", \"confirm\", \"confirm\", \"confirm\", \"confirm\", \"coronavirus\", \"coronavirus\", \"coronavirus\", \"coronavirus\", \"coronavirus\", \"cost\", \"cost\", \"cost\", \"cost\", \"cost\", \"cough\", \"cough\", \"cough\", \"cough\", \"could\", \"could\", \"could\", \"could\", \"could\", \"could\", \"council\", \"council\", \"council\", \"council\", \"council\", \"country\", \"country\", \"country\", \"country\", \"country\", \"country\", \"covid\", \"covid\", \"covid\", \"covid\", \"create\", \"create\", \"create\", \"create\", \"create\", \"crew\", \"crew\", \"crew\", \"crew\", \"cruise\", \"cruise\", \"cruise\", \"cruise\", \"cruise\", \"cruise_ship\", \"cruise_ship\", \"cruise_ship\", \"cruise_ship\", \"current_concern\", \"customer\", \"customer\", \"daily\", \"daily\", \"daily\", \"daily\", \"daily\", \"daily_mail\", \"daily_mail\", \"daily_mail\", \"daily_mail\", \"danger\", \"danger\", \"danger\", \"darwin\", \"darwin\", \"darwin\", \"datum\", \"datum\", \"datum\", \"day\", \"day\", \"day\", \"day\", \"day\", \"day\", \"death\", \"death\", \"death\", \"death\", \"death\", \"death\", \"decline\", \"decline\", \"depart\", \"depart\", \"destroy\", \"destroy\", \"destroy\", \"destroy\", \"detention\", \"detention\", \"develop\", \"develop\", \"develop\", \"develop\", \"develop\", \"develop\", \"diamond\", \"diamond\", \"diamond\", \"diamond_princess\", \"diamond_princess\", \"diamond_princess\", \"disaster\", \"disaster\", \"disaster\", \"disease\", \"disease\", \"disease\", \"disease\", \"disease\", \"disease\", \"dock\", \"donat\", \"donat\", \"donat\", \"donat\", \"donat\", \"economic\", \"economic\", \"economic\", \"economy\", \"economy\", \"economy\", \"education\", \"education\", \"education\", \"education\", \"education\", \"empty\", \"empty\", \"empty\", \"empty\", \"entire_hubei\", \"environment\", \"environment\", \"environment\", \"environment\", \"evacuate\", \"evacuate\", \"evacuate\", \"evacuate\", \"evacuate\", \"evacuee\", \"even\", \"even\", \"even\", \"even\", \"even\", \"even\", \"explain\", \"explain\", \"explain\", \"explain\", \"explain\", \"explain\", \"exposure\", \"exposure\", \"exposure\", \"exposure\", \"extend\", \"extend\", \"extend\", \"extend\", \"extreme\", \"extreme\", \"extreme\", \"extreme\", \"face\", \"face\", \"face\", \"face\", \"face\", \"face\", \"face_mask\", \"face_mask\", \"face_mask\", \"face_mask\", \"facebook\", \"facebook\", \"facebook\", \"factor\", \"factor\", \"factor\", \"failure\", \"failure\", \"failure\", \"feature\", \"feature\", \"feature\", \"february\", \"february\", \"february\", \"february\", \"february\", \"february_february\", \"february_february\", \"february_february\", \"february_south\", \"february_south\", \"february_south\", \"feel\", \"feel\", \"feel\", \"feel\", \"feel\", \"feel\", \"female\", \"female\", \"female\", \"female\", \"fever\", \"fever\", \"financial\", \"financial\", \"financial\", \"find\", \"find\", \"find\", \"find\", \"find\", \"find\", \"finding\", \"finding\", \"finding\", \"fine\", \"fine\", \"fine\", \"fine\", \"fine\", \"fine\", \"fire\", \"fire\", \"fire\", \"fire\", \"first\", \"first\", \"first\", \"first\", \"first\", \"first\", \"flight\", \"flight\", \"flight\", \"flight\", \"flight\", \"food\", \"food\", \"food\", \"food\", \"form\", \"form\", \"form\", \"form\", \"gathering\", \"gathering\", \"gathering\", \"get\", \"get\", \"get\", \"get\", \"get\", \"get\", \"go\", \"go\", \"go\", \"go\", \"go\", \"go\", \"gold_coast\", \"gold_coast\", \"gold_coast\", \"government\", \"government\", \"government\", \"government\", \"government\", \"government\", \"gp\", \"gp\", \"group\", \"group\", \"group\", \"group\", \"group\", \"group\", \"hand\", \"hand\", \"hand\", \"hand\", \"hand\", \"hand\", \"health\", \"health\", \"health\", \"health\", \"health\", \"health\", \"help\", \"help\", \"help\", \"help\", \"help\", \"help\", \"high\", \"high\", \"high\", \"high\", \"high\", \"high\", \"history\", \"home\", \"home\", \"home\", \"home\", \"home\", \"home\", \"hospital\", \"hospital\", \"hospital\", \"hospital\", \"hospital\", \"hospital\", \"hubei\", \"hubei\", \"hubei\", \"image\", \"image\", \"image\", \"image\", \"image\", \"image\", \"include\", \"include\", \"include\", \"include\", \"include\", \"include\", \"infect\", \"infect\", \"infect\", \"infect\", \"infected\", \"infected\", \"infected\", \"infected\", \"infection\", \"infection\", \"infection\", \"infection\", \"infection\", \"intensive\", \"intensive\", \"intensive\", \"intensive\", \"intensive_care\", \"intensive_care\", \"intensive_care\", \"intensive_care\", \"international\", \"international\", \"international\", \"international\", \"international\", \"international\", \"island\", \"island\", \"island\", \"island\", \"isolation\", \"isolation\", \"isolation\", \"isolation\", \"isolation\", \"itas\", \"itas\", \"itas\", \"itas\", \"january\", \"january\", \"january\", \"january\", \"january\", \"january\", \"january_february\", \"january_february\", \"january_february\", \"january_january\", \"january_january\", \"january_january\", \"january_january\", \"japan\", \"japan\", \"japan\", \"japan\", \"japan\", \"japanese\", \"japanese\", \"japanese\", \"japanese\", \"journal\", \"journal\", \"journal\", \"journal\", \"know\", \"know\", \"know\", \"know\", \"know\", \"know\", \"last\", \"last\", \"last\", \"last\", \"last\", \"last\", \"law\", \"law\", \"law\", \"law\", \"law\", \"level\", \"level\", \"level\", \"level\", \"level\", \"level\", \"light\", \"light\", \"light\", \"light\", \"light\", \"like\", \"like\", \"like\", \"like\", \"like\", \"like\", \"link\", \"link\", \"link\", \"link\", \"location\", \"location\", \"location\", \"location\", \"mail\", \"mail\", \"mail\", \"mail\", \"make\", \"make\", \"make\", \"make\", \"make\", \"make\", \"man\", \"man\", \"man\", \"man\", \"man\", \"many\", \"many\", \"many\", \"many\", \"many\", \"many\", \"march\", \"march\", \"march\", \"march\", \"march\", \"march\", \"mask\", \"mask\", \"mask\", \"mask\", \"mask\", \"mask\", \"mass\", \"mass\", \"mass\", \"material\", \"material\", \"material\", \"material\", \"may\", \"may\", \"may\", \"may\", \"may\", \"may\", \"medical\", \"medical\", \"medical\", \"medical\", \"medical\", \"medical\", \"medical_advice\", \"medical_advice\", \"melbourne\", \"melbourne\", \"melbourne\", \"melbourne\", \"melbourne\", \"melbourne\", \"mild\", \"mild\", \"mild\", \"minister\", \"minister\", \"minister\", \"minister\", \"minister\", \"minister\", \"monash\", \"monash\", \"monash\", \"monash\", \"morrison\", \"morrison\", \"morrison\", \"morrison\", \"morrison\", \"mr\", \"mr\", \"mr\", \"mr\", \"mr\", \"mr\", \"natural\", \"natural\", \"natural\", \"natural\", \"natural\", \"need\", \"need\", \"need\", \"need\", \"need\", \"need\", \"network\", \"network\", \"network\", \"network\", \"normal\", \"normal\", \"normal\", \"normal\", \"normal\", \"normal\", \"normally\", \"normally\", \"normally\", \"normally\", \"not\", \"not\", \"not\", \"not\", \"not\", \"not\", \"novel_coronavirus\", \"novel_coronavirus\", \"novel_coronavirus\", \"novel_coronavirus\", \"nsw\", \"nsw\", \"nsw\", \"nsw\", \"nsw\", \"nsw\", \"nsw_health\", \"nsw_health\", \"nsw_health\", \"officer_dr\", \"officer_dr\", \"one\", \"one\", \"one\", \"one\", \"one\", \"one\", \"online\", \"online\", \"online\", \"online\", \"online\", \"organ\", \"organ\", \"outbreak\", \"outbreak\", \"outbreak\", \"outbreak\", \"pandemic\", \"pandemic\", \"pandemic\", \"pandemic\", \"passenger\", \"passenger\", \"passenger\", \"passenger\", \"patient\", \"patient\", \"patient\", \"patient\", \"patient\", \"people_globally\", \"people_globally\", \"people_globally\", \"per\", \"per\", \"per\", \"per\", \"per\", \"per\", \"per_cent\", \"per_cent\", \"per_cent\", \"per_cent\", \"per_cent\", \"phone\", \"phone\", \"phone\", \"picture\", \"picture\", \"picture\", \"picture\", \"picture\", \"picture\", \"play\", \"play\", \"play\", \"play\", \"play\", \"pneumonia\", \"post\", \"post\", \"post\", \"post\", \"post\", \"prime_minister\", \"prime_minister\", \"prime_minister\", \"prime_minister\", \"prime_minister\", \"princess\", \"princess\", \"princess\", \"problem\", \"problem\", \"problem\", \"problem\", \"problem\", \"problem\", \"professor\", \"professor\", \"professor\", \"professor\", \"professor\", \"project\", \"project\", \"property\", \"property\", \"property\", \"provide\", \"provide\", \"provide\", \"provide\", \"provide\", \"province\", \"province\", \"province\", \"province\", \"qanta\", \"qanta\", \"qanta\", \"qantas\", \"qantas\", \"qantas\", \"qantas_flight\", \"qantas_flight\", \"quality\", \"quality\", \"quality\", \"quarantine\", \"quarantine\", \"quarantine\", \"quarantine\", \"quarantine\", \"queensland\", \"queensland\", \"queensland\", \"queensland\", \"queensland\", \"queensland\", \"question\", \"question\", \"question\", \"question\", \"question\", \"range\", \"range\", \"range\", \"range\", \"represent\", \"represent\", \"represent\", \"research\", \"research\", \"research\", \"research\", \"researcher\", \"researcher\", \"researcher\", \"researcher\", \"resource\", \"resource\", \"resource\", \"resource\", \"respiratory_syndrome\", \"respiratory_syndrome\", \"restaurant\", \"restaurant\", \"restaurant\", \"restaurant\", \"restriction\", \"restriction\", \"restriction\", \"restriction\", \"result\", \"result\", \"result\", \"result\", \"result\", \"result\", \"review\", \"review\", \"review\", \"review\", \"risk\", \"risk\", \"risk\", \"risk\", \"risk\", \"risk\", \"sars\", \"sars\", \"sars\", \"say_unless\", \"scenario\", \"scenario\", \"scenario\", \"scenario\", \"school\", \"school\", \"school\", \"school\", \"school\", \"school\", \"scientist\", \"scientist\", \"scientist\", \"scott_morrison\", \"scott_morrison\", \"scott_morrison\", \"scott_morrison\", \"scott_morrison\", \"season\", \"season\", \"season\", \"season\", \"sector\", \"sector\", \"sector\", \"sell\", \"sell\", \"sell\", \"sell\", \"sell\", \"semester\", \"semester\", \"senior\", \"senior\", \"senior\", \"severe_acute\", \"shanghai\", \"shanghai\", \"shanghai\", \"shanghai\", \"shelf\", \"shelf\", \"ship\", \"ship\", \"ship\", \"ship\", \"shop\", \"shop\", \"shop\", \"site\", \"site\", \"site\", \"site\", \"site\", \"small_group\", \"small_group\", \"small_group\", \"smoke\", \"smoke\", \"sore\", \"sore\", \"sore\", \"south\", \"south\", \"south\", \"south\", \"south\", \"south\", \"spread\", \"spread\", \"spread\", \"spread\", \"spread\", \"spread\", \"stay_home\", \"stay_home\", \"stay_home\", \"stock\", \"stock\", \"stock\", \"stock\", \"stock\", \"store\", \"store\", \"store\", \"store\", \"store\", \"street\", \"street\", \"street\", \"street\", \"street\", \"street\", \"student\", \"student\", \"student\", \"student\", \"student\", \"study\", \"study\", \"study\", \"study\", \"suburb\", \"suburb\", \"suburb\", \"suburb\", \"supermarket\", \"supermarket\", \"supply\", \"supply\", \"supply\", \"supply\", \"supply\", \"supply\", \"swell\", \"sydney\", \"sydney\", \"sydney\", \"sydney\", \"sydney\", \"sydney\", \"symptom\", \"symptom\", \"symptom\", \"symptom\", \"symptom\", \"syndrome\", \"syndrome\", \"syndrome\", \"taiwan\", \"taiwan\", \"taiwan\", \"take\", \"take\", \"take\", \"take\", \"take\", \"take\", \"tell\", \"tell\", \"tell\", \"tell\", \"tell\", \"tell\", \"test\", \"test\", \"test\", \"test\", \"test\", \"test\", \"thailand\", \"thailand\", \"thailand\", \"think\", \"think\", \"think\", \"think\", \"think\", \"think\", \"throat\", \"throat\", \"time\", \"time\", \"time\", \"time\", \"time\", \"time\", \"toilet\", \"toilet\", \"toilet\", \"toilet\", \"toilet\", \"tokyo\", \"tokyo\", \"tokyo\", \"town\", \"town\", \"town\", \"town\", \"town\", \"trade\", \"trade\", \"trade\", \"trade\", \"transfer\", \"transfer\", \"transfer\", \"travel\", \"travel\", \"travel\", \"travel\", \"travel\", \"travel\", \"travel_alert\", \"travel_ban\", \"travel_ban\", \"travel_ban\", \"treat\", \"treat\", \"treat\", \"treat\", \"treat\", \"treat\", \"two\", \"two\", \"two\", \"two\", \"two\", \"two\", \"typical\", \"typical\", \"typical\", \"university\", \"university\", \"university\", \"university\", \"university\", \"university\", \"untreated\", \"untreated\", \"unwell\", \"unwell\", \"use\", \"use\", \"use\", \"use\", \"use\", \"use\", \"value\", \"value\", \"value\", \"vessel\", \"vessel\", \"victoria\", \"victoria\", \"victoria\", \"victoria\", \"victoria\", \"victoria\", \"view\", \"view\", \"view\", \"view\", \"virus\", \"virus\", \"virus\", \"virus\", \"vulnerable\", \"vulnerable\", \"vulnerable\", \"way\", \"way\", \"way\", \"way\", \"way\", \"way\", \"wear\", \"wear\", \"wear\", \"wear\", \"wear\", \"wear\", \"wear_mask\", \"wear_mask\", \"wear_mask\", \"wear_mask\", \"wear_mask\", \"weather\", \"weather\", \"weather\", \"weather\", \"week\", \"week\", \"week\", \"week\", \"week\", \"week\", \"well\", \"well\", \"well\", \"well\", \"well\", \"well\", \"woman\", \"woman\", \"woman\", \"woman\", \"woman\", \"work\", \"work\", \"work\", \"work\", \"work\", \"work\", \"worth\", \"worth\", \"worth\", \"worth\", \"would\", \"would\", \"would\", \"would\", \"would\", \"would\", \"wuhan\", \"wuhan\", \"wuhan\", \"wuhan\", \"year\", \"year\", \"year\", \"year\", \"year\", \"year\", \"yokohama\", \"zealand\", \"zealand\", \"zealand\", \"zealand\", \"zealand\", \"zealand\"]}, \"R\": 30, \"lambda.step\": 0.01, \"plot.opts\": {\"xlab\": \"PC1\", \"ylab\": \"PC2\"}, \"topic.order\": [1, 6, 4, 5, 3, 2]};\n",
       "\n",
       "function LDAvis_load_lib(url, callback){\n",
       "  var s = document.createElement('script');\n",
       "  s.src = url;\n",
       "  s.async = true;\n",
       "  s.onreadystatechange = s.onload = callback;\n",
       "  s.onerror = function(){console.warn(\"failed to load library \" + url);};\n",
       "  document.getElementsByTagName(\"head\")[0].appendChild(s);\n",
       "}\n",
       "\n",
       "if(typeof(LDAvis) !== \"undefined\"){\n",
       "   // already loaded: just create the visualization\n",
       "   !function(LDAvis){\n",
       "       new LDAvis(\"#\" + \"ldavis_el919619287441622484403661739\", ldavis_el919619287441622484403661739_data);\n",
       "   }(LDAvis);\n",
       "}else if(typeof define === \"function\" && define.amd){\n",
       "   // require.js is available: use it to load d3/LDAvis\n",
       "   require.config({paths: {d3: \"https://cdnjs.cloudflare.com/ajax/libs/d3/3.5.5/d3.min\"}});\n",
       "   require([\"d3\"], function(d3){\n",
       "      window.d3 = d3;\n",
       "      LDAvis_load_lib(\"https://cdn.rawgit.com/bmabey/pyLDAvis/files/ldavis.v1.0.0.js\", function(){\n",
       "        new LDAvis(\"#\" + \"ldavis_el919619287441622484403661739\", ldavis_el919619287441622484403661739_data);\n",
       "      });\n",
       "    });\n",
       "}else{\n",
       "    // require.js not available: dynamically load d3 & LDAvis\n",
       "    LDAvis_load_lib(\"https://cdnjs.cloudflare.com/ajax/libs/d3/3.5.5/d3.min.js\", function(){\n",
       "         LDAvis_load_lib(\"https://cdn.rawgit.com/bmabey/pyLDAvis/files/ldavis.v1.0.0.js\", function(){\n",
       "                 new LDAvis(\"#\" + \"ldavis_el919619287441622484403661739\", ldavis_el919619287441622484403661739_data);\n",
       "            })\n",
       "         });\n",
       "}\n",
       "</script>"
      ],
      "text/plain": [
       "<IPython.core.display.HTML object>"
      ]
     },
     "execution_count": 605,
     "metadata": {},
     "output_type": "execute_result"
    }
   ],
   "source": [
    "monash_lda_display = pyLDAvis.gensim.prepare(monash_model, monash_corpus, monash_dictionary, sort_topics = True)\n",
    "pyLDAvis.display(monash_lda_display)"
   ]
  },
  {
   "cell_type": "code",
   "execution_count": null,
   "metadata": {},
   "outputs": [],
   "source": []
  },
  {
   "cell_type": "code",
   "execution_count": null,
   "metadata": {},
   "outputs": [],
   "source": []
  }
 ],
 "metadata": {
  "kernelspec": {
   "display_name": "Python 3",
   "language": "python",
   "name": "python3"
  },
  "language_info": {
   "codemirror_mode": {
    "name": "ipython",
    "version": 3
   },
   "file_extension": ".py",
   "mimetype": "text/x-python",
   "name": "python",
   "nbconvert_exporter": "python",
   "pygments_lexer": "ipython3",
   "version": "3.7.7"
  }
 },
 "nbformat": 4,
 "nbformat_minor": 2
}
